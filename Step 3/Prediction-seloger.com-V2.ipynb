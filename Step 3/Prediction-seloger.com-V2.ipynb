 {
 "cells": [
  {
   "cell_type": "code",
   "execution_count": 26,
   "metadata": {},
   "outputs": [],
   "source": [
    "import pandas as pd\n",
    "import numpy as np"
   ]
  },
  {
   "cell_type": "code",
   "execution_count": 27,
   "metadata": {},
   "outputs": [
    {
     "data": {
      "text/html": [
       "<div>\n",
       "<style scoped>\n",
       "    .dataframe tbody tr th:only-of-type {\n",
       "        vertical-align: middle;\n",
       "    }\n",
       "\n",
       "    .dataframe tbody tr th {\n",
       "        vertical-align: top;\n",
       "    }\n",
       "\n",
       "    .dataframe thead th {\n",
       "        text-align: right;\n",
       "    }\n",
       "</style>\n",
       "<table border=\"1\" class=\"dataframe\">\n",
       "  <thead>\n",
       "    <tr style=\"text-align: right;\">\n",
       "      <th></th>\n",
       "      <th>price(€)</th>\n",
       "      <th>monthly(€)</th>\n",
       "      <th>energy_performance_diagnosis_(kWhEP/m².year)</th>\n",
       "      <th>Greenhouse_gas_emission(kgeqCO2/m².year)</th>\n",
       "      <th>terrace</th>\n",
       "      <th>view</th>\n",
       "      <th>area(m²)</th>\n",
       "      <th>room</th>\n",
       "      <th>bedroom</th>\n",
       "      <th>year_of_construction</th>\n",
       "      <th>...</th>\n",
       "      <th>est, ouest</th>\n",
       "      <th>est, ouest, sud</th>\n",
       "      <th>est, sud</th>\n",
       "      <th>nord</th>\n",
       "      <th>nord, ouest</th>\n",
       "      <th>nord, ouest, sud</th>\n",
       "      <th>nord, sud</th>\n",
       "      <th>ouest</th>\n",
       "      <th>ouest, sud</th>\n",
       "      <th>sud</th>\n",
       "    </tr>\n",
       "  </thead>\n",
       "  <tbody>\n",
       "    <tr>\n",
       "      <th>0</th>\n",
       "      <td>459000</td>\n",
       "      <td>1900</td>\n",
       "      <td>218.0</td>\n",
       "      <td>40.0</td>\n",
       "      <td>0</td>\n",
       "      <td>0</td>\n",
       "      <td>188.037689</td>\n",
       "      <td>9</td>\n",
       "      <td>6</td>\n",
       "      <td>1982.0</td>\n",
       "      <td>...</td>\n",
       "      <td>1</td>\n",
       "      <td>0</td>\n",
       "      <td>0</td>\n",
       "      <td>0</td>\n",
       "      <td>0</td>\n",
       "      <td>0</td>\n",
       "      <td>0</td>\n",
       "      <td>0</td>\n",
       "      <td>0</td>\n",
       "      <td>0</td>\n",
       "    </tr>\n",
       "    <tr>\n",
       "      <th>1</th>\n",
       "      <td>319000</td>\n",
       "      <td>1324</td>\n",
       "      <td>307.0</td>\n",
       "      <td>17.0</td>\n",
       "      <td>0</td>\n",
       "      <td>0</td>\n",
       "      <td>151.977132</td>\n",
       "      <td>6</td>\n",
       "      <td>4</td>\n",
       "      <td>0.0</td>\n",
       "      <td>...</td>\n",
       "      <td>1</td>\n",
       "      <td>0</td>\n",
       "      <td>0</td>\n",
       "      <td>0</td>\n",
       "      <td>0</td>\n",
       "      <td>0</td>\n",
       "      <td>0</td>\n",
       "      <td>0</td>\n",
       "      <td>0</td>\n",
       "      <td>0</td>\n",
       "    </tr>\n",
       "    <tr>\n",
       "      <th>2</th>\n",
       "      <td>343930</td>\n",
       "      <td>1426</td>\n",
       "      <td>250.0</td>\n",
       "      <td>15.0</td>\n",
       "      <td>0</td>\n",
       "      <td>0</td>\n",
       "      <td>147.990534</td>\n",
       "      <td>7</td>\n",
       "      <td>5</td>\n",
       "      <td>0.0</td>\n",
       "      <td>...</td>\n",
       "      <td>0</td>\n",
       "      <td>0</td>\n",
       "      <td>0</td>\n",
       "      <td>0</td>\n",
       "      <td>0</td>\n",
       "      <td>0</td>\n",
       "      <td>0</td>\n",
       "      <td>0</td>\n",
       "      <td>0</td>\n",
       "      <td>1</td>\n",
       "    </tr>\n",
       "    <tr>\n",
       "      <th>3</th>\n",
       "      <td>392600</td>\n",
       "      <td>1627</td>\n",
       "      <td>187.0</td>\n",
       "      <td>8.0</td>\n",
       "      <td>0</td>\n",
       "      <td>0</td>\n",
       "      <td>147.983415</td>\n",
       "      <td>5</td>\n",
       "      <td>3</td>\n",
       "      <td>0.0</td>\n",
       "      <td>...</td>\n",
       "      <td>0</td>\n",
       "      <td>0</td>\n",
       "      <td>0</td>\n",
       "      <td>0</td>\n",
       "      <td>0</td>\n",
       "      <td>0</td>\n",
       "      <td>0</td>\n",
       "      <td>0</td>\n",
       "      <td>0</td>\n",
       "      <td>0</td>\n",
       "    </tr>\n",
       "    <tr>\n",
       "      <th>4</th>\n",
       "      <td>459000</td>\n",
       "      <td>1900</td>\n",
       "      <td>218.0</td>\n",
       "      <td>37.0</td>\n",
       "      <td>0</td>\n",
       "      <td>0</td>\n",
       "      <td>188.037689</td>\n",
       "      <td>8</td>\n",
       "      <td>5</td>\n",
       "      <td>1982.0</td>\n",
       "      <td>...</td>\n",
       "      <td>0</td>\n",
       "      <td>0</td>\n",
       "      <td>0</td>\n",
       "      <td>0</td>\n",
       "      <td>0</td>\n",
       "      <td>0</td>\n",
       "      <td>0</td>\n",
       "      <td>0</td>\n",
       "      <td>0</td>\n",
       "      <td>1</td>\n",
       "    </tr>\n",
       "    <tr>\n",
       "      <th>...</th>\n",
       "      <td>...</td>\n",
       "      <td>...</td>\n",
       "      <td>...</td>\n",
       "      <td>...</td>\n",
       "      <td>...</td>\n",
       "      <td>...</td>\n",
       "      <td>...</td>\n",
       "      <td>...</td>\n",
       "      <td>...</td>\n",
       "      <td>...</td>\n",
       "      <td>...</td>\n",
       "      <td>...</td>\n",
       "      <td>...</td>\n",
       "      <td>...</td>\n",
       "      <td>...</td>\n",
       "      <td>...</td>\n",
       "      <td>...</td>\n",
       "      <td>...</td>\n",
       "      <td>...</td>\n",
       "      <td>...</td>\n",
       "      <td>...</td>\n",
       "    </tr>\n",
       "    <tr>\n",
       "      <th>7142</th>\n",
       "      <td>249000</td>\n",
       "      <td>1035</td>\n",
       "      <td>0.0</td>\n",
       "      <td>0.0</td>\n",
       "      <td>0</td>\n",
       "      <td>0</td>\n",
       "      <td>229.070837</td>\n",
       "      <td>7</td>\n",
       "      <td>3</td>\n",
       "      <td>0.0</td>\n",
       "      <td>...</td>\n",
       "      <td>0</td>\n",
       "      <td>0</td>\n",
       "      <td>0</td>\n",
       "      <td>0</td>\n",
       "      <td>0</td>\n",
       "      <td>0</td>\n",
       "      <td>0</td>\n",
       "      <td>0</td>\n",
       "      <td>0</td>\n",
       "      <td>0</td>\n",
       "    </tr>\n",
       "    <tr>\n",
       "      <th>7143</th>\n",
       "      <td>242000</td>\n",
       "      <td>1006</td>\n",
       "      <td>0.0</td>\n",
       "      <td>0.0</td>\n",
       "      <td>0</td>\n",
       "      <td>0</td>\n",
       "      <td>95.013742</td>\n",
       "      <td>4</td>\n",
       "      <td>3</td>\n",
       "      <td>0.0</td>\n",
       "      <td>...</td>\n",
       "      <td>1</td>\n",
       "      <td>0</td>\n",
       "      <td>0</td>\n",
       "      <td>0</td>\n",
       "      <td>0</td>\n",
       "      <td>0</td>\n",
       "      <td>0</td>\n",
       "      <td>0</td>\n",
       "      <td>0</td>\n",
       "      <td>0</td>\n",
       "    </tr>\n",
       "    <tr>\n",
       "      <th>7144</th>\n",
       "      <td>281000</td>\n",
       "      <td>1167</td>\n",
       "      <td>142.0</td>\n",
       "      <td>33.0</td>\n",
       "      <td>0</td>\n",
       "      <td>0</td>\n",
       "      <td>95.969945</td>\n",
       "      <td>4</td>\n",
       "      <td>2</td>\n",
       "      <td>1900.0</td>\n",
       "      <td>...</td>\n",
       "      <td>0</td>\n",
       "      <td>0</td>\n",
       "      <td>1</td>\n",
       "      <td>0</td>\n",
       "      <td>0</td>\n",
       "      <td>0</td>\n",
       "      <td>0</td>\n",
       "      <td>0</td>\n",
       "      <td>0</td>\n",
       "      <td>0</td>\n",
       "    </tr>\n",
       "    <tr>\n",
       "      <th>7145</th>\n",
       "      <td>490000</td>\n",
       "      <td>2028</td>\n",
       "      <td>60.0</td>\n",
       "      <td>14.0</td>\n",
       "      <td>0</td>\n",
       "      <td>0</td>\n",
       "      <td>200.000000</td>\n",
       "      <td>9</td>\n",
       "      <td>4</td>\n",
       "      <td>0.0</td>\n",
       "      <td>...</td>\n",
       "      <td>0</td>\n",
       "      <td>0</td>\n",
       "      <td>0</td>\n",
       "      <td>0</td>\n",
       "      <td>0</td>\n",
       "      <td>0</td>\n",
       "      <td>0</td>\n",
       "      <td>0</td>\n",
       "      <td>0</td>\n",
       "      <td>0</td>\n",
       "    </tr>\n",
       "    <tr>\n",
       "      <th>7146</th>\n",
       "      <td>519000</td>\n",
       "      <td>2148</td>\n",
       "      <td>312.0</td>\n",
       "      <td>73.0</td>\n",
       "      <td>0</td>\n",
       "      <td>0</td>\n",
       "      <td>110.992301</td>\n",
       "      <td>4</td>\n",
       "      <td>2</td>\n",
       "      <td>1974.0</td>\n",
       "      <td>...</td>\n",
       "      <td>0</td>\n",
       "      <td>0</td>\n",
       "      <td>0</td>\n",
       "      <td>0</td>\n",
       "      <td>0</td>\n",
       "      <td>0</td>\n",
       "      <td>0</td>\n",
       "      <td>0</td>\n",
       "      <td>0</td>\n",
       "      <td>0</td>\n",
       "    </tr>\n",
       "  </tbody>\n",
       "</table>\n",
       "<p>7147 rows × 849 columns</p>\n",
       "</div>"
      ],
      "text/plain": [
       "      price(€)  monthly(€)  energy_performance_diagnosis_(kWhEP/m².year)  \\\n",
       "0       459000        1900                                         218.0   \n",
       "1       319000        1324                                         307.0   \n",
       "2       343930        1426                                         250.0   \n",
       "3       392600        1627                                         187.0   \n",
       "4       459000        1900                                         218.0   \n",
       "...        ...         ...                                           ...   \n",
       "7142    249000        1035                                           0.0   \n",
       "7143    242000        1006                                           0.0   \n",
       "7144    281000        1167                                         142.0   \n",
       "7145    490000        2028                                          60.0   \n",
       "7146    519000        2148                                         312.0   \n",
       "\n",
       "      Greenhouse_gas_emission(kgeqCO2/m².year)  terrace  view    area(m²)  \\\n",
       "0                                         40.0        0     0  188.037689   \n",
       "1                                         17.0        0     0  151.977132   \n",
       "2                                         15.0        0     0  147.990534   \n",
       "3                                          8.0        0     0  147.983415   \n",
       "4                                         37.0        0     0  188.037689   \n",
       "...                                        ...      ...   ...         ...   \n",
       "7142                                       0.0        0     0  229.070837   \n",
       "7143                                       0.0        0     0   95.013742   \n",
       "7144                                      33.0        0     0   95.969945   \n",
       "7145                                      14.0        0     0  200.000000   \n",
       "7146                                      73.0        0     0  110.992301   \n",
       "\n",
       "      room  bedroom  year_of_construction  ...  est, ouest  est, ouest, sud  \\\n",
       "0        9        6                1982.0  ...           1                0   \n",
       "1        6        4                   0.0  ...           1                0   \n",
       "2        7        5                   0.0  ...           0                0   \n",
       "3        5        3                   0.0  ...           0                0   \n",
       "4        8        5                1982.0  ...           0                0   \n",
       "...    ...      ...                   ...  ...         ...              ...   \n",
       "7142     7        3                   0.0  ...           0                0   \n",
       "7143     4        3                   0.0  ...           1                0   \n",
       "7144     4        2                1900.0  ...           0                0   \n",
       "7145     9        4                   0.0  ...           0                0   \n",
       "7146     4        2                1974.0  ...           0                0   \n",
       "\n",
       "      est, sud  nord  nord, ouest  nord, ouest, sud  nord, sud  ouest  \\\n",
       "0            0     0            0                 0          0      0   \n",
       "1            0     0            0                 0          0      0   \n",
       "2            0     0            0                 0          0      0   \n",
       "3            0     0            0                 0          0      0   \n",
       "4            0     0            0                 0          0      0   \n",
       "...        ...   ...          ...               ...        ...    ...   \n",
       "7142         0     0            0                 0          0      0   \n",
       "7143         0     0            0                 0          0      0   \n",
       "7144         1     0            0                 0          0      0   \n",
       "7145         0     0            0                 0          0      0   \n",
       "7146         0     0            0                 0          0      0   \n",
       "\n",
       "      ouest, sud  sud  \n",
       "0              0    0  \n",
       "1              0    0  \n",
       "2              0    1  \n",
       "3              0    0  \n",
       "4              0    1  \n",
       "...          ...  ...  \n",
       "7142           0    0  \n",
       "7143           0    0  \n",
       "7144           0    0  \n",
       "7145           0    0  \n",
       "7146           0    0  \n",
       "\n",
       "[7147 rows x 849 columns]"
      ]
     },
     "execution_count": 27,
     "metadata": {},
     "output_type": "execute_result"
    }
   ],
   "source": [
    "df = pd.read_csv(\"final_clean_data_V2.csv\")\n",
    "df"
   ]
  },
  {
   "cell_type": "code",
   "execution_count": 28,
   "metadata": {},
   "outputs": [
    {
     "data": {
      "text/html": [
       "<div>\n",
       "<style scoped>\n",
       "    .dataframe tbody tr th:only-of-type {\n",
       "        vertical-align: middle;\n",
       "    }\n",
       "\n",
       "    .dataframe tbody tr th {\n",
       "        vertical-align: top;\n",
       "    }\n",
       "\n",
       "    .dataframe thead th {\n",
       "        text-align: right;\n",
       "    }\n",
       "</style>\n",
       "<table border=\"1\" class=\"dataframe\">\n",
       "  <thead>\n",
       "    <tr style=\"text-align: right;\">\n",
       "      <th></th>\n",
       "      <th>price(€)</th>\n",
       "    </tr>\n",
       "  </thead>\n",
       "  <tbody>\n",
       "    <tr>\n",
       "      <th>0</th>\n",
       "      <td>13.036805</td>\n",
       "    </tr>\n",
       "    <tr>\n",
       "      <th>1</th>\n",
       "      <td>12.672946</td>\n",
       "    </tr>\n",
       "    <tr>\n",
       "      <th>2</th>\n",
       "      <td>12.748193</td>\n",
       "    </tr>\n",
       "    <tr>\n",
       "      <th>3</th>\n",
       "      <td>12.880547</td>\n",
       "    </tr>\n",
       "    <tr>\n",
       "      <th>4</th>\n",
       "      <td>13.036805</td>\n",
       "    </tr>\n",
       "    <tr>\n",
       "      <th>...</th>\n",
       "      <td>...</td>\n",
       "    </tr>\n",
       "    <tr>\n",
       "      <th>7142</th>\n",
       "      <td>12.425208</td>\n",
       "    </tr>\n",
       "    <tr>\n",
       "      <th>7143</th>\n",
       "      <td>12.396693</td>\n",
       "    </tr>\n",
       "    <tr>\n",
       "      <th>7144</th>\n",
       "      <td>12.546110</td>\n",
       "    </tr>\n",
       "    <tr>\n",
       "      <th>7145</th>\n",
       "      <td>13.102161</td>\n",
       "    </tr>\n",
       "    <tr>\n",
       "      <th>7146</th>\n",
       "      <td>13.159659</td>\n",
       "    </tr>\n",
       "  </tbody>\n",
       "</table>\n",
       "<p>7147 rows × 1 columns</p>\n",
       "</div>"
      ],
      "text/plain": [
       "       price(€)\n",
       "0     13.036805\n",
       "1     12.672946\n",
       "2     12.748193\n",
       "3     12.880547\n",
       "4     13.036805\n",
       "...         ...\n",
       "7142  12.425208\n",
       "7143  12.396693\n",
       "7144  12.546110\n",
       "7145  13.102161\n",
       "7146  13.159659\n",
       "\n",
       "[7147 rows x 1 columns]"
      ]
     },
     "execution_count": 28,
     "metadata": {},
     "output_type": "execute_result"
    }
   ],
   "source": [
    "y1_price = pd.DataFrame(np.log(df['price(€)']))\n",
    "y2_monthly = pd.DataFrame(np.log(df['monthly(€)']))\n",
    "df = df.drop('price(€)', 1)\n",
    "df = df.drop('monthly(€)', 1)\n",
    "x = pd.DataFrame(df)\n",
    "y1_price"
   ]
  },
  {
   "cell_type": "markdown",
   "metadata": {},
   "source": [
    "<h1>Prediction of the prices</h1>"
   ]
  },
  {
   "cell_type": "markdown",
   "metadata": {},
   "source": [
    "<h2>Linear Regression</h2>"
   ]
  },
  {
   "cell_type": "code",
   "execution_count": 41,
   "metadata": {},
   "outputs": [],
   "source": [
    "from sklearn.linear_model import LinearRegression\n",
    "from sklearn.model_selection import train_test_split    \n",
    "\n",
    "model=LinearRegression()         \n",
    "\n",
    "X_train, X_test, Y_train_price, Y_test_price = train_test_split(x, y1_price.values.ravel(), test_size=0.2)    \n",
    "\n",
    "model.fit(X_train, Y_train_price)            \n",
    "predictions=model.predict(X_test)"
   ]
  },
  {
   "cell_type": "code",
   "execution_count": 42,
   "metadata": {},
   "outputs": [
    {
     "name": "stdout",
     "output_type": "stream",
     "text": [
      "Model score= 0.7894221772088614\n",
      "RMSE = 2.385538701090188\n"
     ]
    }
   ],
   "source": [
    "from sklearn.metrics import mean_squared_error\n",
    "from math import sqrt\n",
    "\n",
    "print(\"Model score= \" + str(model.score(X_train, Y_train_price)))\n",
    "print(\"RMSE = \" + str(sqrt(mean_squared_error(Y_test_price, predictions))))"
   ]
  },
  {
   "cell_type": "markdown",
   "metadata": {},
   "source": [
    "<h2>Random Forest Regressor</h2>"
   ]
  },
  {
   "cell_type": "code",
   "execution_count": 64,
   "metadata": {},
   "outputs": [
    {
     "name": "stderr",
     "output_type": "stream",
     "text": [
      "C:\\Users\\admin\\Anaconda3\\lib\\site-packages\\sklearn\\ensemble\\forest.py:246: FutureWarning: The default value of n_estimators will change from 10 in version 0.20 to 100 in 0.22.\n",
      "  \"10 in version 0.20 to 100 in 0.22.\", FutureWarning)\n"
     ]
    }
   ],
   "source": [
    "from sklearn.ensemble import RandomForestRegressor\n",
    "\n",
    "model = RandomForestRegressor()\n",
    "\n",
    "X_train, X_test, Y_train_price, Y_test_price = train_test_split(x, y1_price.values.ravel(), test_size=0.2)    \n",
    "\n",
    "model.fit(X_train, Y_train_price)           \n",
    "predictions=model.predict(X_test)"
   ]
  },
  {
   "cell_type": "code",
   "execution_count": 65,
   "metadata": {},
   "outputs": [
    {
     "name": "stdout",
     "output_type": "stream",
     "text": [
      "Model score= 0.9360177436394961\n",
      "RMSE = 0.33012108838679993\n"
     ]
    }
   ],
   "source": [
    "from sklearn.metrics import mean_squared_error\n",
    "from math import sqrt\n",
    "\n",
    "print(\"Model score= \" + str(model.score(X_train, Y_train_price)))\n",
    "print(\"RMSE = \" + str(sqrt(mean_squared_error(Y_test_price, predictions))))"
   ]
  },
  {
   "cell_type": "code",
   "execution_count": 66,
   "metadata": {},
   "outputs": [
    {
     "data": {
      "text/plain": [
       "array([ 0.04278184,  0.19017297, -0.20246579, ...,  0.15020902,\n",
       "        0.18035637, -0.24744271])"
      ]
     },
     "execution_count": 66,
     "metadata": {},
     "output_type": "execute_result"
    }
   ],
   "source": [
    "Y_test_price - predictions"
   ]
  },
  {
   "cell_type": "markdown",
   "metadata": {},
   "source": [
    "<h2>Decision Tree Regressor</h2>"
   ]
  },
  {
   "cell_type": "code",
   "execution_count": 87,
   "metadata": {},
   "outputs": [],
   "source": [
    "from sklearn.tree import DecisionTreeRegressor\n",
    "\n",
    "model = DecisionTreeRegressor()\n",
    "\n",
    "X_train, X_test, Y_train_price, Y_test_price = train_test_split(x, y1_price.values.ravel(), test_size=0.2)     \n",
    "\n",
    "model.fit(X_train, Y_train_price)            \n",
    "predictions=model.predict(X_test)"
   ]
  },
  {
   "cell_type": "code",
   "execution_count": 88,
   "metadata": {},
   "outputs": [
    {
     "name": "stdout",
     "output_type": "stream",
     "text": [
      "Model score= 0.9999963147794619\n",
      "RMSE = 0.3976671374370213\n"
     ]
    }
   ],
   "source": [
    "from sklearn.metrics import mean_squared_error\n",
    "from math import sqrt\n",
    "\n",
    "print(\"Model score= \" + str(model.score(X_train, Y_train_price)))\n",
    "print(\"RMSE = \" + str(sqrt(mean_squared_error(Y_test_price, predictions))))"
   ]
  },
  {
   "cell_type": "markdown",
   "metadata": {},
   "source": [
    "<h2>Regression using Keras</h2>"
   ]
  },
  {
   "cell_type": "code",
   "execution_count": 12,
   "metadata": {},
   "outputs": [
    {
     "name": "stderr",
     "output_type": "stream",
     "text": [
      "Using TensorFlow backend.\n"
     ]
    }
   ],
   "source": [
    "import matplotlib.pyplot as plt\n",
    "from keras.layers import Dense\n",
    "from keras.models import Sequential\n",
    "from keras.callbacks import EarlyStopping\n",
    "\n",
    "X_train, X_test, Y_train_price, Y_test_price = train_test_split(x, y1_price.values.ravel(), test_size=0.2)    \n",
    "\n",
    "model = Sequential()\n",
    "n_cols = x.shape[1]\n",
    "model.add(Dense(100,activation='relu',input_shape=(n_cols,)))\n",
    "model.add(Dense(120,activation='relu'))\n",
    "model.add(Dense(130,activation='relu'))\n",
    "model.add(Dense(120,activation='relu'))\n",
    "model.add(Dense(120,activation='relu'))\n",
    "model.add(Dense(1))\n",
    "model.compile(optimizer='adam',loss='mean_squared_error',metrics=['accuracy'])"
   ]
  },
  {
   "cell_type": "code",
   "execution_count": 13,
   "metadata": {},
   "outputs": [
    {
     "name": "stderr",
     "output_type": "stream",
     "text": [
      "WARNING: Logging before flag parsing goes to stderr.\n",
      "W0426 17:13:44.178741  6672 deprecation_wrapper.py:119] From C:\\Users\\admin\\Anaconda3\\lib\\site-packages\\keras\\backend\\tensorflow_backend.py:422: The name tf.global_variables is deprecated. Please use tf.compat.v1.global_variables instead.\n",
      "\n"
     ]
    },
    {
     "name": "stdout",
     "output_type": "stream",
     "text": [
      "Train on 4573 samples, validate on 1144 samples\n",
      "Epoch 1/50\n",
      "4573/4573 [==============================] - 2s 333us/step - loss: 35.5093 - accuracy: 0.0000e+00 - val_loss: 30.6437 - val_accuracy: 0.0000e+00\n",
      "Epoch 2/50\n",
      "4573/4573 [==============================] - 1s 204us/step - loss: 9.7526 - accuracy: 0.0000e+00 - val_loss: 28.4260 - val_accuracy: 0.0000e+00\n",
      "Epoch 3/50\n",
      "4573/4573 [==============================] - 1s 222us/step - loss: 9.3851 - accuracy: 0.0000e+00 - val_loss: 26.2779 - val_accuracy: 0.0000e+00\n",
      "Epoch 4/50\n",
      "4573/4573 [==============================] - 1s 214us/step - loss: 6.5367 - accuracy: 0.0000e+00 - val_loss: 21.1082 - val_accuracy: 0.0000e+00\n",
      "Epoch 5/50\n",
      "4573/4573 [==============================] - 1s 210us/step - loss: 2.5568 - accuracy: 0.0000e+00 - val_loss: 19.9565 - val_accuracy: 0.0000e+00\n",
      "Epoch 6/50\n",
      "4573/4573 [==============================] - 1s 203us/step - loss: 7.6597 - accuracy: 0.0000e+00 - val_loss: 55.3651 - val_accuracy: 0.0000e+00\n",
      "Epoch 7/50\n",
      "4573/4573 [==============================] - 1s 243us/step - loss: 24.0680 - accuracy: 0.0000e+00 - val_loss: 20.0497 - val_accuracy: 0.0000e+00\n",
      "Epoch 8/50\n",
      "4573/4573 [==============================] - 1s 226us/step - loss: 4.3367 - accuracy: 0.0000e+00 - val_loss: 21.2390 - val_accuracy: 0.0000e+00\n",
      "Epoch 9/50\n",
      "4573/4573 [==============================] - 1s 225us/step - loss: 2.1403 - accuracy: 0.0000e+00 - val_loss: 24.1507 - val_accuracy: 0.0000e+00\n",
      "Epoch 10/50\n",
      "4573/4573 [==============================] - 1s 232us/step - loss: 6.0777 - accuracy: 0.0000e+00 - val_loss: 19.0460 - val_accuracy: 0.0000e+00\n",
      "Epoch 11/50\n",
      "4573/4573 [==============================] - 1s 218us/step - loss: 9.6934 - accuracy: 0.0000e+00 - val_loss: 20.8677 - val_accuracy: 0.0000e+00\n",
      "Epoch 12/50\n",
      "4573/4573 [==============================] - 1s 223us/step - loss: 8.8480 - accuracy: 0.0000e+00 - val_loss: 17.5890 - val_accuracy: 0.0000e+00\n",
      "Epoch 13/50\n",
      "4573/4573 [==============================] - 1s 232us/step - loss: 0.7172 - accuracy: 0.0000e+00 - val_loss: 18.8062 - val_accuracy: 0.0000e+00\n",
      "Epoch 14/50\n",
      "4573/4573 [==============================] - 1s 216us/step - loss: 3.3647 - accuracy: 0.0000e+00 - val_loss: 19.0089 - val_accuracy: 0.0000e+00\n",
      "Epoch 15/50\n",
      "4573/4573 [==============================] - 1s 226us/step - loss: 3.7434 - accuracy: 0.0000e+00 - val_loss: 18.3864 - val_accuracy: 0.0000e+00\n",
      "Epoch 16/50\n",
      "4573/4573 [==============================] - 1s 246us/step - loss: 2.5506 - accuracy: 0.0000e+00 - val_loss: 21.6914 - val_accuracy: 0.0000e+00\n",
      "Epoch 17/50\n",
      "4573/4573 [==============================] - 1s 227us/step - loss: 9.1657 - accuracy: 0.0000e+00 - val_loss: 30.5216 - val_accuracy: 0.0000e+00\n",
      "Epoch 18/50\n",
      "4573/4573 [==============================] - 1s 225us/step - loss: 10.8409 - accuracy: 0.0000e+00 - val_loss: 18.1132 - val_accuracy: 0.0000e+00\n",
      "Epoch 19/50\n",
      "4573/4573 [==============================] - 1s 216us/step - loss: 1.9536 - accuracy: 0.0000e+00 - val_loss: 17.2312 - val_accuracy: 0.0000e+00\n",
      "Epoch 20/50\n",
      "4573/4573 [==============================] - 1s 228us/step - loss: 1.3355 - accuracy: 0.0000e+00 - val_loss: 18.5040 - val_accuracy: 0.0000e+00\n",
      "Epoch 21/50\n",
      "4573/4573 [==============================] - 1s 221us/step - loss: 7.2822 - accuracy: 0.0000e+00 - val_loss: 16.9197 - val_accuracy: 0.0000e+00\n",
      "Epoch 22/50\n",
      "4573/4573 [==============================] - 1s 217us/step - loss: 1.4863 - accuracy: 0.0000e+00 - val_loss: 15.4506 - val_accuracy: 0.0000e+00\n",
      "Epoch 23/50\n",
      "4573/4573 [==============================] - 1s 234us/step - loss: 1.1133 - accuracy: 0.0000e+00 - val_loss: 15.0422 - val_accuracy: 0.0000e+00\n",
      "Epoch 24/50\n",
      "4573/4573 [==============================] - 1s 207us/step - loss: 9.3143 - accuracy: 0.0000e+00 - val_loss: 16.7023 - val_accuracy: 0.0000e+00\n",
      "Epoch 25/50\n",
      "4573/4573 [==============================] - 1s 224us/step - loss: 0.6293 - accuracy: 0.0000e+00 - val_loss: 14.5943 - val_accuracy: 0.0000e+00\n",
      "Epoch 26/50\n",
      "4573/4573 [==============================] - 1s 210us/step - loss: 7.0621 - accuracy: 0.0000e+00 - val_loss: 46.7050 - val_accuracy: 0.0000e+00\n",
      "Epoch 27/50\n",
      "4573/4573 [==============================] - 1s 219us/step - loss: 2.3659 - accuracy: 0.0000e+00 - val_loss: 15.8159 - val_accuracy: 0.0000e+00\n",
      "Epoch 28/50\n",
      "4573/4573 [==============================] - 1s 212us/step - loss: 0.4776 - accuracy: 0.0000e+00 - val_loss: 14.0889 - val_accuracy: 0.0000e+00\n",
      "Epoch 29/50\n",
      "4573/4573 [==============================] - 1s 215us/step - loss: 0.7638 - accuracy: 0.0000e+00 - val_loss: 15.1222 - val_accuracy: 0.0000e+00\n",
      "Epoch 30/50\n",
      "4573/4573 [==============================] - 1s 210us/step - loss: 0.4345 - accuracy: 0.0000e+00 - val_loss: 16.0917 - val_accuracy: 0.0000e+00\n",
      "Epoch 31/50\n",
      "4573/4573 [==============================] - 1s 218us/step - loss: 1.0540 - accuracy: 0.0000e+00 - val_loss: 16.1511 - val_accuracy: 0.0000e+00\n",
      "Epoch 32/50\n",
      "4573/4573 [==============================] - 1s 212us/step - loss: 0.3781 - accuracy: 0.0000e+00 - val_loss: 15.7323 - val_accuracy: 0.0000e+00\n",
      "Epoch 33/50\n",
      "4573/4573 [==============================] - 1s 222us/step - loss: 1.6070 - accuracy: 0.0000e+00 - val_loss: 14.5952 - val_accuracy: 0.0000e+00\n",
      "Epoch 34/50\n",
      "4573/4573 [==============================] - 1s 213us/step - loss: 0.3377 - accuracy: 0.0000e+00 - val_loss: 16.1116 - val_accuracy: 0.0000e+00\n",
      "Epoch 35/50\n",
      "4573/4573 [==============================] - 1s 226us/step - loss: 0.4127 - accuracy: 0.0000e+00 - val_loss: 13.9253 - val_accuracy: 0.0000e+00\n",
      "Epoch 36/50\n",
      "4573/4573 [==============================] - 1s 211us/step - loss: 0.2730 - accuracy: 0.0000e+00 - val_loss: 14.6939 - val_accuracy: 0.0000e+00\n",
      "Epoch 37/50\n",
      "4573/4573 [==============================] - 1s 215us/step - loss: 0.2452 - accuracy: 0.0000e+00 - val_loss: 14.3180 - val_accuracy: 0.0000e+00\n",
      "Epoch 38/50\n",
      "4573/4573 [==============================] - 1s 204us/step - loss: 0.2220 - accuracy: 0.0000e+00 - val_loss: 13.8342 - val_accuracy: 0.0000e+00\n",
      "Epoch 39/50\n",
      "4573/4573 [==============================] - 1s 219us/step - loss: 0.2340 - accuracy: 0.0000e+00 - val_loss: 13.6298 - val_accuracy: 0.0000e+00\n",
      "Epoch 40/50\n",
      "4573/4573 [==============================] - 1s 207us/step - loss: 0.2223 - accuracy: 0.0000e+00 - val_loss: 13.7401 - val_accuracy: 0.0000e+00\n",
      "Epoch 41/50\n",
      "4573/4573 [==============================] - 1s 211us/step - loss: 0.2170 - accuracy: 0.0000e+00 - val_loss: 13.7182 - val_accuracy: 0.0000e+00\n",
      "Epoch 42/50\n",
      "4573/4573 [==============================] - 1s 203us/step - loss: 0.2029 - accuracy: 0.0000e+00 - val_loss: 14.5995 - val_accuracy: 0.0000e+00\n",
      "Epoch 43/50\n",
      "4573/4573 [==============================] - 1s 207us/step - loss: 0.1891 - accuracy: 0.0000e+00 - val_loss: 14.2818 - val_accuracy: 0.0000e+00\n",
      "Epoch 44/50\n",
      "4573/4573 [==============================] - 1s 205us/step - loss: 0.1869 - accuracy: 0.0000e+00 - val_loss: 12.4284 - val_accuracy: 0.0000e+00\n",
      "Epoch 45/50\n",
      "4573/4573 [==============================] - 1s 217us/step - loss: 0.1850 - accuracy: 0.0000e+00 - val_loss: 13.9087 - val_accuracy: 0.0000e+00\n",
      "Epoch 46/50\n",
      "4573/4573 [==============================] - 1s 206us/step - loss: 0.1770 - accuracy: 0.0000e+00 - val_loss: 13.7858 - val_accuracy: 0.0000e+00\n",
      "Epoch 47/50\n",
      "4573/4573 [==============================] - 1s 206us/step - loss: 0.1711 - accuracy: 0.0000e+00 - val_loss: 14.5953 - val_accuracy: 0.0000e+00\n",
      "Epoch 48/50\n",
      "4573/4573 [==============================] - 1s 206us/step - loss: 0.1699 - accuracy: 0.0000e+00 - val_loss: 13.1169 - val_accuracy: 0.0000e+00\n",
      "Epoch 49/50\n",
      "4573/4573 [==============================] - 1s 214us/step - loss: 0.1685 - accuracy: 0.0000e+00 - val_loss: 13.3259 - val_accuracy: 0.0000e+00\n",
      "Epoch 50/50\n",
      "4573/4573 [==============================] - 1s 210us/step - loss: 0.1512 - accuracy: 0.0000e+00 - val_loss: 13.0622 - val_accuracy: 0.0000e+00\n"
     ]
    },
    {
     "data": {
      "image/png": "[encoded data removed]",
      "text/plain": [
       "<Figure size 432x288 with 1 Axes>"
      ]
     },
     "metadata": {
      "needs_background": "light"
     },
     "output_type": "display_data"
    }
   ],
   "source": [
    "history = model.fit(X_train, Y_train_price,validation_split = 0.2, epochs=50)\n",
    "plt.plot(history.history['accuracy'])\n",
    "plt.plot(history.history['val_accuracy'])\n",
    "plt.title('model accuracy')\n",
    "plt.ylabel('accuracy')\n",
    "plt.xlabel('epoch')\n",
    "plt.legend(['train', 'val'], loc='upper left')\n",
    "plt.show()"
   ]
  },
  {
   "cell_type": "code",
   "execution_count": 14,
   "metadata": {},
   "outputs": [
    {
     "data": {
      "image/png": "[encoded data removed]",
      "text/plain": [
       "<Figure size 432x288 with 1 Axes>"
      ]
     },
     "metadata": {
      "needs_background": "light"
     },
     "output_type": "display_data"
    }
   ],
   "source": [
    "plt.plot(history.history['loss'])\n",
    "plt.plot(history.history['val_loss'])\n",
    "plt.title('model loss')\n",
    "plt.ylabel('loss')\n",
    "plt.xlabel('epoch')\n",
    "plt.legend(['train', 'val'], loc='upper left')\n",
    "plt.show()"
   ]
  },
  {
   "cell_type": "code",
   "execution_count": 15,
   "metadata": {},
   "outputs": [
    {
     "name": "stdout",
     "output_type": "stream",
     "text": [
      "RMSE = 0.878418963904857\n"
     ]
    }
   ],
   "source": [
    "from sklearn.metrics import mean_squared_error\n",
    "from math import sqrt\n",
    "\n",
    "print(\"RMSE = \" + str(sqrt(mean_squared_error(Y_test_price, predictions))))"
   ]
  },
  {
   "cell_type": "markdown",
   "metadata": {},
   "source": [
    "<h1>Prediction of the monthly prices</h1>"
   ]
  },
  {
   "cell_type": "markdown",
   "metadata": {},
   "source": [
    "<h2>Linear Regression</h2>"
   ]
  },
  {
   "cell_type": "code",
   "execution_count": 47,
   "metadata": {},
   "outputs": [],
   "source": [
    "from sklearn.linear_model import LinearRegression\n",
    "from sklearn.model_selection import train_test_split    \n",
    "\n",
    "model=LinearRegression()         \n",
    "\n",
    "X_train, X_test, Y_train_monthly, Y_test_monthly = train_test_split(x, y2_monthly.values.ravel(), test_size=0.2)    \n",
    "\n",
    "model.fit(X_train, Y_train_monthly)            \n",
    "predictions=model.predict(X_test)"
   ]
  },
  {
   "cell_type": "code",
   "execution_count": 48,
   "metadata": {},
   "outputs": [
    {
     "name": "stdout",
     "output_type": "stream",
     "text": [
      "Model score= 0.8370914631076332\n",
      "RMSE = 2.644407816429222\n"
     ]
    }
   ],
   "source": [
    "from sklearn.metrics import mean_squared_error\n",
    "from math import sqrt\n",
    "\n",
    "print(\"Model score= \" + str(model.score(X_train, Y_train_monthly)))\n",
    "print(\"RMSE = \" + str(sqrt(mean_squared_error(Y_test_monthly, predictions))))"
   ]
  },
  {
   "cell_type": "markdown",
   "metadata": {},
   "source": [
    "<h2>Random Forest Regressor</h2>"
   ]
  },
  {
   "cell_type": "code",
   "execution_count": 106,
   "metadata": {},
   "outputs": [
    {
     "name": "stderr",
     "output_type": "stream",
     "text": [
      "C:\\Users\\admin\\Anaconda3\\lib\\site-packages\\sklearn\\ensemble\\forest.py:246: FutureWarning: The default value of n_estimators will change from 10 in version 0.20 to 100 in 0.22.\n",
      "  \"10 in version 0.20 to 100 in 0.22.\", FutureWarning)\n"
     ]
    }
   ],
   "source": [
    "from sklearn.ensemble import RandomForestRegressor\n",
    "\n",
    "model = RandomForestRegressor()\n",
    "\n",
    "X_train, X_test, Y_train_monthly, Y_test_monthly = train_test_split(x, y2_monthly.values.ravel(), test_size=0.2)    \n",
    "\n",
    "model.fit(X_train, Y_train_monthly)           \n",
    "predictions=model.predict(X_test)"
   ]
  },
  {
   "cell_type": "code",
   "execution_count": 107,
   "metadata": {},
   "outputs": [
    {
     "name": "stdout",
     "output_type": "stream",
     "text": [
      "Model score= 0.9504955228748221\n",
      "RMSE = 0.32189653697825305\n"
     ]
    }
   ],
   "source": [
    "from sklearn.metrics import mean_squared_error\n",
    "from math import sqrt\n",
    "\n",
    "print(\"Model score= \" + str(model.score(X_train, Y_train_monthly)))\n",
    "print(\"RMSE = \" + str(sqrt(mean_squared_error(Y_test_monthly, predictions))))"
   ]
  },
  {
   "cell_type": "markdown",
   "metadata": {},
   "source": [
    "<h2>Decision Tree Regressor</h2>"
   ]
  },
  {
   "cell_type": "code",
   "execution_count": 122,
   "metadata": {},
   "outputs": [],
   "source": [
    "from sklearn.tree import DecisionTreeRegressor\n",
    "\n",
    "model = DecisionTreeRegressor()\n",
    "\n",
    "X_train, X_test, Y_train_monthly, Y_test_monthly = train_test_split(x, y2_monthly.values.ravel(), test_size=0.2)     \n",
    "\n",
    "model.fit(X_train, Y_train_monthly)            \n",
    "predictions=model.predict(X_test)"
   ]
  },
  {
   "cell_type": "code",
   "execution_count": 123,
   "metadata": {},
   "outputs": [
    {
     "name": "stdout",
     "output_type": "stream",
     "text": [
      "Model score= 0.9999906392365204\n",
      "RMSE = 0.4665849908022691\n"
     ]
    }
   ],
   "source": [
    "from sklearn.metrics import mean_squared_error\n",
    "from math import sqrt\n",
    "\n",
    "print(\"Model score= \" + str(model.score(X_train, Y_train_monthly)))\n",
    "print(\"RMSE = \" + str(sqrt(mean_squared_error(Y_test_monthly, predictions))))"
   ]
  },
  {
   "cell_type": "markdown",
   "metadata": {},
   "source": [
    "<h2>Regression using Keras</h2>"
   ]
  },
  {
   "cell_type": "code",
   "execution_count": 22,
   "metadata": {},
   "outputs": [],
   "source": [
    "import matplotlib.pyplot as plt\n",
    "from keras.layers import Dense\n",
    "from keras.models import Sequential\n",
    "from keras.callbacks import EarlyStopping\n",
    "\n",
    "X_train, X_test, Y_train_monthly, Y_test_monthly = train_test_split(x, y2_monthly.values.ravel(), test_size=0.2)    \n",
    "\n",
    "model = Sequential()\n",
    "n_cols = x.shape[1]\n",
    "model.add(Dense(100,activation='relu',input_shape=(n_cols,)))\n",
    "model.add(Dense(120,activation='relu'))\n",
    "model.add(Dense(130,activation='relu'))\n",
    "model.add(Dense(120,activation='relu'))\n",
    "model.add(Dense(120,activation='relu'))\n",
    "model.add(Dense(1))\n",
    "model.compile(optimizer='adam',loss='mean_squared_error',metrics=['accuracy'])"
   ]
  },
  {
   "cell_type": "code",
   "execution_count": 23,
   "metadata": {},
   "outputs": [
    {
     "name": "stdout",
     "output_type": "stream",
     "text": [
      "Train on 4573 samples, validate on 1144 samples\n",
      "Epoch 1/50\n",
      "4573/4573 [==============================] - 1s 274us/step - loss: 16.3871 - accuracy: 0.0000e+00 - val_loss: 2.8922 - val_accuracy: 0.0000e+00\n",
      "Epoch 2/50\n",
      "4573/4573 [==============================] - 1s 217us/step - loss: 4.6950 - accuracy: 0.0000e+00 - val_loss: 1.2102 - val_accuracy: 0.0000e+00\n",
      "Epoch 3/50\n",
      "4573/4573 [==============================] - 1s 222us/step - loss: 1.7724 - accuracy: 0.0000e+00 - val_loss: 0.8135 - val_accuracy: 0.0000e+00\n",
      "Epoch 4/50\n",
      "4573/4573 [==============================] - 1s 219us/step - loss: 6.0351 - accuracy: 0.0000e+00 - val_loss: 0.8343 - val_accuracy: 0.0000e+00\n",
      "Epoch 5/50\n",
      "4573/4573 [==============================] - 1s 213us/step - loss: 2.6731 - accuracy: 0.0000e+00 - val_loss: 0.6046 - val_accuracy: 0.0000e+00\n",
      "Epoch 6/50\n",
      "4573/4573 [==============================] - 1s 217us/step - loss: 0.9585 - accuracy: 0.0000e+00 - val_loss: 0.7233 - val_accuracy: 0.0000e+00\n",
      "Epoch 7/50\n",
      "4573/4573 [==============================] - 1s 216us/step - loss: 1.5638 - accuracy: 0.0000e+00 - val_loss: 26.8366 - val_accuracy: 0.0000e+00\n",
      "Epoch 8/50\n",
      "4573/4573 [==============================] - 1s 208us/step - loss: 3.3709 - accuracy: 0.0000e+00 - val_loss: 16.8940 - val_accuracy: 0.0000e+00\n",
      "Epoch 9/50\n",
      "4573/4573 [==============================] - 1s 210us/step - loss: 1.3236 - accuracy: 0.0000e+00 - val_loss: 1.9301 - val_accuracy: 0.0000e+00\n",
      "Epoch 10/50\n",
      "4573/4573 [==============================] - 1s 207us/step - loss: 2.1331 - accuracy: 0.0000e+00 - val_loss: 2.1733 - val_accuracy: 0.0000e+00\n",
      "Epoch 11/50\n",
      "4573/4573 [==============================] - 1s 219us/step - loss: 2.9705 - accuracy: 0.0000e+00 - val_loss: 1.0799 - val_accuracy: 0.0000e+00\n",
      "Epoch 12/50\n",
      "4573/4573 [==============================] - 1s 216us/step - loss: 4.8975 - accuracy: 0.0000e+00 - val_loss: 0.7243 - val_accuracy: 0.0000e+00\n",
      "Epoch 13/50\n",
      "4573/4573 [==============================] - 1s 216us/step - loss: 1.1884 - accuracy: 0.0000e+00 - val_loss: 0.5382 - val_accuracy: 0.0000e+00\n",
      "Epoch 14/50\n",
      "4573/4573 [==============================] - 1s 213us/step - loss: 1.0914 - accuracy: 0.0000e+00 - val_loss: 0.7370 - val_accuracy: 0.0000e+00\n",
      "Epoch 15/50\n",
      "4573/4573 [==============================] - 1s 222us/step - loss: 3.8560 - accuracy: 0.0000e+00 - val_loss: 0.9127 - val_accuracy: 0.0000e+00\n",
      "Epoch 16/50\n",
      "4573/4573 [==============================] - 1s 215us/step - loss: 2.1162 - accuracy: 0.0000e+00 - val_loss: 0.3780 - val_accuracy: 0.0000e+00\n",
      "Epoch 17/50\n",
      "4573/4573 [==============================] - 1s 221us/step - loss: 1.4293 - accuracy: 0.0000e+00 - val_loss: 0.2940 - val_accuracy: 0.0000e+00\n",
      "Epoch 18/50\n",
      "4573/4573 [==============================] - 1s 215us/step - loss: 2.7551 - accuracy: 0.0000e+00 - val_loss: 0.3573 - val_accuracy: 0.0000e+00\n",
      "Epoch 19/50\n",
      "4573/4573 [==============================] - 1s 211us/step - loss: 4.4896 - accuracy: 0.0000e+00 - val_loss: 0.7010 - val_accuracy: 0.0000e+00\n",
      "Epoch 20/50\n",
      "4573/4573 [==============================] - 1s 214us/step - loss: 2.4385 - accuracy: 0.0000e+00 - val_loss: 0.5698 - val_accuracy: 0.0000e+00\n",
      "Epoch 21/50\n",
      "4573/4573 [==============================] - 1s 216us/step - loss: 4.9392 - accuracy: 0.0000e+00 - val_loss: 7.8191 - val_accuracy: 0.0000e+00\n",
      "Epoch 22/50\n",
      "4573/4573 [==============================] - 1s 215us/step - loss: 4.2302 - accuracy: 0.0000e+00 - val_loss: 0.3289 - val_accuracy: 0.0000e+00\n",
      "Epoch 23/50\n",
      "4573/4573 [==============================] - 1s 227us/step - loss: 3.1884 - accuracy: 0.0000e+00 - val_loss: 0.2931 - val_accuracy: 0.0000e+00\n",
      "Epoch 24/50\n",
      "4573/4573 [==============================] - 1s 217us/step - loss: 0.3015 - accuracy: 0.0000e+00 - val_loss: 1.8926 - val_accuracy: 0.0000e+00\n",
      "Epoch 25/50\n",
      "4573/4573 [==============================] - 1s 218us/step - loss: 4.5617 - accuracy: 0.0000e+00 - val_loss: 0.4772 - val_accuracy: 0.0000e+00\n",
      "Epoch 26/50\n",
      "4573/4573 [==============================] - 1s 216us/step - loss: 1.1005 - accuracy: 0.0000e+00 - val_loss: 0.4067 - val_accuracy: 0.0000e+00\n",
      "Epoch 27/50\n",
      "4573/4573 [==============================] - 1s 215us/step - loss: 3.6880 - accuracy: 0.0000e+00 - val_loss: 2.1556 - val_accuracy: 0.0000e+00\n",
      "Epoch 28/50\n",
      "4573/4573 [==============================] - 1s 213us/step - loss: 5.6745 - accuracy: 0.0000e+00 - val_loss: 0.4607 - val_accuracy: 0.0000e+00\n",
      "Epoch 29/50\n",
      "4573/4573 [==============================] - 1s 215us/step - loss: 1.2215 - accuracy: 0.0000e+00 - val_loss: 0.2924 - val_accuracy: 0.0000e+00\n",
      "Epoch 30/50\n",
      "4573/4573 [==============================] - 1s 219us/step - loss: 4.8582 - accuracy: 0.0000e+00 - val_loss: 1.2978 - val_accuracy: 0.0000e+00\n",
      "Epoch 31/50\n",
      "4573/4573 [==============================] - 1s 225us/step - loss: 7.9936 - accuracy: 0.0000e+00 - val_loss: 0.2974 - val_accuracy: 0.0000e+00\n",
      "Epoch 32/50\n",
      "4573/4573 [==============================] - 1s 215us/step - loss: 1.2300 - accuracy: 0.0000e+00 - val_loss: 0.5026 - val_accuracy: 0.0000e+00\n",
      "Epoch 33/50\n",
      "4573/4573 [==============================] - 1s 222us/step - loss: 1.8812 - accuracy: 0.0000e+00 - val_loss: 0.3281 - val_accuracy: 0.0000e+00\n",
      "Epoch 34/50\n",
      "4573/4573 [==============================] - 1s 209us/step - loss: 6.1011 - accuracy: 0.0000e+00 - val_loss: 0.3589 - val_accuracy: 0.0000e+00\n",
      "Epoch 35/50\n",
      "4573/4573 [==============================] - 1s 219us/step - loss: 1.0470 - accuracy: 0.0000e+00 - val_loss: 0.4744 - val_accuracy: 0.0000e+00\n",
      "Epoch 36/50\n",
      "4573/4573 [==============================] - 1s 207us/step - loss: 0.7419 - accuracy: 0.0000e+00 - val_loss: 0.3349 - val_accuracy: 0.0000e+00\n",
      "Epoch 37/50\n",
      "4573/4573 [==============================] - 1s 213us/step - loss: 2.5158 - accuracy: 0.0000e+00 - val_loss: 0.2459 - val_accuracy: 0.0000e+00\n",
      "Epoch 38/50\n",
      "4573/4573 [==============================] - 1s 212us/step - loss: 0.7855 - accuracy: 0.0000e+00 - val_loss: 0.2735 - val_accuracy: 0.0000e+00\n",
      "Epoch 39/50\n",
      "4573/4573 [==============================] - 1s 216us/step - loss: 0.2622 - accuracy: 0.0000e+00 - val_loss: 0.6242 - val_accuracy: 0.0000e+00\n",
      "Epoch 40/50\n",
      "4573/4573 [==============================] - 1s 211us/step - loss: 1.2367 - accuracy: 0.0000e+00 - val_loss: 1.0643 - val_accuracy: 0.0000e+00\n",
      "Epoch 41/50\n",
      "4573/4573 [==============================] - 1s 216us/step - loss: 2.6678 - accuracy: 0.0000e+00 - val_loss: 0.3105 - val_accuracy: 0.0000e+00\n",
      "Epoch 42/50\n",
      "4573/4573 [==============================] - 1s 212us/step - loss: 8.0714 - accuracy: 0.0000e+00 - val_loss: 1.2169 - val_accuracy: 0.0000e+00\n",
      "Epoch 43/50\n",
      "4573/4573 [==============================] - 1s 223us/step - loss: 4.7776 - accuracy: 0.0000e+00 - val_loss: 0.3807 - val_accuracy: 0.0000e+00\n",
      "Epoch 44/50\n",
      "4573/4573 [==============================] - 1s 218us/step - loss: 0.4990 - accuracy: 0.0000e+00 - val_loss: 0.4185 - val_accuracy: 0.0000e+00\n",
      "Epoch 45/50\n",
      "4573/4573 [==============================] - 1s 221us/step - loss: 0.3726 - accuracy: 0.0000e+00 - val_loss: 1.2829 - val_accuracy: 0.0000e+00\n",
      "Epoch 46/50\n",
      "4573/4573 [==============================] - 1s 213us/step - loss: 2.1143 - accuracy: 0.0000e+00 - val_loss: 0.2279 - val_accuracy: 0.0000e+00\n",
      "Epoch 47/50\n",
      "4573/4573 [==============================] - 1s 216us/step - loss: 0.2972 - accuracy: 0.0000e+00 - val_loss: 0.2418 - val_accuracy: 0.0000e+00\n",
      "Epoch 48/50\n",
      "4573/4573 [==============================] - 1s 211us/step - loss: 0.2578 - accuracy: 0.0000e+00 - val_loss: 0.2253 - val_accuracy: 0.0000e+00\n",
      "Epoch 49/50\n",
      "4573/4573 [==============================] - 1s 217us/step - loss: 0.3886 - accuracy: 0.0000e+00 - val_loss: 0.2457 - val_accuracy: 0.0000e+00\n",
      "Epoch 50/50\n",
      "4573/4573 [==============================] - 1s 220us/step - loss: 0.2362 - accuracy: 0.0000e+00 - val_loss: 0.2822 - val_accuracy: 0.0000e+00\n"
     ]
    },
    {
     "data": {
      "image/png": "[encoded data removed]",
      "text/plain": [
       "<Figure size 432x288 with 1 Axes>"
      ]
     },
     "metadata": {
      "needs_background": "light"
     },
     "output_type": "display_data"
    }
   ],
   "source": [
    "history = model.fit(X_train, Y_train_monthly,validation_split = 0.2, epochs=50)\n",
    "plt.plot(history.history['accuracy'])\n",
    "plt.plot(history.history['val_accuracy'])\n",
    "plt.title('model accuracy')\n",
    "plt.ylabel('accuracy')\n",
    "plt.xlabel('epoch')\n",
    "plt.legend(['train', 'val'], loc='upper left')\n",
    "plt.show()"
   ]
  },
  {
   "cell_type": "code",
   "execution_count": 24,
   "metadata": {},
   "outputs": [
    {
     "data": {
      "image/png": "[encoded data removed]",
      "text/plain": [
       "<Figure size 432x288 with 1 Axes>"
      ]
     },
     "metadata": {
      "needs_background": "light"
     },
     "output_type": "display_data"
    }
   ],
   "source": [
    "plt.plot(history.history['loss'])\n",
    "plt.plot(history.history['val_loss'])\n",
    "plt.title('model loss')\n",
    "plt.ylabel('loss')\n",
    "plt.xlabel('epoch')\n",
    "plt.legend(['train', 'val'], loc='upper left')\n",
    "plt.show()"
   ]
  },
  {
   "cell_type": "code",
   "execution_count": 25,
   "metadata": {},
   "outputs": [
    {
     "name": "stdout",
     "output_type": "stream",
     "text": [
      "RMSE = 0.900853014316883\n"
     ]
    }
   ],
   "source": [
    "from sklearn.metrics import mean_squared_error\n",
    "from math import sqrt\n",
    "\n",
    "print(\"RMSE = \" + str(sqrt(mean_squared_error(Y_test_monthly, predictions))))"
   ]
  }
 ],
 "metadata": {
  "kernelspec": {
   "display_name": "Python 3",
   "language": "python",
   "name": "python3"
  },
  "language_info": {
   "codemirror_mode": {
    "name": "ipython",
    "version": 3
   },
   "file_extension": ".py",
   "mimetype": "text/x-python",
   "name": "python",
   "nbconvert_exporter": "python",
   "pygments_lexer": "ipython3",
   "version": "3.6.9"
  }
 },
 "nbformat": 4,
 "nbformat_minor": 4
}
