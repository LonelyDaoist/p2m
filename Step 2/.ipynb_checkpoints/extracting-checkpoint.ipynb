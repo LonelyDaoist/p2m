{
 "cells": [
  {
   "cell_type": "code",
   "execution_count": 121,
   "metadata": {},
   "outputs": [],
   "source": [
    "import pandas as pd"
   ]
  },
  {
   "cell_type": "code",
   "execution_count": 122,
   "metadata": {},
   "outputs": [],
   "source": [
    "content = pd.read_csv('./full_data.csv')"
   ]
  },
  {
   "cell_type": "code",
   "execution_count": 123,
   "metadata": {},
   "outputs": [
    {
     "data": {
      "text/plain": [
       "(3693, 12)"
      ]
     },
     "execution_count": 123,
     "metadata": {},
     "output_type": "execute_result"
    }
   ],
   "source": [
    "content.shape"
   ]
  },
  {
   "cell_type": "code",
   "execution_count": 124,
   "metadata": {},
   "outputs": [],
   "source": [
    "content.drop_duplicates(inplace=True)"
   ]
  },
  {
   "cell_type": "code",
   "execution_count": 140,
   "metadata": {},
   "outputs": [
    {
     "name": "stdout",
     "output_type": "stream",
     "text": [
      "<class 'pandas.core.frame.DataFrame'>\n",
      "Int64Index: 1993 entries, 0 to 3692\n",
      "Data columns (total 18 columns):\n",
      " #   Column                                                    Non-Null Count  Dtype  \n",
      "---  ------                                                    --------------  -----  \n",
      " 0   category                                                  1992 non-null   object \n",
      " 1   piece                                                     1968 non-null   object \n",
      " 2   chambres                                                  1955 non-null   object \n",
      " 3   area                                                      1973 non-null   object \n",
      " 4   price                                                     1992 non-null   object \n",
      " 5   monthly                                                   1992 non-null   object \n",
      " 6   description                                               1663 non-null   object \n",
      " 7   Diagnostic de performance énergétique(kWhEP/m².an)        1461 non-null   float64\n",
      " 8   Indice d'émission de gaz à effet de serre(kgeqCO2/m².an)  1416 non-null   float64\n",
      " 9   plus                                                      1993 non-null   object \n",
      " 10  type                                                      1993 non-null   object \n",
      " 11  viager                                                    1993 non-null   int64  \n",
      " 12  commune                                                   1993 non-null   object \n",
      " 13  centre_ville                                              1993 non-null   int64  \n",
      " 14  sud                                                       1993 non-null   int64  \n",
      " 15  nord                                                      1993 non-null   int64  \n",
      " 16  est                                                       1993 non-null   int64  \n",
      " 17  ouest                                                     1993 non-null   int64  \n",
      "dtypes: float64(2), int64(6), object(10)\n",
      "memory usage: 295.8+ KB\n"
     ]
    }
   ],
   "source": [
    "content.info()"
   ]
  },
  {
   "cell_type": "code",
   "execution_count": 126,
   "metadata": {},
   "outputs": [
    {
     "data": {
      "text/plain": [
       "array(['Maison / Villa', 'Appartement', 'Terrain',\n",
       "       'Appartement<!-- --> en viager', 'Immeuble', 'Parking',\n",
       "       'Loft/Atelier/Surface', 'Hôtel particulier', nan,\n",
       "       'Maison / Villa<!-- --> en viager', 'Château', 'Local commercial'],\n",
       "      dtype=object)"
      ]
     },
     "execution_count": 126,
     "metadata": {},
     "output_type": "execute_result"
    }
   ],
   "source": [
    "content.category.unique()"
   ]
  },
  {
   "cell_type": "code",
   "execution_count": 127,
   "metadata": {},
   "outputs": [],
   "source": [
    "content['viager'] = 0"
   ]
  },
  {
   "cell_type": "code",
   "execution_count": 128,
   "metadata": {},
   "outputs": [],
   "source": [
    "content.loc[content.category == 'Appartement<!-- --> en viager', 'viager'] = 1\n",
    "content.loc[content.category == 'Maison / Villa<!-- --> en viager','viager'] = 1"
   ]
  },
  {
   "cell_type": "code",
   "execution_count": 129,
   "metadata": {},
   "outputs": [],
   "source": [
    "content.loc[content.category == 'Appartement<!-- --> en viager', 'category'] = 'Appartement'\n",
    "content.loc[content.category == 'Maison / Villa<!-- --> en viager', 'category'] = 'Maison / Villa'"
   ]
  },
  {
   "cell_type": "code",
   "execution_count": 130,
   "metadata": {},
   "outputs": [
    {
     "data": {
      "text/plain": [
       "Maison / Villa          1049\n",
       "Appartement              905\n",
       "Immeuble                  15\n",
       "Terrain                   13\n",
       "Loft/Atelier/Surface       5\n",
       "Parking                    2\n",
       "Château                    1\n",
       "Hôtel particulier          1\n",
       "Local commercial           1\n",
       "Name: category, dtype: int64"
      ]
     },
     "execution_count": 130,
     "metadata": {},
     "output_type": "execute_result"
    }
   ],
   "source": [
    "content.category.value_counts()"
   ]
  },
  {
   "cell_type": "code",
   "execution_count": 131,
   "metadata": {},
   "outputs": [],
   "source": [
    "content.localite = content.localite.str.strip().str.split('[\\W_]+').str.join(' ')"
   ]
  },
  {
   "cell_type": "code",
   "execution_count": 132,
   "metadata": {},
   "outputs": [],
   "source": [
    "content['commune'] = content.localite.apply(lambda s: str(s).split(' ')[-1])"
   ]
  },
  {
   "cell_type": "code",
   "execution_count": 133,
   "metadata": {},
   "outputs": [],
   "source": [
    "content['centre_ville'] = 0\n",
    "content['sud'] = 0\n",
    "content['nord'] = 0\n",
    "content['est'] = 0\n",
    "content['centre_ville'] = 0"
   ]
  },
  {
   "cell_type": "code",
   "execution_count": 136,
   "metadata": {},
   "outputs": [],
   "source": [
    "content.loc[content.localite.apply(lambda s: 'centre ville' in str(s).lower()), 'centre_ville'] = 1\n",
    "content.loc[content.localite.apply(lambda s: 'sud' in str(s).lower()), 'sud'] = 1\n",
    "content.loc[content.localite.apply(lambda s: 'nord' in str(s).lower()), 'nord'] = 1\n",
    "content.loc[content.localite.apply(lambda s: 'est' in str(s).lower()), 'est'] = 1\n",
    "content.loc[content.localite.apply(lambda s: 'ouest' in str(s).lower()), 'ouest'] = 1"
   ]
  },
  {
   "cell_type": "code",
   "execution_count": 139,
   "metadata": {},
   "outputs": [],
   "source": [
    "content.drop(columns=\"localite\",inplace=True)"
   ]
  },
  {
   "cell_type": "code",
   "execution_count": null,
   "metadata": {},
   "outputs": [],
   "source": [
    "\n",
    "."
   ]
  }
 ],
 "metadata": {
  "kernelspec": {
   "display_name": "Python 3",
   "language": "python",
   "name": "python3"
  },
  "language_info": {
   "codemirror_mode": {
    "name": "ipython",
    "version": 3
   },
   "file_extension": ".py",
   "mimetype": "text/x-python",
   "name": "python",
   "nbconvert_exporter": "python",
   "pygments_lexer": "ipython3",
   "version": "3.6.9"
  }
 },
 "nbformat": 4,
 "nbformat_minor": 4
}
