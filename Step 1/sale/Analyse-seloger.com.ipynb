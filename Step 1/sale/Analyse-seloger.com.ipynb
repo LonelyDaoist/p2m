{
 "cells": [
  {
   "cell_type": "code",
   "execution_count": 238,
   "metadata": {},
   "outputs": [],
   "source": [
    "import pandas as pd\n",
    "import numpy as np\n",
    "import pandas_profiling\n",
    "import matplotlib.pyplot as plt\n",
    "import seaborn as sns\n",
    "import warnings\n",
    "import plotly.express as px\n",
    "warnings.filterwarnings('ignore')\n",
    "%matplotlib inline"
   ]
  },
  {
   "cell_type": "code",
   "execution_count": 239,
   "metadata": {},
   "outputs": [],
   "source": [
    "df = pd.read_csv(\"final_unextracted_data.csv\")"
   ]
  },
  {
   "cell_type": "code",
   "execution_count": 240,
   "metadata": {},
   "outputs": [],
   "source": [
    "df[\"log_price\"] = pd.DataFrame(np.log(df['price(€)']))\n",
    "df[\"log_monthly\"] = pd.DataFrame(np.log(df['monthly(€)']))"
   ]
  },
  {
   "cell_type": "code",
   "execution_count": 241,
   "metadata": {},
   "outputs": [
    {
     "data": {
      "text/html": [
       "<div>\n",
       "<style scoped>\n",
       "    .dataframe tbody tr th:only-of-type {\n",
       "        vertical-align: middle;\n",
       "    }\n",
       "\n",
       "    .dataframe tbody tr th {\n",
       "        vertical-align: top;\n",
       "    }\n",
       "\n",
       "    .dataframe thead th {\n",
       "        text-align: right;\n",
       "    }\n",
       "</style>\n",
       "<table border=\"1\" class=\"dataframe\">\n",
       "  <thead>\n",
       "    <tr style=\"text-align: right;\">\n",
       "      <th></th>\n",
       "      <th>category</th>\n",
       "      <th>price(€)</th>\n",
       "      <th>monthly(€)</th>\n",
       "      <th>description</th>\n",
       "      <th>energy_performance_diagnosis_(kWhEP/m².year)</th>\n",
       "      <th>Greenhouse_gas_emission(kgeqCO2/m².year)</th>\n",
       "      <th>type</th>\n",
       "      <th>terrace</th>\n",
       "      <th>view</th>\n",
       "      <th>area(m²)</th>\n",
       "      <th>...</th>\n",
       "      <th>central_heating</th>\n",
       "      <th>individual_heating</th>\n",
       "      <th>floor_heating</th>\n",
       "      <th>communal_heating</th>\n",
       "      <th>heating_air_conditioning</th>\n",
       "      <th>reversible_heating</th>\n",
       "      <th>region_1</th>\n",
       "      <th>region_2</th>\n",
       "      <th>log_price</th>\n",
       "      <th>log_monthly</th>\n",
       "    </tr>\n",
       "  </thead>\n",
       "  <tbody>\n",
       "    <tr>\n",
       "      <th>0</th>\n",
       "      <td>Maison / Villa</td>\n",
       "      <td>349500</td>\n",
       "      <td>1449</td>\n",
       "      <td>Belle maison en sous/bassement meulière très b...</td>\n",
       "      <td>150.0</td>\n",
       "      <td>35.0</td>\n",
       "      <td>Acheter</td>\n",
       "      <td>1</td>\n",
       "      <td>0</td>\n",
       "      <td>105.00</td>\n",
       "      <td>...</td>\n",
       "      <td>0</td>\n",
       "      <td>1</td>\n",
       "      <td>0</td>\n",
       "      <td>0</td>\n",
       "      <td>0</td>\n",
       "      <td>0</td>\n",
       "      <td>Vigneux-sur-Seine</td>\n",
       "      <td>Le Lac-Briques Rouges</td>\n",
       "      <td>12.764259</td>\n",
       "      <td>7.278629</td>\n",
       "    </tr>\n",
       "    <tr>\n",
       "      <th>1</th>\n",
       "      <td>Maison / Villa</td>\n",
       "      <td>335000</td>\n",
       "      <td>1389</td>\n",
       "      <td>Idéalement situé entre Clermont l'Hérault et L...</td>\n",
       "      <td>0.0</td>\n",
       "      <td>0.0</td>\n",
       "      <td>Acheter</td>\n",
       "      <td>1</td>\n",
       "      <td>0</td>\n",
       "      <td>185.00</td>\n",
       "      <td>...</td>\n",
       "      <td>0</td>\n",
       "      <td>0</td>\n",
       "      <td>0</td>\n",
       "      <td>0</td>\n",
       "      <td>0</td>\n",
       "      <td>0</td>\n",
       "      <td>Clermont-l Herault</td>\n",
       "      <td>Centre Ville</td>\n",
       "      <td>12.721886</td>\n",
       "      <td>7.236339</td>\n",
       "    </tr>\n",
       "    <tr>\n",
       "      <th>2</th>\n",
       "      <td>Maison / Villa</td>\n",
       "      <td>2490000</td>\n",
       "      <td>10270</td>\n",
       "      <td>Superbe Villa dans les hauteurs de Nice/Villef...</td>\n",
       "      <td>99.0</td>\n",
       "      <td>19.0</td>\n",
       "      <td>Acheter</td>\n",
       "      <td>0</td>\n",
       "      <td>1</td>\n",
       "      <td>220.00</td>\n",
       "      <td>...</td>\n",
       "      <td>1</td>\n",
       "      <td>0</td>\n",
       "      <td>0</td>\n",
       "      <td>0</td>\n",
       "      <td>0</td>\n",
       "      <td>0</td>\n",
       "      <td>Nice</td>\n",
       "      <td>Vinaigrier</td>\n",
       "      <td>14.727793</td>\n",
       "      <td>9.236982</td>\n",
       "    </tr>\n",
       "    <tr>\n",
       "      <th>3</th>\n",
       "      <td>Maison / Villa</td>\n",
       "      <td>356000</td>\n",
       "      <td>1476</td>\n",
       "      <td>A découvrir à 5km de Gouvieux, maison ancienne...</td>\n",
       "      <td>0.0</td>\n",
       "      <td>0.0</td>\n",
       "      <td>Acheter</td>\n",
       "      <td>0</td>\n",
       "      <td>0</td>\n",
       "      <td>130.00</td>\n",
       "      <td>...</td>\n",
       "      <td>0</td>\n",
       "      <td>1</td>\n",
       "      <td>0</td>\n",
       "      <td>0</td>\n",
       "      <td>0</td>\n",
       "      <td>0</td>\n",
       "      <td>Gouvieux</td>\n",
       "      <td>Sud</td>\n",
       "      <td>12.782686</td>\n",
       "      <td>7.297091</td>\n",
       "    </tr>\n",
       "    <tr>\n",
       "      <th>4</th>\n",
       "      <td>Maison / Villa</td>\n",
       "      <td>388500</td>\n",
       "      <td>1610</td>\n",
       "      <td>MAISON INDIVIDUELLE DE 6 PIÈCES A VENDRE A PLA...</td>\n",
       "      <td>214.0</td>\n",
       "      <td>11.0</td>\n",
       "      <td>Acheter</td>\n",
       "      <td>1</td>\n",
       "      <td>0</td>\n",
       "      <td>102.00</td>\n",
       "      <td>...</td>\n",
       "      <td>0</td>\n",
       "      <td>0</td>\n",
       "      <td>0</td>\n",
       "      <td>0</td>\n",
       "      <td>0</td>\n",
       "      <td>0</td>\n",
       "      <td>Plaisir</td>\n",
       "      <td>Centre Ville</td>\n",
       "      <td>12.870048</td>\n",
       "      <td>7.383989</td>\n",
       "    </tr>\n",
       "    <tr>\n",
       "      <th>...</th>\n",
       "      <td>...</td>\n",
       "      <td>...</td>\n",
       "      <td>...</td>\n",
       "      <td>...</td>\n",
       "      <td>...</td>\n",
       "      <td>...</td>\n",
       "      <td>...</td>\n",
       "      <td>...</td>\n",
       "      <td>...</td>\n",
       "      <td>...</td>\n",
       "      <td>...</td>\n",
       "      <td>...</td>\n",
       "      <td>...</td>\n",
       "      <td>...</td>\n",
       "      <td>...</td>\n",
       "      <td>...</td>\n",
       "      <td>...</td>\n",
       "      <td>...</td>\n",
       "      <td>...</td>\n",
       "      <td>...</td>\n",
       "      <td>...</td>\n",
       "    </tr>\n",
       "    <tr>\n",
       "      <th>1987</th>\n",
       "      <td>Maison / Villa</td>\n",
       "      <td>148000</td>\n",
       "      <td>619</td>\n",
       "      <td>0</td>\n",
       "      <td>216.0</td>\n",
       "      <td>11.0</td>\n",
       "      <td>Acheter</td>\n",
       "      <td>1</td>\n",
       "      <td>0</td>\n",
       "      <td>127.00</td>\n",
       "      <td>...</td>\n",
       "      <td>0</td>\n",
       "      <td>0</td>\n",
       "      <td>0</td>\n",
       "      <td>0</td>\n",
       "      <td>0</td>\n",
       "      <td>0</td>\n",
       "      <td>Villeparisis</td>\n",
       "      <td>0</td>\n",
       "      <td>11.904968</td>\n",
       "      <td>6.428105</td>\n",
       "    </tr>\n",
       "    <tr>\n",
       "      <th>1988</th>\n",
       "      <td>Maison / Villa</td>\n",
       "      <td>75240</td>\n",
       "      <td>317</td>\n",
       "      <td>0</td>\n",
       "      <td>305.0</td>\n",
       "      <td>0.0</td>\n",
       "      <td>Acheter</td>\n",
       "      <td>0</td>\n",
       "      <td>0</td>\n",
       "      <td>140.00</td>\n",
       "      <td>...</td>\n",
       "      <td>0</td>\n",
       "      <td>1</td>\n",
       "      <td>0</td>\n",
       "      <td>0</td>\n",
       "      <td>0</td>\n",
       "      <td>0</td>\n",
       "      <td>Carnac</td>\n",
       "      <td>0</td>\n",
       "      <td>11.228438</td>\n",
       "      <td>5.758902</td>\n",
       "    </tr>\n",
       "    <tr>\n",
       "      <th>1989</th>\n",
       "      <td>Appartement</td>\n",
       "      <td>375000</td>\n",
       "      <td>1554</td>\n",
       "      <td>0</td>\n",
       "      <td>167.0</td>\n",
       "      <td>7.0</td>\n",
       "      <td>Acheter</td>\n",
       "      <td>1</td>\n",
       "      <td>0</td>\n",
       "      <td>72.45</td>\n",
       "      <td>...</td>\n",
       "      <td>0</td>\n",
       "      <td>1</td>\n",
       "      <td>0</td>\n",
       "      <td>0</td>\n",
       "      <td>0</td>\n",
       "      <td>0</td>\n",
       "      <td>Mandelieu-la-Napoule</td>\n",
       "      <td>0</td>\n",
       "      <td>12.834681</td>\n",
       "      <td>7.348588</td>\n",
       "    </tr>\n",
       "    <tr>\n",
       "      <th>1990</th>\n",
       "      <td>Appartement</td>\n",
       "      <td>520000</td>\n",
       "      <td>2152</td>\n",
       "      <td>0</td>\n",
       "      <td>125.0</td>\n",
       "      <td>3.0</td>\n",
       "      <td>Acheter</td>\n",
       "      <td>1</td>\n",
       "      <td>0</td>\n",
       "      <td>110.00</td>\n",
       "      <td>...</td>\n",
       "      <td>0</td>\n",
       "      <td>1</td>\n",
       "      <td>0</td>\n",
       "      <td>0</td>\n",
       "      <td>0</td>\n",
       "      <td>0</td>\n",
       "      <td>Hyeres</td>\n",
       "      <td>0</td>\n",
       "      <td>13.161584</td>\n",
       "      <td>7.674153</td>\n",
       "    </tr>\n",
       "    <tr>\n",
       "      <th>1991</th>\n",
       "      <td>Appartement</td>\n",
       "      <td>213300</td>\n",
       "      <td>888</td>\n",
       "      <td>0</td>\n",
       "      <td>153.0</td>\n",
       "      <td>33.0</td>\n",
       "      <td>Acheter</td>\n",
       "      <td>0</td>\n",
       "      <td>0</td>\n",
       "      <td>56.00</td>\n",
       "      <td>...</td>\n",
       "      <td>0</td>\n",
       "      <td>0</td>\n",
       "      <td>0</td>\n",
       "      <td>1</td>\n",
       "      <td>0</td>\n",
       "      <td>0</td>\n",
       "      <td>Torcy</td>\n",
       "      <td>0</td>\n",
       "      <td>12.270455</td>\n",
       "      <td>6.788972</td>\n",
       "    </tr>\n",
       "  </tbody>\n",
       "</table>\n",
       "<p>1992 rows × 78 columns</p>\n",
       "</div>"
      ],
      "text/plain": [
       "            category  price(€)  monthly(€)  \\\n",
       "0     Maison / Villa    349500        1449   \n",
       "1     Maison / Villa    335000        1389   \n",
       "2     Maison / Villa   2490000       10270   \n",
       "3     Maison / Villa    356000        1476   \n",
       "4     Maison / Villa    388500        1610   \n",
       "...              ...       ...         ...   \n",
       "1987  Maison / Villa    148000         619   \n",
       "1988  Maison / Villa     75240         317   \n",
       "1989     Appartement    375000        1554   \n",
       "1990     Appartement    520000        2152   \n",
       "1991     Appartement    213300         888   \n",
       "\n",
       "                                            description  \\\n",
       "0     Belle maison en sous/bassement meulière très b...   \n",
       "1     Idéalement situé entre Clermont l'Hérault et L...   \n",
       "2     Superbe Villa dans les hauteurs de Nice/Villef...   \n",
       "3     A découvrir à 5km de Gouvieux, maison ancienne...   \n",
       "4     MAISON INDIVIDUELLE DE 6 PIÈCES A VENDRE A PLA...   \n",
       "...                                                 ...   \n",
       "1987                                                  0   \n",
       "1988                                                  0   \n",
       "1989                                                  0   \n",
       "1990                                                  0   \n",
       "1991                                                  0   \n",
       "\n",
       "      energy_performance_diagnosis_(kWhEP/m².year)  \\\n",
       "0                                            150.0   \n",
       "1                                              0.0   \n",
       "2                                             99.0   \n",
       "3                                              0.0   \n",
       "4                                            214.0   \n",
       "...                                            ...   \n",
       "1987                                         216.0   \n",
       "1988                                         305.0   \n",
       "1989                                         167.0   \n",
       "1990                                         125.0   \n",
       "1991                                         153.0   \n",
       "\n",
       "      Greenhouse_gas_emission(kgeqCO2/m².year)     type  terrace  view  \\\n",
       "0                                         35.0  Acheter        1     0   \n",
       "1                                          0.0  Acheter        1     0   \n",
       "2                                         19.0  Acheter        0     1   \n",
       "3                                          0.0  Acheter        0     0   \n",
       "4                                         11.0  Acheter        1     0   \n",
       "...                                        ...      ...      ...   ...   \n",
       "1987                                      11.0  Acheter        1     0   \n",
       "1988                                       0.0  Acheter        0     0   \n",
       "1989                                       7.0  Acheter        1     0   \n",
       "1990                                       3.0  Acheter        1     0   \n",
       "1991                                      33.0  Acheter        0     0   \n",
       "\n",
       "      area(m²)  ...  central_heating  individual_heating  floor_heating  \\\n",
       "0       105.00  ...                0                   1              0   \n",
       "1       185.00  ...                0                   0              0   \n",
       "2       220.00  ...                1                   0              0   \n",
       "3       130.00  ...                0                   1              0   \n",
       "4       102.00  ...                0                   0              0   \n",
       "...        ...  ...              ...                 ...            ...   \n",
       "1987    127.00  ...                0                   0              0   \n",
       "1988    140.00  ...                0                   1              0   \n",
       "1989     72.45  ...                0                   1              0   \n",
       "1990    110.00  ...                0                   1              0   \n",
       "1991     56.00  ...                0                   0              0   \n",
       "\n",
       "      communal_heating  heating_air_conditioning  reversible_heating  \\\n",
       "0                    0                         0                   0   \n",
       "1                    0                         0                   0   \n",
       "2                    0                         0                   0   \n",
       "3                    0                         0                   0   \n",
       "4                    0                         0                   0   \n",
       "...                ...                       ...                 ...   \n",
       "1987                 0                         0                   0   \n",
       "1988                 0                         0                   0   \n",
       "1989                 0                         0                   0   \n",
       "1990                 0                         0                   0   \n",
       "1991                 1                         0                   0   \n",
       "\n",
       "                  region_1               region_2  log_price  log_monthly  \n",
       "0        Vigneux-sur-Seine  Le Lac-Briques Rouges  12.764259     7.278629  \n",
       "1       Clermont-l Herault           Centre Ville  12.721886     7.236339  \n",
       "2                     Nice             Vinaigrier  14.727793     9.236982  \n",
       "3                 Gouvieux                    Sud  12.782686     7.297091  \n",
       "4                  Plaisir           Centre Ville  12.870048     7.383989  \n",
       "...                    ...                    ...        ...          ...  \n",
       "1987          Villeparisis                      0  11.904968     6.428105  \n",
       "1988                Carnac                      0  11.228438     5.758902  \n",
       "1989  Mandelieu-la-Napoule                      0  12.834681     7.348588  \n",
       "1990                Hyeres                      0  13.161584     7.674153  \n",
       "1991                 Torcy                      0  12.270455     6.788972  \n",
       "\n",
       "[1992 rows x 78 columns]"
      ]
     },
     "execution_count": 241,
     "metadata": {},
     "output_type": "execute_result"
    }
   ],
   "source": [
    "df"
   ]
  },
  {
   "cell_type": "code",
   "execution_count": 242,
   "metadata": {},
   "outputs": [],
   "source": [
    "df=df.drop(\"description\",1)"
   ]
  },
  {
   "cell_type": "code",
   "execution_count": null,
   "metadata": {},
   "outputs": [],
   "source": [
    "report_v1 = pandas_profiling.ProfileReport(df)"
   ]
  },
  {
   "cell_type": "code",
   "execution_count": null,
   "metadata": {},
   "outputs": [],
   "source": [
    "report_v1.to_notebook_iframe()"
   ]
  },
  {
   "cell_type": "code",
   "execution_count": 243,
   "metadata": {},
   "outputs": [
    {
     "data": {
      "text/plain": [
       "<matplotlib.axes._subplots.AxesSubplot at 0x2c50dcafa58>"
      ]
     },
     "execution_count": 243,
     "metadata": {},
     "output_type": "execute_result"
    },
    {
     "data": {
      "image/png": "[encoded data removed]",
      "text/plain": [
       "<Figure size 1080x720 with 1 Axes>"
      ]
     },
     "metadata": {
      "needs_background": "light"
     },
     "output_type": "display_data"
    }
   ],
   "source": [
    "plt.figure(figsize=(15,10))\n",
    "sns.distplot(df.log_price,kde=False)"
   ]
  },
  {
   "cell_type": "code",
   "execution_count": 244,
   "metadata": {
    "scrolled": true
   },
   "outputs": [
    {
     "data": {
      "application/vnd.plotly.v1+json": {
       "config": {
        "plotlyServerURL": "https://plot.ly"
       },
       "data": [
        {
         "alignmentgroup": "True",
         "hoverlabel": {
          "namelength": 0
         },
         "hovertemplate": "City=%{x}<br>count=%{marker.color}",
         "legendgroup": "",
         "marker": {
          "color": [
           1,
           1,
           5,
           3,
           1,
           1,
           1,
           4,
           2,
           9,
           1,
           3,
           2,
           3,
           6,
           1,
           1,
           1,
           2,
           2,
           1,
           1,
           3,
           1,
           2,
           7,
           3,
           2,
           2,
           1,
           2,
           1,
           1,
           6,
           6,
           1,
           1,
           1,
           11,
           1,
           1,
           1,
           2,
           2,
           1,
           5,
           1,
           1,
           1,
           1,
           1,
           1,
           1,
           1,
           5,
           1,
           1,
           2,
           1,
           3,
           1,
           1,
           1,
           1,
           1,
           1,
           2,
           2,
           1,
           4,
           1,
           3,
           2,
           1,
           1,
           1,
           1,
           8,
           1,
           1,
           2,
           1,
           2,
           1,
           1,
           1,
           1,
           2,
           1,
           1,
           1,
           5,
           1,
           1,
           2,
           3,
           1,
           1,
           1,
           1,
           1,
           1,
           1,
           2,
           1,
           1,
           1,
           1,
           16,
           5,
           1,
           1,
           1,
           2,
           3,
           1,
           2,
           1,
           1,
           1,
           1,
           2,
           2,
           1,
           2,
           3,
           1,
           1,
           1,
           1,
           1,
           1,
           1,
           1,
           1,
           1,
           1,
           1,
           3,
           1,
           1,
           1,
           1,
           1,
           1,
           1,
           3,
           2,
           1,
           1,
           6,
           1,
           3,
           1,
           12,
           1,
           2,
           1,
           2,
           2,
           12,
           1,
           1,
           2,
           2,
           1,
           2,
           1,
           2,
           1,
           3,
           1,
           6,
           1,
           1,
           2,
           1,
           1,
           3,
           1,
           1,
           1,
           1,
           1,
           1,
           3,
           1,
           5,
           2,
           1,
           1,
           2,
           1,
           1,
           1,
           1,
           6,
           1,
           4,
           1,
           1,
           1,
           1,
           1,
           1,
           2,
           6,
           1,
           2,
           2,
           1,
           1,
           1,
           3,
           2,
           1,
           1,
           1,
           1,
           5,
           2,
           1,
           2,
           1,
           1,
           1,
           1,
           4,
           2,
           2,
           1,
           1,
           1,
           5,
           1,
           1,
           2,
           1,
           1,
           1,
           1,
           5,
           1,
           6,
           1,
           1,
           2,
           1,
           1,
           1,
           1,
           1,
           1,
           1,
           1,
           3,
           1,
           3,
           3,
           1,
           1,
           2,
           2,
           3,
           1,
           7,
           1,
           1,
           1,
           3,
           1,
           3,
           1,
           1,
           1,
           1,
           1,
           1,
           2,
           1,
           2,
           1,
           1,
           1,
           1,
           1,
           1,
           1,
           1,
           1,
           2,
           1,
           1,
           5,
           3,
           1,
           1,
           2,
           8,
           6,
           1,
           1,
           1,
           4,
           1,
           2,
           1,
           2,
           1,
           3,
           2,
           1,
           1,
           1,
           2,
           2,
           2,
           1,
           1,
           2,
           3,
           1,
           5,
           1,
           1,
           2,
           1,
           1,
           1,
           1,
           1,
           1,
           1,
           3,
           2,
           1,
           6,
           1,
           2,
           1,
           1,
           1,
           1,
           10,
           3,
           7,
           1,
           1,
           1,
           1,
           1,
           1,
           1,
           1,
           1,
           2,
           6,
           1,
           1,
           1,
           2,
           4,
           1,
           3,
           1,
           1,
           2,
           1,
           1,
           6,
           3,
           2,
           2,
           1,
           1,
           4,
           1,
           1,
           1,
           1,
           1,
           1,
           1,
           1,
           15,
           5,
           1,
           3,
           1,
           1,
           1,
           1,
           1,
           1,
           1,
           1,
           1,
           4,
           1,
           1,
           1,
           1,
           11,
           2,
           1,
           1,
           1,
           1,
           1,
           1,
           1,
           3,
           1,
           1,
           1,
           2,
           8,
           2,
           1,
           2,
           1,
           2,
           1,
           2,
           1,
           1,
           2,
           1,
           3,
           1,
           1,
           2,
           4,
           1,
           1,
           3,
           2,
           1,
           1,
           1,
           1,
           1,
           1,
           1,
           1,
           1,
           3,
           2,
           1,
           1,
           2,
           2,
           1,
           2,
           2,
           1,
           2,
           2,
           1,
           1,
           6,
           1,
           1,
           1,
           4,
           1,
           1,
           3,
           1,
           2,
           2,
           1,
           3,
           2,
           1,
           1,
           1,
           1,
           1,
           1,
           1,
           2,
           1,
           1,
           1,
           1,
           3,
           3,
           1,
           2,
           1,
           1,
           1,
           1,
           2,
           1,
           1,
           1,
           2,
           1,
           3,
           1,
           9,
           19,
           2,
           1,
           2,
           1,
           1,
           1,
           1,
           2,
           1,
           3,
           1,
           2,
           1,
           1,
           1,
           1,
           1,
           1,
           2,
           1,
           2,
           1,
           1,
           1,
           3,
           2,
           2,
           4,
           1,
           1,
           1,
           1,
           1,
           1,
           2,
           3,
           5,
           9,
           1,
           1,
           1,
           8,
           2,
           1,
           1,
           1,
           2,
           1,
           2,
           2,
           1,
           3,
           2,
           4,
           1,
           1,
           2,
           1,
           2,
           1,
           1,
           1,
           1,
           1,
           1,
           1,
           5,
           1,
           1,
           1,
           1,
           1,
           1,
           1,
           7,
           15,
           2,
           6,
           1,
           1,
           3,
           1,
           1,
           1,
           1,
           1,
           1,
           2,
           1,
           2,
           1,
           1,
           3,
           1,
           2,
           4,
           3,
           2,
           2,
           1,
           1,
           1,
           1,
           1,
           2,
           1,
           2,
           7,
           2,
           1,
           1,
           1,
           1,
           39,
           4,
           1,
           1,
           1,
           1,
           1,
           1,
           2,
           1,
           1,
           8,
           3,
           2,
           1,
           1,
           2,
           2,
           2,
           1,
           1,
           1,
           2,
           1,
           2,
           6,
           3,
           2,
           4,
           8,
           11,
           7,
           5,
           7,
           2,
           8,
           2,
           3,
           1,
           2,
           3,
           2,
           4,
           1,
           1,
           1,
           4,
           1,
           2,
           4,
           2,
           1,
           1,
           1,
           1,
           3,
           1,
           1,
           1,
           11,
           1,
           1,
           1,
           4,
           1,
           6,
           1,
           1,
           1,
           1,
           2,
           1,
           1,
           1,
           1,
           2,
           1,
           1,
           1,
           1,
           2,
           1,
           5,
           1,
           1,
           1,
           1,
           1,
           1,
           2,
           1,
           1,
           1,
           1,
           1,
           2,
           10,
           1,
           1,
           1,
           8,
           2,
           3,
           4,
           3,
           1,
           3,
           1,
           6,
           6,
           2,
           10,
           1,
           1,
           1,
           1,
           1,
           1,
           2,
           2,
           1,
           1,
           1,
           1,
           1,
           1,
           1,
           2,
           1,
           1,
           1,
           1,
           1,
           1,
           2,
           3,
           1,
           1,
           1,
           3,
           2,
           2,
           1,
           1,
           1,
           3,
           1,
           4,
           1,
           1,
           1,
           2,
           2,
           1,
           1,
           1,
           4,
           1,
           1,
           9,
           2,
           1,
           1,
           2,
           1,
           1,
           1,
           1,
           1,
           6,
           1,
           2,
           1,
           1,
           2,
           2,
           2,
           1,
           2,
           1,
           3,
           1,
           1,
           1,
           1,
           4,
           1,
           1,
           1,
           1,
           1,
           1,
           1,
           2,
           1,
           2,
           1,
           1,
           2,
           1,
           1,
           1,
           1,
           2,
           3,
           2,
           3,
           1,
           1,
           1,
           4,
           1,
           1,
           1,
           1,
           1,
           1,
           1,
           7,
           4,
           1,
           2,
           1,
           4,
           2,
           1,
           1,
           12,
           1,
           1,
           1,
           1,
           3,
           2,
           2,
           1,
           2,
           1,
           1,
           1,
           1,
           1,
           1,
           1,
           1,
           1,
           1,
           9,
           1,
           3,
           2,
           4,
           2,
           1,
           1,
           1,
           1,
           2,
           2,
           4,
           2,
           1,
           2,
           1,
           4,
           3,
           17,
           19,
           1,
           2,
           1,
           1,
           1,
           1,
           1,
           1,
           1,
           2,
           6,
           3,
           1,
           1,
           8,
           2,
           1,
           3,
           1,
           3,
           1,
           1,
           1,
           1,
           2,
           2,
           2,
           2,
           1,
           1,
           4,
           3,
           1,
           6,
           1,
           5,
           1,
           6,
           1,
           1,
           2,
           1,
           1,
           3,
           2,
           2,
           1,
           1,
           1,
           1,
           6,
           1,
           1,
           3,
           1,
           2,
           1,
           2,
           2,
           1,
           3,
           3,
           1,
           2,
           4,
           1,
           2,
           1,
           1,
           1,
           1,
           2,
           1,
           2,
           3,
           7,
           1,
           1,
           1,
           1,
           1,
           1,
           1,
           2,
           2,
           2,
           1,
           3,
           1,
           9,
           1,
           3,
           3,
           2
          ],
          "coloraxis": "coloraxis"
         },
         "name": "",
         "offsetgroup": "",
         "orientation": "v",
         "showlegend": false,
         "textposition": "auto",
         "type": "bar",
         "x": [
          "15 Min Nord Bergerac",
          "Abbeville",
          "Acheres",
          "Agde",
          "Agosta",
          "Aigrefeuille-d Aunis",
          "Aigues Mortes",
          "Aigues-Mortes",
          "Aix en Provence",
          "Aix-en-Provence",
          "Aix-les-Bains",
          "Ajaccio",
          "Albertville",
          "Albi",
          "Alfortville",
          "Alixan",
          "Allauch",
          "Allegre-les-Fumades",
          "Ambutrix",
          "Amiens",
          "Andernos-les-Bains",
          "Andilly",
          "Andresy",
          "Anet",
          "Angers",
          "Angerville",
          "Anglet",
          "Angoulins",
          "Annecy",
          "Annecy-le-Vieux",
          "Annemasse",
          "Anneyron",
          "Annonay",
          "Antibes",
          "Antony",
          "Arcachon",
          "Arcis-sur-Aube",
          "Ares",
          "Argenteuil",
          "Arnas",
          "Arnouville",
          "Arpajon",
          "Arras",
          "Arrou",
          "Ars-en-Re",
          "Asnieres-sur-Seine",
          "Athis-Mons",
          "Aubagne",
          "Aubigny-en-Artois",
          "Audenge",
          "Auffargis",
          "Auffreville-Brasseuil",
          "Aux Portes du Mans",
          "Auzielle",
          "Avignon",
          "Avrainville",
          "Bagneux",
          "Bagnolet",
          "Bagnols-en-Forêt",
          "Bagnols-sur-Ceze",
          "Baie-Mahault",
          "Baillargues",
          "Bailly",
          "Ballainvilliers",
          "Ballaison",
          "Bandol",
          "Barbizon",
          "Bassens",
          "Bastia",
          "Bayonne",
          "Bazas",
          "Beaucaire",
          "Beauchamp",
          "Beauficel-en-Lyons",
          "Beaulieu-sur-Mer",
          "Beaune",
          "Beaurepaire",
          "Beauvais",
          "Begles",
          "Belfort",
          "Bellegarde",
          "Bellegarde-sur-Valserine",
          "Belleville-sur-Loire",
          "Belleville-sur-Mer",
          "Bernay",
          "Berneval-le-Grand",
          "Besancon",
          "Besançon",
          "Besse-sur-Braye",
          "Bethune",
          "Beziers",
          "Bezons",
          "Bidache",
          "Bidart",
          "Bierne",
          "Biscarrosse",
          "Blanquefort",
          "Blauvac",
          "Blauzac",
          "Bois-Colombes",
          "Boissise le Roi",
          "Boissy-Saint-Leger",
          "Bolquere",
          "Bondy",
          "Bonneuil-sur-Marne",
          "Bonneville",
          "Bonnieres-sur-Seine",
          "Boos",
          "Bordeaux",
          "Bormes-les-Mimosas",
          "Bossay-sur-Claise",
          "Bouafle",
          "Bouffemont",
          "Bougival",
          "Bouliac",
          "Boulogne Billancourt",
          "Boulogne-Billancourt",
          "Boulogne-sur-Mer",
          "Bouloire",
          "Bourg-de-Peage",
          "Bourg-la-Reine",
          "Bourgoin-Jallieu",
          "Boussy-Saint-Antoine",
          "Boutigny-Prouais",
          "Brest",
          "Bretigny-sur-Orge",
          "Briançonnet",
          "Briare",
          "Brie-Comte-Robert",
          "Briey",
          "Brignac-la-Plaine",
          "Brignais",
          "Brignoles",
          "Briis-sous-Forges",
          "Brindas",
          "Brion",
          "Brissac-Quince",
          "Bruay-la-Buissiere",
          "Bruges",
          "Brunoy",
          "Bruyeres-le-Châtel",
          "Bry-sur-Marne",
          "Buchelay",
          "Buis-les-Baronnies",
          "Bures sur Yvette",
          "Bures-sur-Yvette",
          "Bussy-Saint-Georges",
          "Buthiers",
          "Cabris",
          "Cachan",
          "Cagnes-sur-Mer",
          "Campitello",
          "Canet Plage",
          "Canet-en-Roussillon",
          "Cannes",
          "Carbon-Blanc",
          "Carnac",
          "Carnoux-en-Provence",
          "Carpentras",
          "Carrieres sous Poissy",
          "Carrieres-sous-Poissy",
          "Carrieres-sur-Seine",
          "Carros",
          "Carry-le-Rouet",
          "Cassis",
          "Castanet-Tolosan",
          "Castelnau-le-Lez",
          "Castres",
          "Castries",
          "Caveirac",
          "Cavignac",
          "Cayenne",
          "Cergy",
          "Cessy",
          "Ceyreste",
          "Chainaz-les-Frasses",
          "Chalon-sur-Saône",
          "Chambly",
          "Chambourcy",
          "Chamonix-Mont-Blanc",
          "Champagne-au-Mont-d Or",
          "Champagney",
          "Champigny-sur-Marne",
          "Champs-sur-Marne",
          "Change",
          "Chanteloup les Vignes",
          "Chanteloup-en-Brie",
          "Chanteloup-les-Vignes",
          "Chantilly",
          "Chaponost",
          "Chappes",
          "Chaptelat",
          "Charbonnieres-les-Bains",
          "Charce-Saint-Ellier-sur-Aubance",
          "Charenton-le-Pont",
          "Charleval",
          "Chartres",
          "Chatelaillon Plage",
          "Chatou",
          "Chaumont-en-Vexin",
          "Chavagne",
          "Chelles",
          "Chennevieres-sur-Marne",
          "Chenoise",
          "Chevanceaux",
          "Chevry-Cossigny",
          "Chilly-Mazarin",
          "Choisy le Roi",
          "Choisy-le-Roi",
          "Cholet",
          "Château-Salins",
          "Château-Thierry",
          "Châteauneuf-la-Forêt",
          "Châtillon",
          "Châtillon-en-Michaille",
          "Cintegabelle",
          "Cires-les-Mello",
          "Civray",
          "Claira",
          "Clamart",
          "Claye-Souilly",
          "Clermont-Pouyguilles",
          "Clermont-l Herault",
          "Clohars-Carnoët",
          "Cloyes-sur-le-Loir",
          "Cogolin",
          "Colognac",
          "Colombes",
          "Colomiers",
          "Combloux",
          "Combs-la-Ville",
          "Compiegne",
          "Conches en Ouche",
          "Conflans-Sainte-Honorine",
          "Contes",
          "Corconne",
          "Cormeilles-en-Parisis",
          "Cornillon-Confoux",
          "Couilly-Pont-aux-Dames",
          "Coulaines",
          "Coulommiers",
          "Courbevoie",
          "Courpignac",
          "Couzeix",
          "Coye-la-Forêt",
          "Coësmes",
          "Craponne",
          "Cravans",
          "Cregy-les-Meaux",
          "Creteil",
          "Cuy-Saint-Fiacre",
          "Dammarie-les-Lys",
          "Dammartin-en-Goële",
          "Dardilly",
          "Deauville",
          "Deuil-la-Barre",
          "Die",
          "Dieppe",
          "Dijon",
          "Divonne-les-Bains",
          "Dole",
          "Dolus-d Oleron",
          "Dompierre-sur-Mer",
          "Dourdan",
          "Doussard",
          "Draguignan",
          "Draillant",
          "Dreux",
          "Echirolles",
          "Enghien-les-Bains",
          "Ensues-la-Redonne",
          "Ermont",
          "Escalquens",
          "Evian les Bains",
          "Eybens",
          "Eysines",
          "Falga",
          "Faverges",
          "Fayence",
          "Feigeres",
          "Fenouillet",
          "Ferney Voltaire",
          "Ferney-Voltaire",
          "Fessy",
          "Festigny",
          "Feternes",
          "Figanieres",
          "Flayosc",
          "Floirac",
          "Florensac",
          "Font-Romeu-Odeillo-Via",
          "Fontaine-le-Comte",
          "Fontaine-sous-Jouy",
          "Fontainebleau",
          "Fontenay-le-Fleury",
          "Fontenay-les-Briis",
          "Fontenay-sous-Bois",
          "Franconville",
          "Frejus",
          "Fresnes",
          "Freteval",
          "Froissy",
          "Fromelennes",
          "Frontignan",
          "Frouard",
          "Fuveau",
          "Gagny",
          "Gambais",
          "Ganges",
          "Garches",
          "Gastins",
          "Gemozac",
          "Genissieux",
          "Germigny-l Évêque",
          "Gien",
          "Gif-sur-Yvette",
          "Gignac",
          "Gignac la Nerthe",
          "Gordes",
          "Gournay-sur-Marne",
          "Gouvieux",
          "Gradignan",
          "Grasse",
          "Greges",
          "Grenade",
          "Grenoble",
          "Gresy-sur-Aix",
          "Grezieu-la-Varenne",
          "Grignan",
          "Grisy-les-Plâtres",
          "Groslay",
          "Guermantes",
          "Guernes",
          "Guerville",
          "Guichainville",
          "Gujan-Mestras",
          "Guyancourt",
          "Habere-Lullin",
          "Hericy",
          "Hesdin-l Abbe",
          "Heudreville sur Eure",
          "Heyrieux",
          "Hierges",
          "Houdan",
          "Houilles",
          "Hyeres",
          "Igny",
          "Intreville",
          "Itteville",
          "Ivry-sur-Seine",
          "Jarville-la-Malgrange",
          "Joigny",
          "Jonquieres-Saint-Vincent",
          "Joue-l Abbe",
          "Jouy le Moutier",
          "Jouy-le-Moutier",
          "Juan les Pins",
          "Jujurieux",
          "Juvignac",
          "L Estaque",
          "L Haÿ-les-Roses",
          "L Isle-Adam",
          "L Isle-Jourdain",
          "L Isle-sur-la-Sorgue",
          "L Étoile",
          "La Baule-Escoublac",
          "La Cadiere-d Azur",
          "La Chapelle-Vendômoise",
          "La Chapelle-du-Noyer",
          "La Ciotat",
          "La Ferte-Alais",
          "La Ferte-Gaucher",
          "La Garde",
          "La Garenne-Colombes",
          "La Grande-Motte",
          "La Loupe",
          "La Madeleine",
          "La Motte-Chalancon",
          "La Môle",
          "La Neuville-Chant-d Oisel",
          "La Penne-sur-Huveaune",
          "La Pomponnette",
          "La Possession",
          "La Roche-Vineuse",
          "La Rochelle",
          "La Seyne-sur-Mer",
          "La Teste de Buch",
          "La Teste-de-Buch",
          "La Tranche-sur-Mer",
          "La Trinite",
          "La Turbie",
          "La Valette-du-Var",
          "La Verdiere",
          "La Ville-du-Bois",
          "Lacanau",
          "Lacanau Ocean",
          "Lagny sur Marne",
          "Lagny-sur-Marne",
          "Lagor",
          "Lagord",
          "Lahonce",
          "Lainville-en-Vexin",
          "Lamorlaye",
          "Lamothe-Montravel",
          "Landouge",
          "Langeais",
          "Lanton",
          "Lançon-Provence",
          "Laroque-des-Alberes",
          "Lavaur",
          "Le Bar-sur-Loup",
          "Le Barcares",
          "Le Beausset",
          "Le Bois-Plage-en-Re",
          "Le Boulou",
          "Le Bouscat",
          "Le Cannet",
          "Le Chesnay",
          "Le Château-d Oleron",
          "Le Cres",
          "Le Grau du Roi",
          "Le Grau-du-Roi",
          "Le Kremlin-Bicêtre",
          "Le Lamentin",
          "Le Lavandou",
          "Le Loroux-Bottereau",
          "Le Luc",
          "Le Lude",
          "Le Mans",
          "Le Mee-sur-Seine",
          "Le Mesnil le Roi",
          "Le Mesnil-le-Roi",
          "Le Pecq",
          "Le Pian-Medoc",
          "Le Plessis-Belleville",
          "Le Plessis-Bouchard",
          "Le Plessis-Pâte",
          "Le Plessis-Robinson",
          "Le Port-Marly",
          "Le Pouliguen",
          "Le Pradet",
          "Le Puy-Sainte-Reparade",
          "Le Raincy",
          "Le Tholonet",
          "Le Tignet",
          "Le Val",
          "Le Vesinet",
          "Lege-Cap-Ferret",
          "Legny",
          "Lembras",
          "Lere",
          "Les Adrets-de-l Esterel",
          "Les Alluets-le-Roi",
          "Les Andelys",
          "Les Angles",
          "Les Breviaires",
          "Les Essarts-le-Roi",
          "Les Houches",
          "Les Lilas",
          "Les Pavillons-sous-Bois",
          "Les Ulis",
          "Leuville-sur-Orge",
          "Levallois-Perret",
          "Leves",
          "Lille",
          "Limay",
          "Limeil-Brevannes",
          "Limoges",
          "Limonest",
          "Linas",
          "Livry-Gargan",
          "Lodeve",
          "Lommoye",
          "Longjumeau",
          "Lorgues",
          "Lorient",
          "Lorleau",
          "Lormont",
          "Lorris",
          "Louviers",
          "Lunel",
          "Lyon 1er",
          "Lyon 3eme",
          "Lyon 4eme",
          "Lyon 5eme",
          "Lyon 6eme",
          "Lyon 8eme",
          "Lyons-la-Forêt",
          "Macau",
          "Macheren",
          "Maffliers",
          "Magagnosc",
          "Magnanville",
          "Magny en Vexin",
          "Magny-les-Hameaux",
          "Magrin",
          "Maincy",
          "Maintenon",
          "Maisons-Alfort",
          "Maisons-Laffitte",
          "Malakoff",
          "Malemort-du-Comtat",
          "Mandelieu la Napoule",
          "Mandelieu-la-Napoule",
          "Manduel",
          "Manosque",
          "Mantes la Jolie",
          "Mantes la Ville",
          "Mantes-la-Ville",
          "Marans",
          "Marcilly-la-Campagne",
          "Marcoussis",
          "Marcy-l Étoile",
          "Mareil-Marly",
          "Mareuil",
          "Marguerittes",
          "Marignane",
          "Marillac le Franc",
          "Marin",
          "Marseillan",
          "Marseille",
          "Marseille 10eme",
          "Marseille 11eme",
          "Marseille 12eme",
          "Marseille 13eme",
          "Marseille 14eme",
          "Marseille 16eme",
          "Marseille 1er",
          "Marseille 4eme",
          "Marseille 6eme",
          "Marseille 8eme",
          "Marseille 9eme",
          "Marsillargues",
          "Marsonnas",
          "Martigues",
          "Massongy",
          "Massy",
          "Mauguio",
          "Maule",
          "Mazan",
          "Meaux",
          "Megeve",
          "Meillonnas",
          "Melun",
          "Menthon-Saint-Bernard",
          "Menton",
          "Menucourt",
          "Mere",
          "Meribel les Allues",
          "Meriel",
          "Meru",
          "Merville-Franceville-Plage",
          "Mery-sur-Oise",
          "Mesnil-Domqueur",
          "Metz",
          "Meudon",
          "Meudon la Foret",
          "Meulan-en-Yvelines",
          "Meyrannes",
          "Meze",
          "Milly-la-Forêt",
          "Milly-sur-Therain",
          "Mios",
          "Miramas",
          "Miserey-Salines",
          "Mondonville",
          "Mons-en-Barœul",
          "Montargis",
          "Montauroux",
          "Montelier",
          "Montfort-l Amaury",
          "Montgeron",
          "Montgiscard",
          "Montigny-le-Bretonneux",
          "Montigny-les-Cormeilles",
          "Montlhery",
          "Montmeyan",
          "Montmoreau-Saint-Cybard",
          "Montmorency",
          "Montpellier",
          "Montpezat",
          "Montreuil",
          "Montrouge",
          "Montvalezan",
          "Morangis",
          "Morcenx",
          "Moree",
          "Morigny-Champigny",
          "Morlaix",
          "Morsang-sur-Seine",
          "Mortefontaine",
          "Mougins",
          "Moulezan",
          "Mouroux",
          "Mouy",
          "Mulhouse",
          "Mâcon",
          "Nancras",
          "Nancy",
          "Nanterre",
          "Nantes",
          "Nanteuil-les-Meaux",
          "Narbonne",
          "Neffies",
          "Negrepelisse",
          "Neoules",
          "Nesles-la-Vallee",
          "Neugartheim-Ittlenheim",
          "Neuille-Pont-Pierre",
          "Neuilly sur Seine",
          "Neuilly-Plaisance",
          "Neuilly-sur-Seine",
          "Neuville sur Saone",
          "Neuvy-en-Sullias",
          "Nevers",
          "Neydens",
          "Nezel",
          "Nice",
          "Nogent-sur-Marne",
          "Nogent-sur-Oise",
          "Noiseau",
          "Noisy-le-Grand",
          "Noisy-le-Sec",
          "Nontron",
          "Noves",
          "Novillars",
          "Noyon",
          "Nuncq-Hautecôte",
          "Nîmes",
          "Oloron-Sainte-Marie",
          "Orgeval",
          "Origny-en-Thierache",
          "Orleans",
          "Ormesson-sur-Marne",
          "Orthez",
          "Osny",
          "Ozoir-la-Ferriere",
          "Pacy-sur-Eure",
          "Paimpont",
          "Palaiseau",
          "Palavas-les-Flots",
          "Paris 10eme",
          "Paris 11eme",
          "Paris 12eme",
          "Paris 13eme",
          "Paris 14eme",
          "Paris 15eme",
          "Paris 16eme",
          "Paris 17eme",
          "Paris 18eme",
          "Paris 19eme",
          "Paris 1er",
          "Paris 20eme",
          "Paris 2eme",
          "Paris 4eme",
          "Paris 5eme",
          "Paris 6eme",
          "Paris 8eme",
          "Paris 9eme",
          "Passy",
          "Pau",
          "Pegomas",
          "Pelissanne",
          "Perpignan",
          "Persan",
          "Perthes",
          "Pessac",
          "Petit-Bourg",
          "Peyrehorade",
          "Pierre Benite",
          "Pigny",
          "Pissos",
          "Plaisir",
          "Plouenan",
          "Plougonven",
          "Poigny-la-Forêt",
          "Poissy",
          "Pollionnay",
          "Pomerols",
          "Pont-en-Royans",
          "Pontault-Combault",
          "Pontivy",
          "Pontoise",
          "Pornichet",
          "Port Camargue",
          "Port-Sainte-Foy-et-Ponchapt",
          "Port-de-Bouc",
          "Porticcio",
          "Prades",
          "Priay",
          "Provins",
          "Prunay-Cassereau",
          "Publier",
          "Pugnac",
          "Puilboreau",
          "Puiseux-en-France",
          "Puteaux",
          "Quiberon",
          "Quint-Fonsegrives",
          "Rambouillet",
          "Rebais",
          "Redessan",
          "Redon",
          "Reims",
          "Remiremont",
          "Rencurel",
          "Rennes",
          "Reuil-en-Brie",
          "Revel",
          "Revest-les-Roches",
          "Riantec",
          "Ribaute les Tavernes",
          "Rillieux-la-Pape",
          "Ris-Orangis",
          "Rivedoux-Plage",
          "Rognac",
          "Romaneche-Thorins",
          "Romans-sur-Isere",
          "Ronchin",
          "Roquebrune-Cap-Martin",
          "Roquebrune-sur-Argens",
          "Rosny-sur-Seine",
          "Roubaix",
          "Rouen",
          "Rouffiac-Tolosan",
          "Royan",
          "Rozay-en-Brie",
          "Rueil Malmaison",
          "Rueil-Malmaison",
          "Rungis",
          "Saclas",
          "Saint Fargeau Ponthierry",
          "Saint Leonard de Noblat",
          "Saint Maur des Fosses",
          "Saint Ouen",
          "Saint Priest",
          "Saint-Andre-de-Cubzac",
          "Saint-Andre-des-Eaux",
          "Saint-Antonin-du-Var",
          "Saint-Arnoult",
          "Saint-Aubin-de-Blaye",
          "Saint-Aubin-de-Medoc",
          "Saint-Boil",
          "Saint-Caprais",
          "Saint-Chamas",
          "Saint-Chaptes",
          "Saint-Christol",
          "Saint-Cloud",
          "Saint-Cyr-au-Mont-d Or",
          "Saint-Cyr-l École",
          "Saint-Cyr-sur-Mer",
          "Saint-Cyr-sur-Morin",
          "Saint-Denis",
          "Saint-Denis-d Oleron",
          "Saint-Didier-au-Mont-d Or",
          "Saint-Didier-la-Forêt",
          "Saint-Esteve",
          "Saint-Fargeau-Ponthierry",
          "Saint-Fiacre",
          "Saint-Florent-sur-Cher",
          "Saint-Gely-du-Fesc",
          "Saint-Genis-les-Ollieres",
          "Saint-Georges-d Oleron",
          "Saint-Germain-du-Plain",
          "Saint-Germain-en-Laye",
          "Saint-Germain-les-Corbeil",
          "Saint-Gervais-les-Bains",
          "Saint-Gratien",
          "Saint-Hilaire",
          "Saint-Hippolyte-du-Fort",
          "Saint-Jean",
          "Saint-Jean-Bonnefonds",
          "Saint-Jean-de-Gonville",
          "Saint-Jorioz",
          "Saint-Julien-en-Genevois",
          "Saint-Junien",
          "Saint-Laurent-du-Var",
          "Saint-Louis",
          "Saint-Louis-de-Montferrand",
          "Saint-Mamert-du-Gard",
          "Saint-Mandrier-sur-Mer",
          "Saint-Marcel",
          "Saint-Marcellin",
          "Saint-Martin-d Heres",
          "Saint-Martin-de-Re",
          "Saint-Martin-en-Haut",
          "Saint-Maur-des-Fosses",
          "Saint-Maurice",
          "Saint-Maurice-d Ibie",
          "Saint-Maximin-la-Sainte-Baume",
          "Saint-Medard-en-Jalles",
          "Saint-Michel-sur-Orge",
          "Saint-Orens-de-Gameville",
          "Saint-Ouen",
          "Saint-Paul-Trois-Châteaux",
          "Saint-Pee-sur-Nivelle",
          "Saint-Pierre-d Autils",
          "Saint-Pierre-d Oleron",
          "Saint-Pierre-de-Lages",
          "Saint-Pierre-du-Perray",
          "Saint-Quentin-en-Tourmont",
          "Saint-Quentin-la-Poterie",
          "Saint-Raphaël",
          "Saint-Remeze",
          "Saint-Remy-de-Provence",
          "Saint-Remy-des-Landes",
          "Saint-Remy-les-Chevreuse",
          "Saint-Remy-sur-Avre",
          "Saint-Rogatien",
          "Saint-Sulpice",
          "Saint-Sulpice-et-Cameyrac",
          "Saint-Thibery",
          "Saint-Tropez",
          "Saint-Xandre",
          "Saint-Étienne",
          "Sainte-Cecile-les-Vignes",
          "Sainte-Consorce",
          "Sainte-Eulalie",
          "Sainte-Foy-les-Lyon",
          "Sainte-Marie",
          "Sainte-Marie-de-Re",
          "Sainte-Maxime",
          "Salon-de-Provence",
          "Sanary-sur-Mer",
          "Sannois",
          "Santeny",
          "Sarcelles",
          "Sartrouville",
          "Sarzeau",
          "Saulx-les-Chartreux",
          "Sauternes",
          "Sautron",
          "Sauve",
          "Savigny",
          "Savigny-en-Veron",
          "Savigny-le-Temple",
          "Savigny-sur-Orge",
          "Seine-Port",
          "Senlis",
          "Sennece les Macon",
          "Septeuil",
          "Serignan",
          "Sermaise",
          "Servoz",
          "Sete",
          "Sevran",
          "Sevres",
          "Simandres",
          "Six Fours les Plages",
          "Six-Fours-les-Plages",
          "Soissons",
          "Soisy-sous-Montmorency",
          "Sollies-Ville",
          "Sommieres",
          "Soulac-sur-Mer",
          "Soustons",
          "Spay",
          "Speracedes",
          "St Cloud",
          "St Germain en Laye",
          "St Marcellin",
          "St Orens de Gameville",
          "St Pierre de Manneville",
          "St Quentin",
          "Strasbourg",
          "Sucy-en-Brie",
          "Suresnes",
          "Survilliers",
          "Talence",
          "Talloires",
          "Tarascon",
          "Tassin-la-Demi-Lune",
          "Taverny",
          "Teurtheville Bocage",
          "Thel",
          "Theoule-sur-Mer",
          "Thiais",
          "Thollon-les-Memises",
          "Thonon-les-Bains",
          "Thorigny-sur-Marne",
          "Tigy",
          "Torcy",
          "Toul",
          "Toulon",
          "Toulouse",
          "Touques",
          "Tourrettes-sur-Loup",
          "Tours",
          "Tramain",
          "Treize-Septiers",
          "Tremblay-en-France",
          "Treon",
          "Tresserve",
          "Treves",
          "Triel sur Seine",
          "Triel-sur-Seine",
          "Trouville-sur-Mer",
          "Troyes",
          "Urcuit",
          "Uzes",
          "Valdrôme",
          "Valenton",
          "Valras-Plage",
          "Vannes",
          "Vanves",
          "Varages",
          "Varambon",
          "Vassieux-en-Vercors",
          "Vaucresson",
          "Vaulx en Velin",
          "Vaulx-en-Velin",
          "Vaureal",
          "Vaux-sur-Seine",
          "Velizy-Villacoublay",
          "Velzic",
          "Vendôme",
          "Verfeil",
          "Verneuil sur Avre",
          "Verneuil-sur-Seine",
          "Vernon",
          "Vernouillet",
          "Verrieres-le-Buisson",
          "Versailles",
          "Vert-le-Petit",
          "Vetraz Monthoux",
          "Vetraz-Monthoux",
          "Vezac",
          "Viarmes",
          "Vichy",
          "Vidauban",
          "Vienne",
          "Vigneux-sur-Seine",
          "Vigny",
          "Ville-d Avray",
          "Villecresnes",
          "Villefranche-sur-Mer",
          "Villefranche-sur-Saône",
          "Villefranque",
          "Villejuif",
          "Villemoisson-sur-Orge",
          "Villemomble",
          "Villemur-sur-Tarn",
          "Villeneuve-d Ascq",
          "Villeneuve-les-Avignon",
          "Villeneuve-les-Sablons",
          "Villennes-sur-Seine",
          "Villeparisis",
          "Villepreux",
          "Villeron",
          "Villers-sous-Saint-Leu",
          "Villetaneuse",
          "Villeurbanne",
          "Villiers-sur-Loir",
          "Villiers-sur-Morin",
          "Vinay",
          "Vincennes",
          "Viroflay",
          "Viry-Châtillon",
          "Visan",
          "Vitry sur Seine",
          "Vitry-sur-Seine",
          "Vittel",
          "Voiron",
          "Vouziers",
          "Waldersbach",
          "Wanquetin",
          "Ymare",
          "Yvrac",
          "Èze",
          "Écully",
          "Élancourt",
          "Épinay-sous-Senart",
          "Épône",
          "Éragny",
          "Étampes",
          "Étreaupont",
          "Évian-les-Bains",
          "Évreux",
          "Évry"
         ],
         "xaxis": "x",
         "y": [
          1,
          1,
          5,
          3,
          1,
          1,
          1,
          4,
          2,
          9,
          1,
          3,
          2,
          3,
          6,
          1,
          1,
          1,
          2,
          2,
          1,
          1,
          3,
          1,
          2,
          7,
          3,
          2,
          2,
          1,
          2,
          1,
          1,
          6,
          6,
          1,
          1,
          1,
          11,
          1,
          1,
          1,
          2,
          2,
          1,
          5,
          1,
          1,
          1,
          1,
          1,
          1,
          1,
          1,
          5,
          1,
          1,
          2,
          1,
          3,
          1,
          1,
          1,
          1,
          1,
          1,
          2,
          2,
          1,
          4,
          1,
          3,
          2,
          1,
          1,
          1,
          1,
          8,
          1,
          1,
          2,
          1,
          2,
          1,
          1,
          1,
          1,
          2,
          1,
          1,
          1,
          5,
          1,
          1,
          2,
          3,
          1,
          1,
          1,
          1,
          1,
          1,
          1,
          2,
          1,
          1,
          1,
          1,
          16,
          5,
          1,
          1,
          1,
          2,
          3,
          1,
          2,
          1,
          1,
          1,
          1,
          2,
          2,
          1,
          2,
          3,
          1,
          1,
          1,
          1,
          1,
          1,
          1,
          1,
          1,
          1,
          1,
          1,
          3,
          1,
          1,
          1,
          1,
          1,
          1,
          1,
          3,
          2,
          1,
          1,
          6,
          1,
          3,
          1,
          12,
          1,
          2,
          1,
          2,
          2,
          12,
          1,
          1,
          2,
          2,
          1,
          2,
          1,
          2,
          1,
          3,
          1,
          6,
          1,
          1,
          2,
          1,
          1,
          3,
          1,
          1,
          1,
          1,
          1,
          1,
          3,
          1,
          5,
          2,
          1,
          1,
          2,
          1,
          1,
          1,
          1,
          6,
          1,
          4,
          1,
          1,
          1,
          1,
          1,
          1,
          2,
          6,
          1,
          2,
          2,
          1,
          1,
          1,
          3,
          2,
          1,
          1,
          1,
          1,
          5,
          2,
          1,
          2,
          1,
          1,
          1,
          1,
          4,
          2,
          2,
          1,
          1,
          1,
          5,
          1,
          1,
          2,
          1,
          1,
          1,
          1,
          5,
          1,
          6,
          1,
          1,
          2,
          1,
          1,
          1,
          1,
          1,
          1,
          1,
          1,
          3,
          1,
          3,
          3,
          1,
          1,
          2,
          2,
          3,
          1,
          7,
          1,
          1,
          1,
          3,
          1,
          3,
          1,
          1,
          1,
          1,
          1,
          1,
          2,
          1,
          2,
          1,
          1,
          1,
          1,
          1,
          1,
          1,
          1,
          1,
          2,
          1,
          1,
          5,
          3,
          1,
          1,
          2,
          8,
          6,
          1,
          1,
          1,
          4,
          1,
          2,
          1,
          2,
          1,
          3,
          2,
          1,
          1,
          1,
          2,
          2,
          2,
          1,
          1,
          2,
          3,
          1,
          5,
          1,
          1,
          2,
          1,
          1,
          1,
          1,
          1,
          1,
          1,
          3,
          2,
          1,
          6,
          1,
          2,
          1,
          1,
          1,
          1,
          10,
          3,
          7,
          1,
          1,
          1,
          1,
          1,
          1,
          1,
          1,
          1,
          2,
          6,
          1,
          1,
          1,
          2,
          4,
          1,
          3,
          1,
          1,
          2,
          1,
          1,
          6,
          3,
          2,
          2,
          1,
          1,
          4,
          1,
          1,
          1,
          1,
          1,
          1,
          1,
          1,
          15,
          5,
          1,
          3,
          1,
          1,
          1,
          1,
          1,
          1,
          1,
          1,
          1,
          4,
          1,
          1,
          1,
          1,
          11,
          2,
          1,
          1,
          1,
          1,
          1,
          1,
          1,
          3,
          1,
          1,
          1,
          2,
          8,
          2,
          1,
          2,
          1,
          2,
          1,
          2,
          1,
          1,
          2,
          1,
          3,
          1,
          1,
          2,
          4,
          1,
          1,
          3,
          2,
          1,
          1,
          1,
          1,
          1,
          1,
          1,
          1,
          1,
          3,
          2,
          1,
          1,
          2,
          2,
          1,
          2,
          2,
          1,
          2,
          2,
          1,
          1,
          6,
          1,
          1,
          1,
          4,
          1,
          1,
          3,
          1,
          2,
          2,
          1,
          3,
          2,
          1,
          1,
          1,
          1,
          1,
          1,
          1,
          2,
          1,
          1,
          1,
          1,
          3,
          3,
          1,
          2,
          1,
          1,
          1,
          1,
          2,
          1,
          1,
          1,
          2,
          1,
          3,
          1,
          9,
          19,
          2,
          1,
          2,
          1,
          1,
          1,
          1,
          2,
          1,
          3,
          1,
          2,
          1,
          1,
          1,
          1,
          1,
          1,
          2,
          1,
          2,
          1,
          1,
          1,
          3,
          2,
          2,
          4,
          1,
          1,
          1,
          1,
          1,
          1,
          2,
          3,
          5,
          9,
          1,
          1,
          1,
          8,
          2,
          1,
          1,
          1,
          2,
          1,
          2,
          2,
          1,
          3,
          2,
          4,
          1,
          1,
          2,
          1,
          2,
          1,
          1,
          1,
          1,
          1,
          1,
          1,
          5,
          1,
          1,
          1,
          1,
          1,
          1,
          1,
          7,
          15,
          2,
          6,
          1,
          1,
          3,
          1,
          1,
          1,
          1,
          1,
          1,
          2,
          1,
          2,
          1,
          1,
          3,
          1,
          2,
          4,
          3,
          2,
          2,
          1,
          1,
          1,
          1,
          1,
          2,
          1,
          2,
          7,
          2,
          1,
          1,
          1,
          1,
          39,
          4,
          1,
          1,
          1,
          1,
          1,
          1,
          2,
          1,
          1,
          8,
          3,
          2,
          1,
          1,
          2,
          2,
          2,
          1,
          1,
          1,
          2,
          1,
          2,
          6,
          3,
          2,
          4,
          8,
          11,
          7,
          5,
          7,
          2,
          8,
          2,
          3,
          1,
          2,
          3,
          2,
          4,
          1,
          1,
          1,
          4,
          1,
          2,
          4,
          2,
          1,
          1,
          1,
          1,
          3,
          1,
          1,
          1,
          11,
          1,
          1,
          1,
          4,
          1,
          6,
          1,
          1,
          1,
          1,
          2,
          1,
          1,
          1,
          1,
          2,
          1,
          1,
          1,
          1,
          2,
          1,
          5,
          1,
          1,
          1,
          1,
          1,
          1,
          2,
          1,
          1,
          1,
          1,
          1,
          2,
          10,
          1,
          1,
          1,
          8,
          2,
          3,
          4,
          3,
          1,
          3,
          1,
          6,
          6,
          2,
          10,
          1,
          1,
          1,
          1,
          1,
          1,
          2,
          2,
          1,
          1,
          1,
          1,
          1,
          1,
          1,
          2,
          1,
          1,
          1,
          1,
          1,
          1,
          2,
          3,
          1,
          1,
          1,
          3,
          2,
          2,
          1,
          1,
          1,
          3,
          1,
          4,
          1,
          1,
          1,
          2,
          2,
          1,
          1,
          1,
          4,
          1,
          1,
          9,
          2,
          1,
          1,
          2,
          1,
          1,
          1,
          1,
          1,
          6,
          1,
          2,
          1,
          1,
          2,
          2,
          2,
          1,
          2,
          1,
          3,
          1,
          1,
          1,
          1,
          4,
          1,
          1,
          1,
          1,
          1,
          1,
          1,
          2,
          1,
          2,
          1,
          1,
          2,
          1,
          1,
          1,
          1,
          2,
          3,
          2,
          3,
          1,
          1,
          1,
          4,
          1,
          1,
          1,
          1,
          1,
          1,
          1,
          7,
          4,
          1,
          2,
          1,
          4,
          2,
          1,
          1,
          12,
          1,
          1,
          1,
          1,
          3,
          2,
          2,
          1,
          2,
          1,
          1,
          1,
          1,
          1,
          1,
          1,
          1,
          1,
          1,
          9,
          1,
          3,
          2,
          4,
          2,
          1,
          1,
          1,
          1,
          2,
          2,
          4,
          2,
          1,
          2,
          1,
          4,
          3,
          17,
          19,
          1,
          2,
          1,
          1,
          1,
          1,
          1,
          1,
          1,
          2,
          6,
          3,
          1,
          1,
          8,
          2,
          1,
          3,
          1,
          3,
          1,
          1,
          1,
          1,
          2,
          2,
          2,
          2,
          1,
          1,
          4,
          3,
          1,
          6,
          1,
          5,
          1,
          6,
          1,
          1,
          2,
          1,
          1,
          3,
          2,
          2,
          1,
          1,
          1,
          1,
          6,
          1,
          1,
          3,
          1,
          2,
          1,
          2,
          2,
          1,
          3,
          3,
          1,
          2,
          4,
          1,
          2,
          1,
          1,
          1,
          1,
          2,
          1,
          2,
          3,
          7,
          1,
          1,
          1,
          1,
          1,
          1,
          1,
          2,
          2,
          2,
          1,
          3,
          1,
          9,
          1,
          3,
          3,
          2
         ],
         "yaxis": "y"
        }
       ],
       "layout": {
        "barmode": "relative",
        "coloraxis": {
         "colorbar": {
          "title": {
           "text": "count"
          }
         },
         "colorscale": [
          [
           0,
           "#0d0887"
          ],
          [
           0.1111111111111111,
           "#46039f"
          ],
          [
           0.2222222222222222,
           "#7201a8"
          ],
          [
           0.3333333333333333,
           "#9c179e"
          ],
          [
           0.4444444444444444,
           "#bd3786"
          ],
          [
           0.5555555555555556,
           "#d8576b"
          ],
          [
           0.6666666666666666,
           "#ed7953"
          ],
          [
           0.7777777777777778,
           "#fb9f3a"
          ],
          [
           0.8888888888888888,
           "#fdca26"
          ],
          [
           1,
           "#f0f921"
          ]
         ]
        },
        "height": 600,
        "legend": {
         "tracegroupgap": 0
        },
        "plot_bgcolor": "rgb(250, 242, 242)",
        "template": {
         "data": {
          "bar": [
           {
            "error_x": {
             "color": "#2a3f5f"
            },
            "error_y": {
             "color": "#2a3f5f"
            },
            "marker": {
             "line": {
              "color": "#E5ECF6",
              "width": 0.5
             }
            },
            "type": "bar"
           }
          ],
          "barpolar": [
           {
            "marker": {
             "line": {
              "color": "#E5ECF6",
              "width": 0.5
             }
            },
            "type": "barpolar"
           }
          ],
          "carpet": [
           {
            "aaxis": {
             "endlinecolor": "#2a3f5f",
             "gridcolor": "white",
             "linecolor": "white",
             "minorgridcolor": "white",
             "startlinecolor": "#2a3f5f"
            },
            "baxis": {
             "endlinecolor": "#2a3f5f",
             "gridcolor": "white",
             "linecolor": "white",
             "minorgridcolor": "white",
             "startlinecolor": "#2a3f5f"
            },
            "type": "carpet"
           }
          ],
          "choropleth": [
           {
            "colorbar": {
             "outlinewidth": 0,
             "ticks": ""
            },
            "type": "choropleth"
           }
          ],
          "contour": [
           {
            "colorbar": {
             "outlinewidth": 0,
             "ticks": ""
            },
            "colorscale": [
             [
              0,
              "#0d0887"
             ],
             [
              0.1111111111111111,
              "#46039f"
             ],
             [
              0.2222222222222222,
              "#7201a8"
             ],
             [
              0.3333333333333333,
              "#9c179e"
             ],
             [
              0.4444444444444444,
              "#bd3786"
             ],
             [
              0.5555555555555556,
              "#d8576b"
             ],
             [
              0.6666666666666666,
              "#ed7953"
             ],
             [
              0.7777777777777778,
              "#fb9f3a"
             ],
             [
              0.8888888888888888,
              "#fdca26"
             ],
             [
              1,
              "#f0f921"
             ]
            ],
            "type": "contour"
           }
          ],
          "contourcarpet": [
           {
            "colorbar": {
             "outlinewidth": 0,
             "ticks": ""
            },
            "type": "contourcarpet"
           }
          ],
          "heatmap": [
           {
            "colorbar": {
             "outlinewidth": 0,
             "ticks": ""
            },
            "colorscale": [
             [
              0,
              "#0d0887"
             ],
             [
              0.1111111111111111,
              "#46039f"
             ],
             [
              0.2222222222222222,
              "#7201a8"
             ],
             [
              0.3333333333333333,
              "#9c179e"
             ],
             [
              0.4444444444444444,
              "#bd3786"
             ],
             [
              0.5555555555555556,
              "#d8576b"
             ],
             [
              0.6666666666666666,
              "#ed7953"
             ],
             [
              0.7777777777777778,
              "#fb9f3a"
             ],
             [
              0.8888888888888888,
              "#fdca26"
             ],
             [
              1,
              "#f0f921"
             ]
            ],
            "type": "heatmap"
           }
          ],
          "heatmapgl": [
           {
            "colorbar": {
             "outlinewidth": 0,
             "ticks": ""
            },
            "colorscale": [
             [
              0,
              "#0d0887"
             ],
             [
              0.1111111111111111,
              "#46039f"
             ],
             [
              0.2222222222222222,
              "#7201a8"
             ],
             [
              0.3333333333333333,
              "#9c179e"
             ],
             [
              0.4444444444444444,
              "#bd3786"
             ],
             [
              0.5555555555555556,
              "#d8576b"
             ],
             [
              0.6666666666666666,
              "#ed7953"
             ],
             [
              0.7777777777777778,
              "#fb9f3a"
             ],
             [
              0.8888888888888888,
              "#fdca26"
             ],
             [
              1,
              "#f0f921"
             ]
            ],
            "type": "heatmapgl"
           }
          ],
          "histogram": [
           {
            "marker": {
             "colorbar": {
              "outlinewidth": 0,
              "ticks": ""
             }
            },
            "type": "histogram"
           }
          ],
          "histogram2d": [
           {
            "colorbar": {
             "outlinewidth": 0,
             "ticks": ""
            },
            "colorscale": [
             [
              0,
              "#0d0887"
             ],
             [
              0.1111111111111111,
              "#46039f"
             ],
             [
              0.2222222222222222,
              "#7201a8"
             ],
             [
              0.3333333333333333,
              "#9c179e"
             ],
             [
              0.4444444444444444,
              "#bd3786"
             ],
             [
              0.5555555555555556,
              "#d8576b"
             ],
             [
              0.6666666666666666,
              "#ed7953"
             ],
             [
              0.7777777777777778,
              "#fb9f3a"
             ],
             [
              0.8888888888888888,
              "#fdca26"
             ],
             [
              1,
              "#f0f921"
             ]
            ],
            "type": "histogram2d"
           }
          ],
          "histogram2dcontour": [
           {
            "colorbar": {
             "outlinewidth": 0,
             "ticks": ""
            },
            "colorscale": [
             [
              0,
              "#0d0887"
             ],
             [
              0.1111111111111111,
              "#46039f"
             ],
             [
              0.2222222222222222,
              "#7201a8"
             ],
             [
              0.3333333333333333,
              "#9c179e"
             ],
             [
              0.4444444444444444,
              "#bd3786"
             ],
             [
              0.5555555555555556,
              "#d8576b"
             ],
             [
              0.6666666666666666,
              "#ed7953"
             ],
             [
              0.7777777777777778,
              "#fb9f3a"
             ],
             [
              0.8888888888888888,
              "#fdca26"
             ],
             [
              1,
              "#f0f921"
             ]
            ],
            "type": "histogram2dcontour"
           }
          ],
          "mesh3d": [
           {
            "colorbar": {
             "outlinewidth": 0,
             "ticks": ""
            },
            "type": "mesh3d"
           }
          ],
          "parcoords": [
           {
            "line": {
             "colorbar": {
              "outlinewidth": 0,
              "ticks": ""
             }
            },
            "type": "parcoords"
           }
          ],
          "pie": [
           {
            "automargin": true,
            "type": "pie"
           }
          ],
          "scatter": [
           {
            "marker": {
             "colorbar": {
              "outlinewidth": 0,
              "ticks": ""
             }
            },
            "type": "scatter"
           }
          ],
          "scatter3d": [
           {
            "line": {
             "colorbar": {
              "outlinewidth": 0,
              "ticks": ""
             }
            },
            "marker": {
             "colorbar": {
              "outlinewidth": 0,
              "ticks": ""
             }
            },
            "type": "scatter3d"
           }
          ],
          "scattercarpet": [
           {
            "marker": {
             "colorbar": {
              "outlinewidth": 0,
              "ticks": ""
             }
            },
            "type": "scattercarpet"
           }
          ],
          "scattergeo": [
           {
            "marker": {
             "colorbar": {
              "outlinewidth": 0,
              "ticks": ""
             }
            },
            "type": "scattergeo"
           }
          ],
          "scattergl": [
           {
            "marker": {
             "colorbar": {
              "outlinewidth": 0,
              "ticks": ""
             }
            },
            "type": "scattergl"
           }
          ],
          "scattermapbox": [
           {
            "marker": {
             "colorbar": {
              "outlinewidth": 0,
              "ticks": ""
             }
            },
            "type": "scattermapbox"
           }
          ],
          "scatterpolar": [
           {
            "marker": {
             "colorbar": {
              "outlinewidth": 0,
              "ticks": ""
             }
            },
            "type": "scatterpolar"
           }
          ],
          "scatterpolargl": [
           {
            "marker": {
             "colorbar": {
              "outlinewidth": 0,
              "ticks": ""
             }
            },
            "type": "scatterpolargl"
           }
          ],
          "scatterternary": [
           {
            "marker": {
             "colorbar": {
              "outlinewidth": 0,
              "ticks": ""
             }
            },
            "type": "scatterternary"
           }
          ],
          "surface": [
           {
            "colorbar": {
             "outlinewidth": 0,
             "ticks": ""
            },
            "colorscale": [
             [
              0,
              "#0d0887"
             ],
             [
              0.1111111111111111,
              "#46039f"
             ],
             [
              0.2222222222222222,
              "#7201a8"
             ],
             [
              0.3333333333333333,
              "#9c179e"
             ],
             [
              0.4444444444444444,
              "#bd3786"
             ],
             [
              0.5555555555555556,
              "#d8576b"
             ],
             [
              0.6666666666666666,
              "#ed7953"
             ],
             [
              0.7777777777777778,
              "#fb9f3a"
             ],
             [
              0.8888888888888888,
              "#fdca26"
             ],
             [
              1,
              "#f0f921"
             ]
            ],
            "type": "surface"
           }
          ],
          "table": [
           {
            "cells": {
             "fill": {
              "color": "#EBF0F8"
             },
             "line": {
              "color": "white"
             }
            },
            "header": {
             "fill": {
              "color": "#C8D4E3"
             },
             "line": {
              "color": "white"
             }
            },
            "type": "table"
           }
          ]
         },
         "layout": {
          "annotationdefaults": {
           "arrowcolor": "#2a3f5f",
           "arrowhead": 0,
           "arrowwidth": 1
          },
          "coloraxis": {
           "colorbar": {
            "outlinewidth": 0,
            "ticks": ""
           }
          },
          "colorscale": {
           "diverging": [
            [
             0,
             "#8e0152"
            ],
            [
             0.1,
             "#c51b7d"
            ],
            [
             0.2,
             "#de77ae"
            ],
            [
             0.3,
             "#f1b6da"
            ],
            [
             0.4,
             "#fde0ef"
            ],
            [
             0.5,
             "#f7f7f7"
            ],
            [
             0.6,
             "#e6f5d0"
            ],
            [
             0.7,
             "#b8e186"
            ],
            [
             0.8,
             "#7fbc41"
            ],
            [
             0.9,
             "#4d9221"
            ],
            [
             1,
             "#276419"
            ]
           ],
           "sequential": [
            [
             0,
             "#0d0887"
            ],
            [
             0.1111111111111111,
             "#46039f"
            ],
            [
             0.2222222222222222,
             "#7201a8"
            ],
            [
             0.3333333333333333,
             "#9c179e"
            ],
            [
             0.4444444444444444,
             "#bd3786"
            ],
            [
             0.5555555555555556,
             "#d8576b"
            ],
            [
             0.6666666666666666,
             "#ed7953"
            ],
            [
             0.7777777777777778,
             "#fb9f3a"
            ],
            [
             0.8888888888888888,
             "#fdca26"
            ],
            [
             1,
             "#f0f921"
            ]
           ],
           "sequentialminus": [
            [
             0,
             "#0d0887"
            ],
            [
             0.1111111111111111,
             "#46039f"
            ],
            [
             0.2222222222222222,
             "#7201a8"
            ],
            [
             0.3333333333333333,
             "#9c179e"
            ],
            [
             0.4444444444444444,
             "#bd3786"
            ],
            [
             0.5555555555555556,
             "#d8576b"
            ],
            [
             0.6666666666666666,
             "#ed7953"
            ],
            [
             0.7777777777777778,
             "#fb9f3a"
            ],
            [
             0.8888888888888888,
             "#fdca26"
            ],
            [
             1,
             "#f0f921"
            ]
           ]
          },
          "colorway": [
           "#636efa",
           "#EF553B",
           "#00cc96",
           "#ab63fa",
           "#FFA15A",
           "#19d3f3",
           "#FF6692",
           "#B6E880",
           "#FF97FF",
           "#FECB52"
          ],
          "font": {
           "color": "#2a3f5f"
          },
          "geo": {
           "bgcolor": "white",
           "lakecolor": "white",
           "landcolor": "#E5ECF6",
           "showlakes": true,
           "showland": true,
           "subunitcolor": "white"
          },
          "hoverlabel": {
           "align": "left"
          },
          "hovermode": "closest",
          "mapbox": {
           "style": "light"
          },
          "paper_bgcolor": "white",
          "plot_bgcolor": "#E5ECF6",
          "polar": {
           "angularaxis": {
            "gridcolor": "white",
            "linecolor": "white",
            "ticks": ""
           },
           "bgcolor": "#E5ECF6",
           "radialaxis": {
            "gridcolor": "white",
            "linecolor": "white",
            "ticks": ""
           }
          },
          "scene": {
           "xaxis": {
            "backgroundcolor": "#E5ECF6",
            "gridcolor": "white",
            "gridwidth": 2,
            "linecolor": "white",
            "showbackground": true,
            "ticks": "",
            "zerolinecolor": "white"
           },
           "yaxis": {
            "backgroundcolor": "#E5ECF6",
            "gridcolor": "white",
            "gridwidth": 2,
            "linecolor": "white",
            "showbackground": true,
            "ticks": "",
            "zerolinecolor": "white"
           },
           "zaxis": {
            "backgroundcolor": "#E5ECF6",
            "gridcolor": "white",
            "gridwidth": 2,
            "linecolor": "white",
            "showbackground": true,
            "ticks": "",
            "zerolinecolor": "white"
           }
          },
          "shapedefaults": {
           "line": {
            "color": "#2a3f5f"
           }
          },
          "ternary": {
           "aaxis": {
            "gridcolor": "white",
            "linecolor": "white",
            "ticks": ""
           },
           "baxis": {
            "gridcolor": "white",
            "linecolor": "white",
            "ticks": ""
           },
           "bgcolor": "#E5ECF6",
           "caxis": {
            "gridcolor": "white",
            "linecolor": "white",
            "ticks": ""
           }
          },
          "title": {
           "x": 0.05
          },
          "xaxis": {
           "automargin": true,
           "gridcolor": "white",
           "linecolor": "white",
           "ticks": "",
           "title": {
            "standoff": 15
           },
           "zerolinecolor": "white",
           "zerolinewidth": 2
          },
          "yaxis": {
           "automargin": true,
           "gridcolor": "white",
           "linecolor": "white",
           "ticks": "",
           "title": {
            "standoff": 15
           },
           "zerolinecolor": "white",
           "zerolinewidth": 2
          }
         }
        },
        "title": {
         "text": "Number of ads in each city"
        },
        "xaxis": {
         "anchor": "y",
         "domain": [
          0,
          1
         ],
         "title": {
          "text": "City"
         }
        },
        "yaxis": {
         "anchor": "x",
         "domain": [
          0,
          1
         ],
         "title": {
          "text": "count"
         }
        }
       }
      },
      "text/html": [
       "<div>\n",
       "        \n",
       "        \n",
       "            <div id=\"bc8df70e-47c6-4e1a-ad07-5f23ae61763f\" class=\"plotly-graph-div\" style=\"height:600px; width:100%;\"></div>\n",
       "            <script type=\"text/javascript\">\n",
       "                require([\"plotly\"], function(Plotly) {\n",
       "                    window.PLOTLYENV=window.PLOTLYENV || {};\n",
       "                    \n",
       "                if (document.getElementById(\"bc8df70e-47c6-4e1a-ad07-5f23ae61763f\")) {\n",
       "                    Plotly.newPlot(\n",
       "                        'bc8df70e-47c6-4e1a-ad07-5f23ae61763f',\n",
       "                        [{\"alignmentgroup\": \"True\", \"hoverlabel\": {\"namelength\": 0}, \"hovertemplate\": \"City=%{x}<br>count=%{marker.color}\", \"legendgroup\": \"\", \"marker\": {\"color\": [1, 1, 5, 3, 1, 1, 1, 4, 2, 9, 1, 3, 2, 3, 6, 1, 1, 1, 2, 2, 1, 1, 3, 1, 2, 7, 3, 2, 2, 1, 2, 1, 1, 6, 6, 1, 1, 1, 11, 1, 1, 1, 2, 2, 1, 5, 1, 1, 1, 1, 1, 1, 1, 1, 5, 1, 1, 2, 1, 3, 1, 1, 1, 1, 1, 1, 2, 2, 1, 4, 1, 3, 2, 1, 1, 1, 1, 8, 1, 1, 2, 1, 2, 1, 1, 1, 1, 2, 1, 1, 1, 5, 1, 1, 2, 3, 1, 1, 1, 1, 1, 1, 1, 2, 1, 1, 1, 1, 16, 5, 1, 1, 1, 2, 3, 1, 2, 1, 1, 1, 1, 2, 2, 1, 2, 3, 1, 1, 1, 1, 1, 1, 1, 1, 1, 1, 1, 1, 3, 1, 1, 1, 1, 1, 1, 1, 3, 2, 1, 1, 6, 1, 3, 1, 12, 1, 2, 1, 2, 2, 12, 1, 1, 2, 2, 1, 2, 1, 2, 1, 3, 1, 6, 1, 1, 2, 1, 1, 3, 1, 1, 1, 1, 1, 1, 3, 1, 5, 2, 1, 1, 2, 1, 1, 1, 1, 6, 1, 4, 1, 1, 1, 1, 1, 1, 2, 6, 1, 2, 2, 1, 1, 1, 3, 2, 1, 1, 1, 1, 5, 2, 1, 2, 1, 1, 1, 1, 4, 2, 2, 1, 1, 1, 5, 1, 1, 2, 1, 1, 1, 1, 5, 1, 6, 1, 1, 2, 1, 1, 1, 1, 1, 1, 1, 1, 3, 1, 3, 3, 1, 1, 2, 2, 3, 1, 7, 1, 1, 1, 3, 1, 3, 1, 1, 1, 1, 1, 1, 2, 1, 2, 1, 1, 1, 1, 1, 1, 1, 1, 1, 2, 1, 1, 5, 3, 1, 1, 2, 8, 6, 1, 1, 1, 4, 1, 2, 1, 2, 1, 3, 2, 1, 1, 1, 2, 2, 2, 1, 1, 2, 3, 1, 5, 1, 1, 2, 1, 1, 1, 1, 1, 1, 1, 3, 2, 1, 6, 1, 2, 1, 1, 1, 1, 10, 3, 7, 1, 1, 1, 1, 1, 1, 1, 1, 1, 2, 6, 1, 1, 1, 2, 4, 1, 3, 1, 1, 2, 1, 1, 6, 3, 2, 2, 1, 1, 4, 1, 1, 1, 1, 1, 1, 1, 1, 15, 5, 1, 3, 1, 1, 1, 1, 1, 1, 1, 1, 1, 4, 1, 1, 1, 1, 11, 2, 1, 1, 1, 1, 1, 1, 1, 3, 1, 1, 1, 2, 8, 2, 1, 2, 1, 2, 1, 2, 1, 1, 2, 1, 3, 1, 1, 2, 4, 1, 1, 3, 2, 1, 1, 1, 1, 1, 1, 1, 1, 1, 3, 2, 1, 1, 2, 2, 1, 2, 2, 1, 2, 2, 1, 1, 6, 1, 1, 1, 4, 1, 1, 3, 1, 2, 2, 1, 3, 2, 1, 1, 1, 1, 1, 1, 1, 2, 1, 1, 1, 1, 3, 3, 1, 2, 1, 1, 1, 1, 2, 1, 1, 1, 2, 1, 3, 1, 9, 19, 2, 1, 2, 1, 1, 1, 1, 2, 1, 3, 1, 2, 1, 1, 1, 1, 1, 1, 2, 1, 2, 1, 1, 1, 3, 2, 2, 4, 1, 1, 1, 1, 1, 1, 2, 3, 5, 9, 1, 1, 1, 8, 2, 1, 1, 1, 2, 1, 2, 2, 1, 3, 2, 4, 1, 1, 2, 1, 2, 1, 1, 1, 1, 1, 1, 1, 5, 1, 1, 1, 1, 1, 1, 1, 7, 15, 2, 6, 1, 1, 3, 1, 1, 1, 1, 1, 1, 2, 1, 2, 1, 1, 3, 1, 2, 4, 3, 2, 2, 1, 1, 1, 1, 1, 2, 1, 2, 7, 2, 1, 1, 1, 1, 39, 4, 1, 1, 1, 1, 1, 1, 2, 1, 1, 8, 3, 2, 1, 1, 2, 2, 2, 1, 1, 1, 2, 1, 2, 6, 3, 2, 4, 8, 11, 7, 5, 7, 2, 8, 2, 3, 1, 2, 3, 2, 4, 1, 1, 1, 4, 1, 2, 4, 2, 1, 1, 1, 1, 3, 1, 1, 1, 11, 1, 1, 1, 4, 1, 6, 1, 1, 1, 1, 2, 1, 1, 1, 1, 2, 1, 1, 1, 1, 2, 1, 5, 1, 1, 1, 1, 1, 1, 2, 1, 1, 1, 1, 1, 2, 10, 1, 1, 1, 8, 2, 3, 4, 3, 1, 3, 1, 6, 6, 2, 10, 1, 1, 1, 1, 1, 1, 2, 2, 1, 1, 1, 1, 1, 1, 1, 2, 1, 1, 1, 1, 1, 1, 2, 3, 1, 1, 1, 3, 2, 2, 1, 1, 1, 3, 1, 4, 1, 1, 1, 2, 2, 1, 1, 1, 4, 1, 1, 9, 2, 1, 1, 2, 1, 1, 1, 1, 1, 6, 1, 2, 1, 1, 2, 2, 2, 1, 2, 1, 3, 1, 1, 1, 1, 4, 1, 1, 1, 1, 1, 1, 1, 2, 1, 2, 1, 1, 2, 1, 1, 1, 1, 2, 3, 2, 3, 1, 1, 1, 4, 1, 1, 1, 1, 1, 1, 1, 7, 4, 1, 2, 1, 4, 2, 1, 1, 12, 1, 1, 1, 1, 3, 2, 2, 1, 2, 1, 1, 1, 1, 1, 1, 1, 1, 1, 1, 9, 1, 3, 2, 4, 2, 1, 1, 1, 1, 2, 2, 4, 2, 1, 2, 1, 4, 3, 17, 19, 1, 2, 1, 1, 1, 1, 1, 1, 1, 2, 6, 3, 1, 1, 8, 2, 1, 3, 1, 3, 1, 1, 1, 1, 2, 2, 2, 2, 1, 1, 4, 3, 1, 6, 1, 5, 1, 6, 1, 1, 2, 1, 1, 3, 2, 2, 1, 1, 1, 1, 6, 1, 1, 3, 1, 2, 1, 2, 2, 1, 3, 3, 1, 2, 4, 1, 2, 1, 1, 1, 1, 2, 1, 2, 3, 7, 1, 1, 1, 1, 1, 1, 1, 2, 2, 2, 1, 3, 1, 9, 1, 3, 3, 2], \"coloraxis\": \"coloraxis\"}, \"name\": \"\", \"offsetgroup\": \"\", \"orientation\": \"v\", \"showlegend\": false, \"textposition\": \"auto\", \"type\": \"bar\", \"x\": [\"15 Min Nord Bergerac\", \"Abbeville\", \"Acheres\", \"Agde\", \"Agosta\", \"Aigrefeuille-d Aunis\", \"Aigues Mortes\", \"Aigues-Mortes\", \"Aix en Provence\", \"Aix-en-Provence\", \"Aix-les-Bains\", \"Ajaccio\", \"Albertville\", \"Albi\", \"Alfortville\", \"Alixan\", \"Allauch\", \"Allegre-les-Fumades\", \"Ambutrix\", \"Amiens\", \"Andernos-les-Bains\", \"Andilly\", \"Andresy\", \"Anet\", \"Angers\", \"Angerville\", \"Anglet\", \"Angoulins\", \"Annecy\", \"Annecy-le-Vieux\", \"Annemasse\", \"Anneyron\", \"Annonay\", \"Antibes\", \"Antony\", \"Arcachon\", \"Arcis-sur-Aube\", \"Ares\", \"Argenteuil\", \"Arnas\", \"Arnouville\", \"Arpajon\", \"Arras\", \"Arrou\", \"Ars-en-Re\", \"Asnieres-sur-Seine\", \"Athis-Mons\", \"Aubagne\", \"Aubigny-en-Artois\", \"Audenge\", \"Auffargis\", \"Auffreville-Brasseuil\", \"Aux Portes du Mans\", \"Auzielle\", \"Avignon\", \"Avrainville\", \"Bagneux\", \"Bagnolet\", \"Bagnols-en-For\\u00eat\", \"Bagnols-sur-Ceze\", \"Baie-Mahault\", \"Baillargues\", \"Bailly\", \"Ballainvilliers\", \"Ballaison\", \"Bandol\", \"Barbizon\", \"Bassens\", \"Bastia\", \"Bayonne\", \"Bazas\", \"Beaucaire\", \"Beauchamp\", \"Beauficel-en-Lyons\", \"Beaulieu-sur-Mer\", \"Beaune\", \"Beaurepaire\", \"Beauvais\", \"Begles\", \"Belfort\", \"Bellegarde\", \"Bellegarde-sur-Valserine\", \"Belleville-sur-Loire\", \"Belleville-sur-Mer\", \"Bernay\", \"Berneval-le-Grand\", \"Besancon\", \"Besan\\u00e7on\", \"Besse-sur-Braye\", \"Bethune\", \"Beziers\", \"Bezons\", \"Bidache\", \"Bidart\", \"Bierne\", \"Biscarrosse\", \"Blanquefort\", \"Blauvac\", \"Blauzac\", \"Bois-Colombes\", \"Boissise le Roi\", \"Boissy-Saint-Leger\", \"Bolquere\", \"Bondy\", \"Bonneuil-sur-Marne\", \"Bonneville\", \"Bonnieres-sur-Seine\", \"Boos\", \"Bordeaux\", \"Bormes-les-Mimosas\", \"Bossay-sur-Claise\", \"Bouafle\", \"Bouffemont\", \"Bougival\", \"Bouliac\", \"Boulogne Billancourt\", \"Boulogne-Billancourt\", \"Boulogne-sur-Mer\", \"Bouloire\", \"Bourg-de-Peage\", \"Bourg-la-Reine\", \"Bourgoin-Jallieu\", \"Boussy-Saint-Antoine\", \"Boutigny-Prouais\", \"Brest\", \"Bretigny-sur-Orge\", \"Brian\\u00e7onnet\", \"Briare\", \"Brie-Comte-Robert\", \"Briey\", \"Brignac-la-Plaine\", \"Brignais\", \"Brignoles\", \"Briis-sous-Forges\", \"Brindas\", \"Brion\", \"Brissac-Quince\", \"Bruay-la-Buissiere\", \"Bruges\", \"Brunoy\", \"Bruyeres-le-Ch\\u00e2tel\", \"Bry-sur-Marne\", \"Buchelay\", \"Buis-les-Baronnies\", \"Bures sur Yvette\", \"Bures-sur-Yvette\", \"Bussy-Saint-Georges\", \"Buthiers\", \"Cabris\", \"Cachan\", \"Cagnes-sur-Mer\", \"Campitello\", \"Canet Plage\", \"Canet-en-Roussillon\", \"Cannes\", \"Carbon-Blanc\", \"Carnac\", \"Carnoux-en-Provence\", \"Carpentras\", \"Carrieres sous Poissy\", \"Carrieres-sous-Poissy\", \"Carrieres-sur-Seine\", \"Carros\", \"Carry-le-Rouet\", \"Cassis\", \"Castanet-Tolosan\", \"Castelnau-le-Lez\", \"Castres\", \"Castries\", \"Caveirac\", \"Cavignac\", \"Cayenne\", \"Cergy\", \"Cessy\", \"Ceyreste\", \"Chainaz-les-Frasses\", \"Chalon-sur-Sa\\u00f4ne\", \"Chambly\", \"Chambourcy\", \"Chamonix-Mont-Blanc\", \"Champagne-au-Mont-d Or\", \"Champagney\", \"Champigny-sur-Marne\", \"Champs-sur-Marne\", \"Change\", \"Chanteloup les Vignes\", \"Chanteloup-en-Brie\", \"Chanteloup-les-Vignes\", \"Chantilly\", \"Chaponost\", \"Chappes\", \"Chaptelat\", \"Charbonnieres-les-Bains\", \"Charce-Saint-Ellier-sur-Aubance\", \"Charenton-le-Pont\", \"Charleval\", \"Chartres\", \"Chatelaillon Plage\", \"Chatou\", \"Chaumont-en-Vexin\", \"Chavagne\", \"Chelles\", \"Chennevieres-sur-Marne\", \"Chenoise\", \"Chevanceaux\", \"Chevry-Cossigny\", \"Chilly-Mazarin\", \"Choisy le Roi\", \"Choisy-le-Roi\", \"Cholet\", \"Ch\\u00e2teau-Salins\", \"Ch\\u00e2teau-Thierry\", \"Ch\\u00e2teauneuf-la-For\\u00eat\", \"Ch\\u00e2tillon\", \"Ch\\u00e2tillon-en-Michaille\", \"Cintegabelle\", \"Cires-les-Mello\", \"Civray\", \"Claira\", \"Clamart\", \"Claye-Souilly\", \"Clermont-Pouyguilles\", \"Clermont-l Herault\", \"Clohars-Carno\\u00ebt\", \"Cloyes-sur-le-Loir\", \"Cogolin\", \"Colognac\", \"Colombes\", \"Colomiers\", \"Combloux\", \"Combs-la-Ville\", \"Compiegne\", \"Conches en Ouche\", \"Conflans-Sainte-Honorine\", \"Contes\", \"Corconne\", \"Cormeilles-en-Parisis\", \"Cornillon-Confoux\", \"Couilly-Pont-aux-Dames\", \"Coulaines\", \"Coulommiers\", \"Courbevoie\", \"Courpignac\", \"Couzeix\", \"Coye-la-For\\u00eat\", \"Co\\u00ebsmes\", \"Craponne\", \"Cravans\", \"Cregy-les-Meaux\", \"Creteil\", \"Cuy-Saint-Fiacre\", \"Dammarie-les-Lys\", \"Dammartin-en-Go\\u00eble\", \"Dardilly\", \"Deauville\", \"Deuil-la-Barre\", \"Die\", \"Dieppe\", \"Dijon\", \"Divonne-les-Bains\", \"Dole\", \"Dolus-d Oleron\", \"Dompierre-sur-Mer\", \"Dourdan\", \"Doussard\", \"Draguignan\", \"Draillant\", \"Dreux\", \"Echirolles\", \"Enghien-les-Bains\", \"Ensues-la-Redonne\", \"Ermont\", \"Escalquens\", \"Evian les Bains\", \"Eybens\", \"Eysines\", \"Falga\", \"Faverges\", \"Fayence\", \"Feigeres\", \"Fenouillet\", \"Ferney Voltaire\", \"Ferney-Voltaire\", \"Fessy\", \"Festigny\", \"Feternes\", \"Figanieres\", \"Flayosc\", \"Floirac\", \"Florensac\", \"Font-Romeu-Odeillo-Via\", \"Fontaine-le-Comte\", \"Fontaine-sous-Jouy\", \"Fontainebleau\", \"Fontenay-le-Fleury\", \"Fontenay-les-Briis\", \"Fontenay-sous-Bois\", \"Franconville\", \"Frejus\", \"Fresnes\", \"Freteval\", \"Froissy\", \"Fromelennes\", \"Frontignan\", \"Frouard\", \"Fuveau\", \"Gagny\", \"Gambais\", \"Ganges\", \"Garches\", \"Gastins\", \"Gemozac\", \"Genissieux\", \"Germigny-l \\u00c9v\\u00eaque\", \"Gien\", \"Gif-sur-Yvette\", \"Gignac\", \"Gignac la Nerthe\", \"Gordes\", \"Gournay-sur-Marne\", \"Gouvieux\", \"Gradignan\", \"Grasse\", \"Greges\", \"Grenade\", \"Grenoble\", \"Gresy-sur-Aix\", \"Grezieu-la-Varenne\", \"Grignan\", \"Grisy-les-Pl\\u00e2tres\", \"Groslay\", \"Guermantes\", \"Guernes\", \"Guerville\", \"Guichainville\", \"Gujan-Mestras\", \"Guyancourt\", \"Habere-Lullin\", \"Hericy\", \"Hesdin-l Abbe\", \"Heudreville sur Eure\", \"Heyrieux\", \"Hierges\", \"Houdan\", \"Houilles\", \"Hyeres\", \"Igny\", \"Intreville\", \"Itteville\", \"Ivry-sur-Seine\", \"Jarville-la-Malgrange\", \"Joigny\", \"Jonquieres-Saint-Vincent\", \"Joue-l Abbe\", \"Jouy le Moutier\", \"Jouy-le-Moutier\", \"Juan les Pins\", \"Jujurieux\", \"Juvignac\", \"L Estaque\", \"L Ha\\u00ff-les-Roses\", \"L Isle-Adam\", \"L Isle-Jourdain\", \"L Isle-sur-la-Sorgue\", \"L \\u00c9toile\", \"La Baule-Escoublac\", \"La Cadiere-d Azur\", \"La Chapelle-Vend\\u00f4moise\", \"La Chapelle-du-Noyer\", \"La Ciotat\", \"La Ferte-Alais\", \"La Ferte-Gaucher\", \"La Garde\", \"La Garenne-Colombes\", \"La Grande-Motte\", \"La Loupe\", \"La Madeleine\", \"La Motte-Chalancon\", \"La M\\u00f4le\", \"La Neuville-Chant-d Oisel\", \"La Penne-sur-Huveaune\", \"La Pomponnette\", \"La Possession\", \"La Roche-Vineuse\", \"La Rochelle\", \"La Seyne-sur-Mer\", \"La Teste de Buch\", \"La Teste-de-Buch\", \"La Tranche-sur-Mer\", \"La Trinite\", \"La Turbie\", \"La Valette-du-Var\", \"La Verdiere\", \"La Ville-du-Bois\", \"Lacanau\", \"Lacanau Ocean\", \"Lagny sur Marne\", \"Lagny-sur-Marne\", \"Lagor\", \"Lagord\", \"Lahonce\", \"Lainville-en-Vexin\", \"Lamorlaye\", \"Lamothe-Montravel\", \"Landouge\", \"Langeais\", \"Lanton\", \"Lan\\u00e7on-Provence\", \"Laroque-des-Alberes\", \"Lavaur\", \"Le Bar-sur-Loup\", \"Le Barcares\", \"Le Beausset\", \"Le Bois-Plage-en-Re\", \"Le Boulou\", \"Le Bouscat\", \"Le Cannet\", \"Le Chesnay\", \"Le Ch\\u00e2teau-d Oleron\", \"Le Cres\", \"Le Grau du Roi\", \"Le Grau-du-Roi\", \"Le Kremlin-Bic\\u00eatre\", \"Le Lamentin\", \"Le Lavandou\", \"Le Loroux-Bottereau\", \"Le Luc\", \"Le Lude\", \"Le Mans\", \"Le Mee-sur-Seine\", \"Le Mesnil le Roi\", \"Le Mesnil-le-Roi\", \"Le Pecq\", \"Le Pian-Medoc\", \"Le Plessis-Belleville\", \"Le Plessis-Bouchard\", \"Le Plessis-P\\u00e2te\", \"Le Plessis-Robinson\", \"Le Port-Marly\", \"Le Pouliguen\", \"Le Pradet\", \"Le Puy-Sainte-Reparade\", \"Le Raincy\", \"Le Tholonet\", \"Le Tignet\", \"Le Val\", \"Le Vesinet\", \"Lege-Cap-Ferret\", \"Legny\", \"Lembras\", \"Lere\", \"Les Adrets-de-l Esterel\", \"Les Alluets-le-Roi\", \"Les Andelys\", \"Les Angles\", \"Les Breviaires\", \"Les Essarts-le-Roi\", \"Les Houches\", \"Les Lilas\", \"Les Pavillons-sous-Bois\", \"Les Ulis\", \"Leuville-sur-Orge\", \"Levallois-Perret\", \"Leves\", \"Lille\", \"Limay\", \"Limeil-Brevannes\", \"Limoges\", \"Limonest\", \"Linas\", \"Livry-Gargan\", \"Lodeve\", \"Lommoye\", \"Longjumeau\", \"Lorgues\", \"Lorient\", \"Lorleau\", \"Lormont\", \"Lorris\", \"Louviers\", \"Lunel\", \"Lyon 1er\", \"Lyon 3eme\", \"Lyon 4eme\", \"Lyon 5eme\", \"Lyon 6eme\", \"Lyon 8eme\", \"Lyons-la-For\\u00eat\", \"Macau\", \"Macheren\", \"Maffliers\", \"Magagnosc\", \"Magnanville\", \"Magny en Vexin\", \"Magny-les-Hameaux\", \"Magrin\", \"Maincy\", \"Maintenon\", \"Maisons-Alfort\", \"Maisons-Laffitte\", \"Malakoff\", \"Malemort-du-Comtat\", \"Mandelieu la Napoule\", \"Mandelieu-la-Napoule\", \"Manduel\", \"Manosque\", \"Mantes la Jolie\", \"Mantes la Ville\", \"Mantes-la-Ville\", \"Marans\", \"Marcilly-la-Campagne\", \"Marcoussis\", \"Marcy-l \\u00c9toile\", \"Mareil-Marly\", \"Mareuil\", \"Marguerittes\", \"Marignane\", \"Marillac le Franc\", \"Marin\", \"Marseillan\", \"Marseille\", \"Marseille 10eme\", \"Marseille 11eme\", \"Marseille 12eme\", \"Marseille 13eme\", \"Marseille 14eme\", \"Marseille 16eme\", \"Marseille 1er\", \"Marseille 4eme\", \"Marseille 6eme\", \"Marseille 8eme\", \"Marseille 9eme\", \"Marsillargues\", \"Marsonnas\", \"Martigues\", \"Massongy\", \"Massy\", \"Mauguio\", \"Maule\", \"Mazan\", \"Meaux\", \"Megeve\", \"Meillonnas\", \"Melun\", \"Menthon-Saint-Bernard\", \"Menton\", \"Menucourt\", \"Mere\", \"Meribel les Allues\", \"Meriel\", \"Meru\", \"Merville-Franceville-Plage\", \"Mery-sur-Oise\", \"Mesnil-Domqueur\", \"Metz\", \"Meudon\", \"Meudon la Foret\", \"Meulan-en-Yvelines\", \"Meyrannes\", \"Meze\", \"Milly-la-For\\u00eat\", \"Milly-sur-Therain\", \"Mios\", \"Miramas\", \"Miserey-Salines\", \"Mondonville\", \"Mons-en-Bar\\u0153ul\", \"Montargis\", \"Montauroux\", \"Montelier\", \"Montfort-l Amaury\", \"Montgeron\", \"Montgiscard\", \"Montigny-le-Bretonneux\", \"Montigny-les-Cormeilles\", \"Montlhery\", \"Montmeyan\", \"Montmoreau-Saint-Cybard\", \"Montmorency\", \"Montpellier\", \"Montpezat\", \"Montreuil\", \"Montrouge\", \"Montvalezan\", \"Morangis\", \"Morcenx\", \"Moree\", \"Morigny-Champigny\", \"Morlaix\", \"Morsang-sur-Seine\", \"Mortefontaine\", \"Mougins\", \"Moulezan\", \"Mouroux\", \"Mouy\", \"Mulhouse\", \"M\\u00e2con\", \"Nancras\", \"Nancy\", \"Nanterre\", \"Nantes\", \"Nanteuil-les-Meaux\", \"Narbonne\", \"Neffies\", \"Negrepelisse\", \"Neoules\", \"Nesles-la-Vallee\", \"Neugartheim-Ittlenheim\", \"Neuille-Pont-Pierre\", \"Neuilly sur Seine\", \"Neuilly-Plaisance\", \"Neuilly-sur-Seine\", \"Neuville sur Saone\", \"Neuvy-en-Sullias\", \"Nevers\", \"Neydens\", \"Nezel\", \"Nice\", \"Nogent-sur-Marne\", \"Nogent-sur-Oise\", \"Noiseau\", \"Noisy-le-Grand\", \"Noisy-le-Sec\", \"Nontron\", \"Noves\", \"Novillars\", \"Noyon\", \"Nuncq-Hautec\\u00f4te\", \"N\\u00eemes\", \"Oloron-Sainte-Marie\", \"Orgeval\", \"Origny-en-Thierache\", \"Orleans\", \"Ormesson-sur-Marne\", \"Orthez\", \"Osny\", \"Ozoir-la-Ferriere\", \"Pacy-sur-Eure\", \"Paimpont\", \"Palaiseau\", \"Palavas-les-Flots\", \"Paris 10eme\", \"Paris 11eme\", \"Paris 12eme\", \"Paris 13eme\", \"Paris 14eme\", \"Paris 15eme\", \"Paris 16eme\", \"Paris 17eme\", \"Paris 18eme\", \"Paris 19eme\", \"Paris 1er\", \"Paris 20eme\", \"Paris 2eme\", \"Paris 4eme\", \"Paris 5eme\", \"Paris 6eme\", \"Paris 8eme\", \"Paris 9eme\", \"Passy\", \"Pau\", \"Pegomas\", \"Pelissanne\", \"Perpignan\", \"Persan\", \"Perthes\", \"Pessac\", \"Petit-Bourg\", \"Peyrehorade\", \"Pierre Benite\", \"Pigny\", \"Pissos\", \"Plaisir\", \"Plouenan\", \"Plougonven\", \"Poigny-la-For\\u00eat\", \"Poissy\", \"Pollionnay\", \"Pomerols\", \"Pont-en-Royans\", \"Pontault-Combault\", \"Pontivy\", \"Pontoise\", \"Pornichet\", \"Port Camargue\", \"Port-Sainte-Foy-et-Ponchapt\", \"Port-de-Bouc\", \"Porticcio\", \"Prades\", \"Priay\", \"Provins\", \"Prunay-Cassereau\", \"Publier\", \"Pugnac\", \"Puilboreau\", \"Puiseux-en-France\", \"Puteaux\", \"Quiberon\", \"Quint-Fonsegrives\", \"Rambouillet\", \"Rebais\", \"Redessan\", \"Redon\", \"Reims\", \"Remiremont\", \"Rencurel\", \"Rennes\", \"Reuil-en-Brie\", \"Revel\", \"Revest-les-Roches\", \"Riantec\", \"Ribaute les Tavernes\", \"Rillieux-la-Pape\", \"Ris-Orangis\", \"Rivedoux-Plage\", \"Rognac\", \"Romaneche-Thorins\", \"Romans-sur-Isere\", \"Ronchin\", \"Roquebrune-Cap-Martin\", \"Roquebrune-sur-Argens\", \"Rosny-sur-Seine\", \"Roubaix\", \"Rouen\", \"Rouffiac-Tolosan\", \"Royan\", \"Rozay-en-Brie\", \"Rueil Malmaison\", \"Rueil-Malmaison\", \"Rungis\", \"Saclas\", \"Saint Fargeau Ponthierry\", \"Saint Leonard de Noblat\", \"Saint Maur des Fosses\", \"Saint Ouen\", \"Saint Priest\", \"Saint-Andre-de-Cubzac\", \"Saint-Andre-des-Eaux\", \"Saint-Antonin-du-Var\", \"Saint-Arnoult\", \"Saint-Aubin-de-Blaye\", \"Saint-Aubin-de-Medoc\", \"Saint-Boil\", \"Saint-Caprais\", \"Saint-Chamas\", \"Saint-Chaptes\", \"Saint-Christol\", \"Saint-Cloud\", \"Saint-Cyr-au-Mont-d Or\", \"Saint-Cyr-l \\u00c9cole\", \"Saint-Cyr-sur-Mer\", \"Saint-Cyr-sur-Morin\", \"Saint-Denis\", \"Saint-Denis-d Oleron\", \"Saint-Didier-au-Mont-d Or\", \"Saint-Didier-la-For\\u00eat\", \"Saint-Esteve\", \"Saint-Fargeau-Ponthierry\", \"Saint-Fiacre\", \"Saint-Florent-sur-Cher\", \"Saint-Gely-du-Fesc\", \"Saint-Genis-les-Ollieres\", \"Saint-Georges-d Oleron\", \"Saint-Germain-du-Plain\", \"Saint-Germain-en-Laye\", \"Saint-Germain-les-Corbeil\", \"Saint-Gervais-les-Bains\", \"Saint-Gratien\", \"Saint-Hilaire\", \"Saint-Hippolyte-du-Fort\", \"Saint-Jean\", \"Saint-Jean-Bonnefonds\", \"Saint-Jean-de-Gonville\", \"Saint-Jorioz\", \"Saint-Julien-en-Genevois\", \"Saint-Junien\", \"Saint-Laurent-du-Var\", \"Saint-Louis\", \"Saint-Louis-de-Montferrand\", \"Saint-Mamert-du-Gard\", \"Saint-Mandrier-sur-Mer\", \"Saint-Marcel\", \"Saint-Marcellin\", \"Saint-Martin-d Heres\", \"Saint-Martin-de-Re\", \"Saint-Martin-en-Haut\", \"Saint-Maur-des-Fosses\", \"Saint-Maurice\", \"Saint-Maurice-d Ibie\", \"Saint-Maximin-la-Sainte-Baume\", \"Saint-Medard-en-Jalles\", \"Saint-Michel-sur-Orge\", \"Saint-Orens-de-Gameville\", \"Saint-Ouen\", \"Saint-Paul-Trois-Ch\\u00e2teaux\", \"Saint-Pee-sur-Nivelle\", \"Saint-Pierre-d Autils\", \"Saint-Pierre-d Oleron\", \"Saint-Pierre-de-Lages\", \"Saint-Pierre-du-Perray\", \"Saint-Quentin-en-Tourmont\", \"Saint-Quentin-la-Poterie\", \"Saint-Rapha\\u00ebl\", \"Saint-Remeze\", \"Saint-Remy-de-Provence\", \"Saint-Remy-des-Landes\", \"Saint-Remy-les-Chevreuse\", \"Saint-Remy-sur-Avre\", \"Saint-Rogatien\", \"Saint-Sulpice\", \"Saint-Sulpice-et-Cameyrac\", \"Saint-Thibery\", \"Saint-Tropez\", \"Saint-Xandre\", \"Saint-\\u00c9tienne\", \"Sainte-Cecile-les-Vignes\", \"Sainte-Consorce\", \"Sainte-Eulalie\", \"Sainte-Foy-les-Lyon\", \"Sainte-Marie\", \"Sainte-Marie-de-Re\", \"Sainte-Maxime\", \"Salon-de-Provence\", \"Sanary-sur-Mer\", \"Sannois\", \"Santeny\", \"Sarcelles\", \"Sartrouville\", \"Sarzeau\", \"Saulx-les-Chartreux\", \"Sauternes\", \"Sautron\", \"Sauve\", \"Savigny\", \"Savigny-en-Veron\", \"Savigny-le-Temple\", \"Savigny-sur-Orge\", \"Seine-Port\", \"Senlis\", \"Sennece les Macon\", \"Septeuil\", \"Serignan\", \"Sermaise\", \"Servoz\", \"Sete\", \"Sevran\", \"Sevres\", \"Simandres\", \"Six Fours les Plages\", \"Six-Fours-les-Plages\", \"Soissons\", \"Soisy-sous-Montmorency\", \"Sollies-Ville\", \"Sommieres\", \"Soulac-sur-Mer\", \"Soustons\", \"Spay\", \"Speracedes\", \"St Cloud\", \"St Germain en Laye\", \"St Marcellin\", \"St Orens de Gameville\", \"St Pierre de Manneville\", \"St Quentin\", \"Strasbourg\", \"Sucy-en-Brie\", \"Suresnes\", \"Survilliers\", \"Talence\", \"Talloires\", \"Tarascon\", \"Tassin-la-Demi-Lune\", \"Taverny\", \"Teurtheville Bocage\", \"Thel\", \"Theoule-sur-Mer\", \"Thiais\", \"Thollon-les-Memises\", \"Thonon-les-Bains\", \"Thorigny-sur-Marne\", \"Tigy\", \"Torcy\", \"Toul\", \"Toulon\", \"Toulouse\", \"Touques\", \"Tourrettes-sur-Loup\", \"Tours\", \"Tramain\", \"Treize-Septiers\", \"Tremblay-en-France\", \"Treon\", \"Tresserve\", \"Treves\", \"Triel sur Seine\", \"Triel-sur-Seine\", \"Trouville-sur-Mer\", \"Troyes\", \"Urcuit\", \"Uzes\", \"Valdr\\u00f4me\", \"Valenton\", \"Valras-Plage\", \"Vannes\", \"Vanves\", \"Varages\", \"Varambon\", \"Vassieux-en-Vercors\", \"Vaucresson\", \"Vaulx en Velin\", \"Vaulx-en-Velin\", \"Vaureal\", \"Vaux-sur-Seine\", \"Velizy-Villacoublay\", \"Velzic\", \"Vend\\u00f4me\", \"Verfeil\", \"Verneuil sur Avre\", \"Verneuil-sur-Seine\", \"Vernon\", \"Vernouillet\", \"Verrieres-le-Buisson\", \"Versailles\", \"Vert-le-Petit\", \"Vetraz Monthoux\", \"Vetraz-Monthoux\", \"Vezac\", \"Viarmes\", \"Vichy\", \"Vidauban\", \"Vienne\", \"Vigneux-sur-Seine\", \"Vigny\", \"Ville-d Avray\", \"Villecresnes\", \"Villefranche-sur-Mer\", \"Villefranche-sur-Sa\\u00f4ne\", \"Villefranque\", \"Villejuif\", \"Villemoisson-sur-Orge\", \"Villemomble\", \"Villemur-sur-Tarn\", \"Villeneuve-d Ascq\", \"Villeneuve-les-Avignon\", \"Villeneuve-les-Sablons\", \"Villennes-sur-Seine\", \"Villeparisis\", \"Villepreux\", \"Villeron\", \"Villers-sous-Saint-Leu\", \"Villetaneuse\", \"Villeurbanne\", \"Villiers-sur-Loir\", \"Villiers-sur-Morin\", \"Vinay\", \"Vincennes\", \"Viroflay\", \"Viry-Ch\\u00e2tillon\", \"Visan\", \"Vitry sur Seine\", \"Vitry-sur-Seine\", \"Vittel\", \"Voiron\", \"Vouziers\", \"Waldersbach\", \"Wanquetin\", \"Ymare\", \"Yvrac\", \"\\u00c8ze\", \"\\u00c9cully\", \"\\u00c9lancourt\", \"\\u00c9pinay-sous-Senart\", \"\\u00c9p\\u00f4ne\", \"\\u00c9ragny\", \"\\u00c9tampes\", \"\\u00c9treaupont\", \"\\u00c9vian-les-Bains\", \"\\u00c9vreux\", \"\\u00c9vry\"], \"xaxis\": \"x\", \"y\": [1, 1, 5, 3, 1, 1, 1, 4, 2, 9, 1, 3, 2, 3, 6, 1, 1, 1, 2, 2, 1, 1, 3, 1, 2, 7, 3, 2, 2, 1, 2, 1, 1, 6, 6, 1, 1, 1, 11, 1, 1, 1, 2, 2, 1, 5, 1, 1, 1, 1, 1, 1, 1, 1, 5, 1, 1, 2, 1, 3, 1, 1, 1, 1, 1, 1, 2, 2, 1, 4, 1, 3, 2, 1, 1, 1, 1, 8, 1, 1, 2, 1, 2, 1, 1, 1, 1, 2, 1, 1, 1, 5, 1, 1, 2, 3, 1, 1, 1, 1, 1, 1, 1, 2, 1, 1, 1, 1, 16, 5, 1, 1, 1, 2, 3, 1, 2, 1, 1, 1, 1, 2, 2, 1, 2, 3, 1, 1, 1, 1, 1, 1, 1, 1, 1, 1, 1, 1, 3, 1, 1, 1, 1, 1, 1, 1, 3, 2, 1, 1, 6, 1, 3, 1, 12, 1, 2, 1, 2, 2, 12, 1, 1, 2, 2, 1, 2, 1, 2, 1, 3, 1, 6, 1, 1, 2, 1, 1, 3, 1, 1, 1, 1, 1, 1, 3, 1, 5, 2, 1, 1, 2, 1, 1, 1, 1, 6, 1, 4, 1, 1, 1, 1, 1, 1, 2, 6, 1, 2, 2, 1, 1, 1, 3, 2, 1, 1, 1, 1, 5, 2, 1, 2, 1, 1, 1, 1, 4, 2, 2, 1, 1, 1, 5, 1, 1, 2, 1, 1, 1, 1, 5, 1, 6, 1, 1, 2, 1, 1, 1, 1, 1, 1, 1, 1, 3, 1, 3, 3, 1, 1, 2, 2, 3, 1, 7, 1, 1, 1, 3, 1, 3, 1, 1, 1, 1, 1, 1, 2, 1, 2, 1, 1, 1, 1, 1, 1, 1, 1, 1, 2, 1, 1, 5, 3, 1, 1, 2, 8, 6, 1, 1, 1, 4, 1, 2, 1, 2, 1, 3, 2, 1, 1, 1, 2, 2, 2, 1, 1, 2, 3, 1, 5, 1, 1, 2, 1, 1, 1, 1, 1, 1, 1, 3, 2, 1, 6, 1, 2, 1, 1, 1, 1, 10, 3, 7, 1, 1, 1, 1, 1, 1, 1, 1, 1, 2, 6, 1, 1, 1, 2, 4, 1, 3, 1, 1, 2, 1, 1, 6, 3, 2, 2, 1, 1, 4, 1, 1, 1, 1, 1, 1, 1, 1, 15, 5, 1, 3, 1, 1, 1, 1, 1, 1, 1, 1, 1, 4, 1, 1, 1, 1, 11, 2, 1, 1, 1, 1, 1, 1, 1, 3, 1, 1, 1, 2, 8, 2, 1, 2, 1, 2, 1, 2, 1, 1, 2, 1, 3, 1, 1, 2, 4, 1, 1, 3, 2, 1, 1, 1, 1, 1, 1, 1, 1, 1, 3, 2, 1, 1, 2, 2, 1, 2, 2, 1, 2, 2, 1, 1, 6, 1, 1, 1, 4, 1, 1, 3, 1, 2, 2, 1, 3, 2, 1, 1, 1, 1, 1, 1, 1, 2, 1, 1, 1, 1, 3, 3, 1, 2, 1, 1, 1, 1, 2, 1, 1, 1, 2, 1, 3, 1, 9, 19, 2, 1, 2, 1, 1, 1, 1, 2, 1, 3, 1, 2, 1, 1, 1, 1, 1, 1, 2, 1, 2, 1, 1, 1, 3, 2, 2, 4, 1, 1, 1, 1, 1, 1, 2, 3, 5, 9, 1, 1, 1, 8, 2, 1, 1, 1, 2, 1, 2, 2, 1, 3, 2, 4, 1, 1, 2, 1, 2, 1, 1, 1, 1, 1, 1, 1, 5, 1, 1, 1, 1, 1, 1, 1, 7, 15, 2, 6, 1, 1, 3, 1, 1, 1, 1, 1, 1, 2, 1, 2, 1, 1, 3, 1, 2, 4, 3, 2, 2, 1, 1, 1, 1, 1, 2, 1, 2, 7, 2, 1, 1, 1, 1, 39, 4, 1, 1, 1, 1, 1, 1, 2, 1, 1, 8, 3, 2, 1, 1, 2, 2, 2, 1, 1, 1, 2, 1, 2, 6, 3, 2, 4, 8, 11, 7, 5, 7, 2, 8, 2, 3, 1, 2, 3, 2, 4, 1, 1, 1, 4, 1, 2, 4, 2, 1, 1, 1, 1, 3, 1, 1, 1, 11, 1, 1, 1, 4, 1, 6, 1, 1, 1, 1, 2, 1, 1, 1, 1, 2, 1, 1, 1, 1, 2, 1, 5, 1, 1, 1, 1, 1, 1, 2, 1, 1, 1, 1, 1, 2, 10, 1, 1, 1, 8, 2, 3, 4, 3, 1, 3, 1, 6, 6, 2, 10, 1, 1, 1, 1, 1, 1, 2, 2, 1, 1, 1, 1, 1, 1, 1, 2, 1, 1, 1, 1, 1, 1, 2, 3, 1, 1, 1, 3, 2, 2, 1, 1, 1, 3, 1, 4, 1, 1, 1, 2, 2, 1, 1, 1, 4, 1, 1, 9, 2, 1, 1, 2, 1, 1, 1, 1, 1, 6, 1, 2, 1, 1, 2, 2, 2, 1, 2, 1, 3, 1, 1, 1, 1, 4, 1, 1, 1, 1, 1, 1, 1, 2, 1, 2, 1, 1, 2, 1, 1, 1, 1, 2, 3, 2, 3, 1, 1, 1, 4, 1, 1, 1, 1, 1, 1, 1, 7, 4, 1, 2, 1, 4, 2, 1, 1, 12, 1, 1, 1, 1, 3, 2, 2, 1, 2, 1, 1, 1, 1, 1, 1, 1, 1, 1, 1, 9, 1, 3, 2, 4, 2, 1, 1, 1, 1, 2, 2, 4, 2, 1, 2, 1, 4, 3, 17, 19, 1, 2, 1, 1, 1, 1, 1, 1, 1, 2, 6, 3, 1, 1, 8, 2, 1, 3, 1, 3, 1, 1, 1, 1, 2, 2, 2, 2, 1, 1, 4, 3, 1, 6, 1, 5, 1, 6, 1, 1, 2, 1, 1, 3, 2, 2, 1, 1, 1, 1, 6, 1, 1, 3, 1, 2, 1, 2, 2, 1, 3, 3, 1, 2, 4, 1, 2, 1, 1, 1, 1, 2, 1, 2, 3, 7, 1, 1, 1, 1, 1, 1, 1, 2, 2, 2, 1, 3, 1, 9, 1, 3, 3, 2], \"yaxis\": \"y\"}],\n",
       "                        {\"barmode\": \"relative\", \"coloraxis\": {\"colorbar\": {\"title\": {\"text\": \"count\"}}, \"colorscale\": [[0.0, \"#0d0887\"], [0.1111111111111111, \"#46039f\"], [0.2222222222222222, \"#7201a8\"], [0.3333333333333333, \"#9c179e\"], [0.4444444444444444, \"#bd3786\"], [0.5555555555555556, \"#d8576b\"], [0.6666666666666666, \"#ed7953\"], [0.7777777777777778, \"#fb9f3a\"], [0.8888888888888888, \"#fdca26\"], [1.0, \"#f0f921\"]]}, \"height\": 600, \"legend\": {\"tracegroupgap\": 0}, \"plot_bgcolor\": \"rgb(250, 242, 242)\", \"template\": {\"data\": {\"bar\": [{\"error_x\": {\"color\": \"#2a3f5f\"}, \"error_y\": {\"color\": \"#2a3f5f\"}, \"marker\": {\"line\": {\"color\": \"#E5ECF6\", \"width\": 0.5}}, \"type\": \"bar\"}], \"barpolar\": [{\"marker\": {\"line\": {\"color\": \"#E5ECF6\", \"width\": 0.5}}, \"type\": \"barpolar\"}], \"carpet\": [{\"aaxis\": {\"endlinecolor\": \"#2a3f5f\", \"gridcolor\": \"white\", \"linecolor\": \"white\", \"minorgridcolor\": \"white\", \"startlinecolor\": \"#2a3f5f\"}, \"baxis\": {\"endlinecolor\": \"#2a3f5f\", \"gridcolor\": \"white\", \"linecolor\": \"white\", \"minorgridcolor\": \"white\", \"startlinecolor\": \"#2a3f5f\"}, \"type\": \"carpet\"}], \"choropleth\": [{\"colorbar\": {\"outlinewidth\": 0, \"ticks\": \"\"}, \"type\": \"choropleth\"}], \"contour\": [{\"colorbar\": {\"outlinewidth\": 0, \"ticks\": \"\"}, \"colorscale\": [[0.0, \"#0d0887\"], [0.1111111111111111, \"#46039f\"], [0.2222222222222222, \"#7201a8\"], [0.3333333333333333, \"#9c179e\"], [0.4444444444444444, \"#bd3786\"], [0.5555555555555556, \"#d8576b\"], [0.6666666666666666, \"#ed7953\"], [0.7777777777777778, \"#fb9f3a\"], [0.8888888888888888, \"#fdca26\"], [1.0, \"#f0f921\"]], \"type\": \"contour\"}], \"contourcarpet\": [{\"colorbar\": {\"outlinewidth\": 0, \"ticks\": \"\"}, \"type\": \"contourcarpet\"}], \"heatmap\": [{\"colorbar\": {\"outlinewidth\": 0, \"ticks\": \"\"}, \"colorscale\": [[0.0, \"#0d0887\"], [0.1111111111111111, \"#46039f\"], [0.2222222222222222, \"#7201a8\"], [0.3333333333333333, \"#9c179e\"], [0.4444444444444444, \"#bd3786\"], [0.5555555555555556, \"#d8576b\"], [0.6666666666666666, \"#ed7953\"], [0.7777777777777778, \"#fb9f3a\"], [0.8888888888888888, \"#fdca26\"], [1.0, \"#f0f921\"]], \"type\": \"heatmap\"}], \"heatmapgl\": [{\"colorbar\": {\"outlinewidth\": 0, \"ticks\": \"\"}, \"colorscale\": [[0.0, \"#0d0887\"], [0.1111111111111111, \"#46039f\"], [0.2222222222222222, \"#7201a8\"], [0.3333333333333333, \"#9c179e\"], [0.4444444444444444, \"#bd3786\"], [0.5555555555555556, \"#d8576b\"], [0.6666666666666666, \"#ed7953\"], [0.7777777777777778, \"#fb9f3a\"], [0.8888888888888888, \"#fdca26\"], [1.0, \"#f0f921\"]], \"type\": \"heatmapgl\"}], \"histogram\": [{\"marker\": {\"colorbar\": {\"outlinewidth\": 0, \"ticks\": \"\"}}, \"type\": \"histogram\"}], \"histogram2d\": [{\"colorbar\": {\"outlinewidth\": 0, \"ticks\": \"\"}, \"colorscale\": [[0.0, \"#0d0887\"], [0.1111111111111111, \"#46039f\"], [0.2222222222222222, \"#7201a8\"], [0.3333333333333333, \"#9c179e\"], [0.4444444444444444, \"#bd3786\"], [0.5555555555555556, \"#d8576b\"], [0.6666666666666666, \"#ed7953\"], [0.7777777777777778, \"#fb9f3a\"], [0.8888888888888888, \"#fdca26\"], [1.0, \"#f0f921\"]], \"type\": \"histogram2d\"}], \"histogram2dcontour\": [{\"colorbar\": {\"outlinewidth\": 0, \"ticks\": \"\"}, \"colorscale\": [[0.0, \"#0d0887\"], [0.1111111111111111, \"#46039f\"], [0.2222222222222222, \"#7201a8\"], [0.3333333333333333, \"#9c179e\"], [0.4444444444444444, \"#bd3786\"], [0.5555555555555556, \"#d8576b\"], [0.6666666666666666, \"#ed7953\"], [0.7777777777777778, \"#fb9f3a\"], [0.8888888888888888, \"#fdca26\"], [1.0, \"#f0f921\"]], \"type\": \"histogram2dcontour\"}], \"mesh3d\": [{\"colorbar\": {\"outlinewidth\": 0, \"ticks\": \"\"}, \"type\": \"mesh3d\"}], \"parcoords\": [{\"line\": {\"colorbar\": {\"outlinewidth\": 0, \"ticks\": \"\"}}, \"type\": \"parcoords\"}], \"pie\": [{\"automargin\": true, \"type\": \"pie\"}], \"scatter\": [{\"marker\": {\"colorbar\": {\"outlinewidth\": 0, \"ticks\": \"\"}}, \"type\": \"scatter\"}], \"scatter3d\": [{\"line\": {\"colorbar\": {\"outlinewidth\": 0, \"ticks\": \"\"}}, \"marker\": {\"colorbar\": {\"outlinewidth\": 0, \"ticks\": \"\"}}, \"type\": \"scatter3d\"}], \"scattercarpet\": [{\"marker\": {\"colorbar\": {\"outlinewidth\": 0, \"ticks\": \"\"}}, \"type\": \"scattercarpet\"}], \"scattergeo\": [{\"marker\": {\"colorbar\": {\"outlinewidth\": 0, \"ticks\": \"\"}}, \"type\": \"scattergeo\"}], \"scattergl\": [{\"marker\": {\"colorbar\": {\"outlinewidth\": 0, \"ticks\": \"\"}}, \"type\": \"scattergl\"}], \"scattermapbox\": [{\"marker\": {\"colorbar\": {\"outlinewidth\": 0, \"ticks\": \"\"}}, \"type\": \"scattermapbox\"}], \"scatterpolar\": [{\"marker\": {\"colorbar\": {\"outlinewidth\": 0, \"ticks\": \"\"}}, \"type\": \"scatterpolar\"}], \"scatterpolargl\": [{\"marker\": {\"colorbar\": {\"outlinewidth\": 0, \"ticks\": \"\"}}, \"type\": \"scatterpolargl\"}], \"scatterternary\": [{\"marker\": {\"colorbar\": {\"outlinewidth\": 0, \"ticks\": \"\"}}, \"type\": \"scatterternary\"}], \"surface\": [{\"colorbar\": {\"outlinewidth\": 0, \"ticks\": \"\"}, \"colorscale\": [[0.0, \"#0d0887\"], [0.1111111111111111, \"#46039f\"], [0.2222222222222222, \"#7201a8\"], [0.3333333333333333, \"#9c179e\"], [0.4444444444444444, \"#bd3786\"], [0.5555555555555556, \"#d8576b\"], [0.6666666666666666, \"#ed7953\"], [0.7777777777777778, \"#fb9f3a\"], [0.8888888888888888, \"#fdca26\"], [1.0, \"#f0f921\"]], \"type\": \"surface\"}], \"table\": [{\"cells\": {\"fill\": {\"color\": \"#EBF0F8\"}, \"line\": {\"color\": \"white\"}}, \"header\": {\"fill\": {\"color\": \"#C8D4E3\"}, \"line\": {\"color\": \"white\"}}, \"type\": \"table\"}]}, \"layout\": {\"annotationdefaults\": {\"arrowcolor\": \"#2a3f5f\", \"arrowhead\": 0, \"arrowwidth\": 1}, \"coloraxis\": {\"colorbar\": {\"outlinewidth\": 0, \"ticks\": \"\"}}, \"colorscale\": {\"diverging\": [[0, \"#8e0152\"], [0.1, \"#c51b7d\"], [0.2, \"#de77ae\"], [0.3, \"#f1b6da\"], [0.4, \"#fde0ef\"], [0.5, \"#f7f7f7\"], [0.6, \"#e6f5d0\"], [0.7, \"#b8e186\"], [0.8, \"#7fbc41\"], [0.9, \"#4d9221\"], [1, \"#276419\"]], \"sequential\": [[0.0, \"#0d0887\"], [0.1111111111111111, \"#46039f\"], [0.2222222222222222, \"#7201a8\"], [0.3333333333333333, \"#9c179e\"], [0.4444444444444444, \"#bd3786\"], [0.5555555555555556, \"#d8576b\"], [0.6666666666666666, \"#ed7953\"], [0.7777777777777778, \"#fb9f3a\"], [0.8888888888888888, \"#fdca26\"], [1.0, \"#f0f921\"]], \"sequentialminus\": [[0.0, \"#0d0887\"], [0.1111111111111111, \"#46039f\"], [0.2222222222222222, \"#7201a8\"], [0.3333333333333333, \"#9c179e\"], [0.4444444444444444, \"#bd3786\"], [0.5555555555555556, \"#d8576b\"], [0.6666666666666666, \"#ed7953\"], [0.7777777777777778, \"#fb9f3a\"], [0.8888888888888888, \"#fdca26\"], [1.0, \"#f0f921\"]]}, \"colorway\": [\"#636efa\", \"#EF553B\", \"#00cc96\", \"#ab63fa\", \"#FFA15A\", \"#19d3f3\", \"#FF6692\", \"#B6E880\", \"#FF97FF\", \"#FECB52\"], \"font\": {\"color\": \"#2a3f5f\"}, \"geo\": {\"bgcolor\": \"white\", \"lakecolor\": \"white\", \"landcolor\": \"#E5ECF6\", \"showlakes\": true, \"showland\": true, \"subunitcolor\": \"white\"}, \"hoverlabel\": {\"align\": \"left\"}, \"hovermode\": \"closest\", \"mapbox\": {\"style\": \"light\"}, \"paper_bgcolor\": \"white\", \"plot_bgcolor\": \"#E5ECF6\", \"polar\": {\"angularaxis\": {\"gridcolor\": \"white\", \"linecolor\": \"white\", \"ticks\": \"\"}, \"bgcolor\": \"#E5ECF6\", \"radialaxis\": {\"gridcolor\": \"white\", \"linecolor\": \"white\", \"ticks\": \"\"}}, \"scene\": {\"xaxis\": {\"backgroundcolor\": \"#E5ECF6\", \"gridcolor\": \"white\", \"gridwidth\": 2, \"linecolor\": \"white\", \"showbackground\": true, \"ticks\": \"\", \"zerolinecolor\": \"white\"}, \"yaxis\": {\"backgroundcolor\": \"#E5ECF6\", \"gridcolor\": \"white\", \"gridwidth\": 2, \"linecolor\": \"white\", \"showbackground\": true, \"ticks\": \"\", \"zerolinecolor\": \"white\"}, \"zaxis\": {\"backgroundcolor\": \"#E5ECF6\", \"gridcolor\": \"white\", \"gridwidth\": 2, \"linecolor\": \"white\", \"showbackground\": true, \"ticks\": \"\", \"zerolinecolor\": \"white\"}}, \"shapedefaults\": {\"line\": {\"color\": \"#2a3f5f\"}}, \"ternary\": {\"aaxis\": {\"gridcolor\": \"white\", \"linecolor\": \"white\", \"ticks\": \"\"}, \"baxis\": {\"gridcolor\": \"white\", \"linecolor\": \"white\", \"ticks\": \"\"}, \"bgcolor\": \"#E5ECF6\", \"caxis\": {\"gridcolor\": \"white\", \"linecolor\": \"white\", \"ticks\": \"\"}}, \"title\": {\"x\": 0.05}, \"xaxis\": {\"automargin\": true, \"gridcolor\": \"white\", \"linecolor\": \"white\", \"ticks\": \"\", \"title\": {\"standoff\": 15}, \"zerolinecolor\": \"white\", \"zerolinewidth\": 2}, \"yaxis\": {\"automargin\": true, \"gridcolor\": \"white\", \"linecolor\": \"white\", \"ticks\": \"\", \"title\": {\"standoff\": 15}, \"zerolinecolor\": \"white\", \"zerolinewidth\": 2}}}, \"title\": {\"text\": \"Number of ads in each city\"}, \"xaxis\": {\"anchor\": \"y\", \"domain\": [0.0, 1.0], \"title\": {\"text\": \"City\"}}, \"yaxis\": {\"anchor\": \"x\", \"domain\": [0.0, 1.0], \"title\": {\"text\": \"count\"}}},\n",
       "                        {\"responsive\": true}\n",
       "                    ).then(function(){\n",
       "                            \n",
       "var gd = document.getElementById('bc8df70e-47c6-4e1a-ad07-5f23ae61763f');\n",
       "var x = new MutationObserver(function (mutations, observer) {{\n",
       "        var display = window.getComputedStyle(gd).display;\n",
       "        if (!display || display === 'none') {{\n",
       "            console.log([gd, 'removed!']);\n",
       "            Plotly.purge(gd);\n",
       "            observer.disconnect();\n",
       "        }}\n",
       "}});\n",
       "\n",
       "// Listen for the removal of the full notebook cells\n",
       "var notebookContainer = gd.closest('#notebook-container');\n",
       "if (notebookContainer) {{\n",
       "    x.observe(notebookContainer, {childList: true});\n",
       "}}\n",
       "\n",
       "// Listen for the clearing of the current output cell\n",
       "var outputEl = gd.closest('.output');\n",
       "if (outputEl) {{\n",
       "    x.observe(outputEl, {childList: true});\n",
       "}}\n",
       "\n",
       "                        })\n",
       "                };\n",
       "                });\n",
       "            </script>\n",
       "        </div>"
      ]
     },
     "metadata": {},
     "output_type": "display_data"
    }
   ],
   "source": [
    "df2=pd.DataFrame()\n",
    "df2['City'] = list(df.groupby('region_1')['type'].count().index)\n",
    "df2['count']=list(df.groupby('region_1')['type'].count())\n",
    "fig = px.bar(df2, x='City', y='count', color='count', orientation='v', height=600,\n",
    "             title='Number of ads in each city', color_discrete_sequence = px.colors.cyclical.mygbm)\n",
    "\n",
    "fig.update_layout(plot_bgcolor='rgb(250, 242, 242)')\n",
    "fig.show()"
   ]
  },
  {
   "cell_type": "code",
   "execution_count": 245,
   "metadata": {},
   "outputs": [
    {
     "data": {
      "application/vnd.plotly.v1+json": {
       "config": {
        "plotlyServerURL": "https://plot.ly"
       },
       "data": [
        {
         "alignmentgroup": "True",
         "hoverlabel": {
          "namelength": 0
         },
         "hovertemplate": "Year of construction=%{x}<br>count=%{marker.color}",
         "legendgroup": "",
         "marker": {
          "color": [
           2,
           2,
           3,
           1,
           1,
           1,
           4,
           1,
           1,
           4,
           2,
           1,
           1,
           28,
           2,
           1,
           2,
           1,
           5,
           2,
           1,
           24,
           1,
           1,
           1,
           5,
           1,
           3,
           1,
           2,
           9,
           1,
           5,
           1,
           1,
           1,
           2,
           74,
           2,
           2,
           2,
           1,
           1,
           5,
           1,
           2,
           2,
           2,
           16,
           1,
           1,
           1,
           1,
           50,
           1,
           2,
           1,
           2,
           1,
           1,
           2,
           11,
           5,
           1,
           11,
           4,
           19,
           2,
           2,
           8,
           2,
           6,
           5,
           5,
           35,
           8,
           5,
           6,
           3,
           13,
           8,
           6,
           13,
           5,
           67,
           5,
           7,
           12,
           9,
           37,
           11,
           7,
           15,
           12,
           51,
           5,
           16,
           12,
           16,
           16,
           7,
           12,
           9,
           9,
           22,
           9,
           20,
           8,
           5,
           10,
           3,
           15,
           5,
           6,
           21,
           16,
           10,
           15,
           16,
           20,
           12,
           18,
           30,
           19,
           16,
           11,
           12,
           10,
           17,
           17,
           11,
           18,
           10,
           17,
           4,
           7
          ],
          "coloraxis": "coloraxis"
         },
         "name": "",
         "offsetgroup": "",
         "orientation": "v",
         "showlegend": false,
         "textposition": "auto",
         "type": "bar",
         "x": [
          1450,
          1500,
          1600,
          1635,
          1670,
          1675,
          1700,
          1711,
          1720,
          1750,
          1780,
          1790,
          1796,
          1800,
          1807,
          1811,
          1820,
          1823,
          1830,
          1840,
          1848,
          1850,
          1852,
          1854,
          1855,
          1860,
          1869,
          1870,
          1874,
          1875,
          1880,
          1885,
          1890,
          1891,
          1892,
          1896,
          1897,
          1900,
          1901,
          1903,
          1905,
          1906,
          1907,
          1910,
          1911,
          1913,
          1914,
          1915,
          1920,
          1921,
          1924,
          1928,
          1929,
          1930,
          1931,
          1932,
          1933,
          1935,
          1936,
          1937,
          1938,
          1940,
          1945,
          1947,
          1948,
          1949,
          1950,
          1952,
          1953,
          1954,
          1955,
          1956,
          1957,
          1958,
          1960,
          1961,
          1962,
          1963,
          1964,
          1965,
          1966,
          1967,
          1968,
          1969,
          1970,
          1971,
          1972,
          1973,
          1974,
          1975,
          1976,
          1977,
          1978,
          1979,
          1980,
          1981,
          1982,
          1983,
          1984,
          1985,
          1986,
          1987,
          1988,
          1989,
          1990,
          1991,
          1992,
          1993,
          1994,
          1995,
          1996,
          1997,
          1998,
          1999,
          2000,
          2001,
          2002,
          2003,
          2004,
          2005,
          2006,
          2007,
          2008,
          2009,
          2010,
          2011,
          2012,
          2013,
          2014,
          2015,
          2016,
          2017,
          2018,
          2019,
          2020,
          2021
         ],
         "xaxis": "x",
         "y": [
          2,
          2,
          3,
          1,
          1,
          1,
          4,
          1,
          1,
          4,
          2,
          1,
          1,
          28,
          2,
          1,
          2,
          1,
          5,
          2,
          1,
          24,
          1,
          1,
          1,
          5,
          1,
          3,
          1,
          2,
          9,
          1,
          5,
          1,
          1,
          1,
          2,
          74,
          2,
          2,
          2,
          1,
          1,
          5,
          1,
          2,
          2,
          2,
          16,
          1,
          1,
          1,
          1,
          50,
          1,
          2,
          1,
          2,
          1,
          1,
          2,
          11,
          5,
          1,
          11,
          4,
          19,
          2,
          2,
          8,
          2,
          6,
          5,
          5,
          35,
          8,
          5,
          6,
          3,
          13,
          8,
          6,
          13,
          5,
          67,
          5,
          7,
          12,
          9,
          37,
          11,
          7,
          15,
          12,
          51,
          5,
          16,
          12,
          16,
          16,
          7,
          12,
          9,
          9,
          22,
          9,
          20,
          8,
          5,
          10,
          3,
          15,
          5,
          6,
          21,
          16,
          10,
          15,
          16,
          20,
          12,
          18,
          30,
          19,
          16,
          11,
          12,
          10,
          17,
          17,
          11,
          18,
          10,
          17,
          4,
          7
         ],
         "yaxis": "y"
        }
       ],
       "layout": {
        "barmode": "relative",
        "coloraxis": {
         "colorbar": {
          "title": {
           "text": "count"
          }
         },
         "colorscale": [
          [
           0,
           "#0d0887"
          ],
          [
           0.1111111111111111,
           "#46039f"
          ],
          [
           0.2222222222222222,
           "#7201a8"
          ],
          [
           0.3333333333333333,
           "#9c179e"
          ],
          [
           0.4444444444444444,
           "#bd3786"
          ],
          [
           0.5555555555555556,
           "#d8576b"
          ],
          [
           0.6666666666666666,
           "#ed7953"
          ],
          [
           0.7777777777777778,
           "#fb9f3a"
          ],
          [
           0.8888888888888888,
           "#fdca26"
          ],
          [
           1,
           "#f0f921"
          ]
         ]
        },
        "height": 600,
        "legend": {
         "tracegroupgap": 0
        },
        "plot_bgcolor": "rgb(250, 242, 242)",
        "template": {
         "data": {
          "bar": [
           {
            "error_x": {
             "color": "#2a3f5f"
            },
            "error_y": {
             "color": "#2a3f5f"
            },
            "marker": {
             "line": {
              "color": "#E5ECF6",
              "width": 0.5
             }
            },
            "type": "bar"
           }
          ],
          "barpolar": [
           {
            "marker": {
             "line": {
              "color": "#E5ECF6",
              "width": 0.5
             }
            },
            "type": "barpolar"
           }
          ],
          "carpet": [
           {
            "aaxis": {
             "endlinecolor": "#2a3f5f",
             "gridcolor": "white",
             "linecolor": "white",
             "minorgridcolor": "white",
             "startlinecolor": "#2a3f5f"
            },
            "baxis": {
             "endlinecolor": "#2a3f5f",
             "gridcolor": "white",
             "linecolor": "white",
             "minorgridcolor": "white",
             "startlinecolor": "#2a3f5f"
            },
            "type": "carpet"
           }
          ],
          "choropleth": [
           {
            "colorbar": {
             "outlinewidth": 0,
             "ticks": ""
            },
            "type": "choropleth"
           }
          ],
          "contour": [
           {
            "colorbar": {
             "outlinewidth": 0,
             "ticks": ""
            },
            "colorscale": [
             [
              0,
              "#0d0887"
             ],
             [
              0.1111111111111111,
              "#46039f"
             ],
             [
              0.2222222222222222,
              "#7201a8"
             ],
             [
              0.3333333333333333,
              "#9c179e"
             ],
             [
              0.4444444444444444,
              "#bd3786"
             ],
             [
              0.5555555555555556,
              "#d8576b"
             ],
             [
              0.6666666666666666,
              "#ed7953"
             ],
             [
              0.7777777777777778,
              "#fb9f3a"
             ],
             [
              0.8888888888888888,
              "#fdca26"
             ],
             [
              1,
              "#f0f921"
             ]
            ],
            "type": "contour"
           }
          ],
          "contourcarpet": [
           {
            "colorbar": {
             "outlinewidth": 0,
             "ticks": ""
            },
            "type": "contourcarpet"
           }
          ],
          "heatmap": [
           {
            "colorbar": {
             "outlinewidth": 0,
             "ticks": ""
            },
            "colorscale": [
             [
              0,
              "#0d0887"
             ],
             [
              0.1111111111111111,
              "#46039f"
             ],
             [
              0.2222222222222222,
              "#7201a8"
             ],
             [
              0.3333333333333333,
              "#9c179e"
             ],
             [
              0.4444444444444444,
              "#bd3786"
             ],
             [
              0.5555555555555556,
              "#d8576b"
             ],
             [
              0.6666666666666666,
              "#ed7953"
             ],
             [
              0.7777777777777778,
              "#fb9f3a"
             ],
             [
              0.8888888888888888,
              "#fdca26"
             ],
             [
              1,
              "#f0f921"
             ]
            ],
            "type": "heatmap"
           }
          ],
          "heatmapgl": [
           {
            "colorbar": {
             "outlinewidth": 0,
             "ticks": ""
            },
            "colorscale": [
             [
              0,
              "#0d0887"
             ],
             [
              0.1111111111111111,
              "#46039f"
             ],
             [
              0.2222222222222222,
              "#7201a8"
             ],
             [
              0.3333333333333333,
              "#9c179e"
             ],
             [
              0.4444444444444444,
              "#bd3786"
             ],
             [
              0.5555555555555556,
              "#d8576b"
             ],
             [
              0.6666666666666666,
              "#ed7953"
             ],
             [
              0.7777777777777778,
              "#fb9f3a"
             ],
             [
              0.8888888888888888,
              "#fdca26"
             ],
             [
              1,
              "#f0f921"
             ]
            ],
            "type": "heatmapgl"
           }
          ],
          "histogram": [
           {
            "marker": {
             "colorbar": {
              "outlinewidth": 0,
              "ticks": ""
             }
            },
            "type": "histogram"
           }
          ],
          "histogram2d": [
           {
            "colorbar": {
             "outlinewidth": 0,
             "ticks": ""
            },
            "colorscale": [
             [
              0,
              "#0d0887"
             ],
             [
              0.1111111111111111,
              "#46039f"
             ],
             [
              0.2222222222222222,
              "#7201a8"
             ],
             [
              0.3333333333333333,
              "#9c179e"
             ],
             [
              0.4444444444444444,
              "#bd3786"
             ],
             [
              0.5555555555555556,
              "#d8576b"
             ],
             [
              0.6666666666666666,
              "#ed7953"
             ],
             [
              0.7777777777777778,
              "#fb9f3a"
             ],
             [
              0.8888888888888888,
              "#fdca26"
             ],
             [
              1,
              "#f0f921"
             ]
            ],
            "type": "histogram2d"
           }
          ],
          "histogram2dcontour": [
           {
            "colorbar": {
             "outlinewidth": 0,
             "ticks": ""
            },
            "colorscale": [
             [
              0,
              "#0d0887"
             ],
             [
              0.1111111111111111,
              "#46039f"
             ],
             [
              0.2222222222222222,
              "#7201a8"
             ],
             [
              0.3333333333333333,
              "#9c179e"
             ],
             [
              0.4444444444444444,
              "#bd3786"
             ],
             [
              0.5555555555555556,
              "#d8576b"
             ],
             [
              0.6666666666666666,
              "#ed7953"
             ],
             [
              0.7777777777777778,
              "#fb9f3a"
             ],
             [
              0.8888888888888888,
              "#fdca26"
             ],
             [
              1,
              "#f0f921"
             ]
            ],
            "type": "histogram2dcontour"
           }
          ],
          "mesh3d": [
           {
            "colorbar": {
             "outlinewidth": 0,
             "ticks": ""
            },
            "type": "mesh3d"
           }
          ],
          "parcoords": [
           {
            "line": {
             "colorbar": {
              "outlinewidth": 0,
              "ticks": ""
             }
            },
            "type": "parcoords"
           }
          ],
          "pie": [
           {
            "automargin": true,
            "type": "pie"
           }
          ],
          "scatter": [
           {
            "marker": {
             "colorbar": {
              "outlinewidth": 0,
              "ticks": ""
             }
            },
            "type": "scatter"
           }
          ],
          "scatter3d": [
           {
            "line": {
             "colorbar": {
              "outlinewidth": 0,
              "ticks": ""
             }
            },
            "marker": {
             "colorbar": {
              "outlinewidth": 0,
              "ticks": ""
             }
            },
            "type": "scatter3d"
           }
          ],
          "scattercarpet": [
           {
            "marker": {
             "colorbar": {
              "outlinewidth": 0,
              "ticks": ""
             }
            },
            "type": "scattercarpet"
           }
          ],
          "scattergeo": [
           {
            "marker": {
             "colorbar": {
              "outlinewidth": 0,
              "ticks": ""
             }
            },
            "type": "scattergeo"
           }
          ],
          "scattergl": [
           {
            "marker": {
             "colorbar": {
              "outlinewidth": 0,
              "ticks": ""
             }
            },
            "type": "scattergl"
           }
          ],
          "scattermapbox": [
           {
            "marker": {
             "colorbar": {
              "outlinewidth": 0,
              "ticks": ""
             }
            },
            "type": "scattermapbox"
           }
          ],
          "scatterpolar": [
           {
            "marker": {
             "colorbar": {
              "outlinewidth": 0,
              "ticks": ""
             }
            },
            "type": "scatterpolar"
           }
          ],
          "scatterpolargl": [
           {
            "marker": {
             "colorbar": {
              "outlinewidth": 0,
              "ticks": ""
             }
            },
            "type": "scatterpolargl"
           }
          ],
          "scatterternary": [
           {
            "marker": {
             "colorbar": {
              "outlinewidth": 0,
              "ticks": ""
             }
            },
            "type": "scatterternary"
           }
          ],
          "surface": [
           {
            "colorbar": {
             "outlinewidth": 0,
             "ticks": ""
            },
            "colorscale": [
             [
              0,
              "#0d0887"
             ],
             [
              0.1111111111111111,
              "#46039f"
             ],
             [
              0.2222222222222222,
              "#7201a8"
             ],
             [
              0.3333333333333333,
              "#9c179e"
             ],
             [
              0.4444444444444444,
              "#bd3786"
             ],
             [
              0.5555555555555556,
              "#d8576b"
             ],
             [
              0.6666666666666666,
              "#ed7953"
             ],
             [
              0.7777777777777778,
              "#fb9f3a"
             ],
             [
              0.8888888888888888,
              "#fdca26"
             ],
             [
              1,
              "#f0f921"
             ]
            ],
            "type": "surface"
           }
          ],
          "table": [
           {
            "cells": {
             "fill": {
              "color": "#EBF0F8"
             },
             "line": {
              "color": "white"
             }
            },
            "header": {
             "fill": {
              "color": "#C8D4E3"
             },
             "line": {
              "color": "white"
             }
            },
            "type": "table"
           }
          ]
         },
         "layout": {
          "annotationdefaults": {
           "arrowcolor": "#2a3f5f",
           "arrowhead": 0,
           "arrowwidth": 1
          },
          "coloraxis": {
           "colorbar": {
            "outlinewidth": 0,
            "ticks": ""
           }
          },
          "colorscale": {
           "diverging": [
            [
             0,
             "#8e0152"
            ],
            [
             0.1,
             "#c51b7d"
            ],
            [
             0.2,
             "#de77ae"
            ],
            [
             0.3,
             "#f1b6da"
            ],
            [
             0.4,
             "#fde0ef"
            ],
            [
             0.5,
             "#f7f7f7"
            ],
            [
             0.6,
             "#e6f5d0"
            ],
            [
             0.7,
             "#b8e186"
            ],
            [
             0.8,
             "#7fbc41"
            ],
            [
             0.9,
             "#4d9221"
            ],
            [
             1,
             "#276419"
            ]
           ],
           "sequential": [
            [
             0,
             "#0d0887"
            ],
            [
             0.1111111111111111,
             "#46039f"
            ],
            [
             0.2222222222222222,
             "#7201a8"
            ],
            [
             0.3333333333333333,
             "#9c179e"
            ],
            [
             0.4444444444444444,
             "#bd3786"
            ],
            [
             0.5555555555555556,
             "#d8576b"
            ],
            [
             0.6666666666666666,
             "#ed7953"
            ],
            [
             0.7777777777777778,
             "#fb9f3a"
            ],
            [
             0.8888888888888888,
             "#fdca26"
            ],
            [
             1,
             "#f0f921"
            ]
           ],
           "sequentialminus": [
            [
             0,
             "#0d0887"
            ],
            [
             0.1111111111111111,
             "#46039f"
            ],
            [
             0.2222222222222222,
             "#7201a8"
            ],
            [
             0.3333333333333333,
             "#9c179e"
            ],
            [
             0.4444444444444444,
             "#bd3786"
            ],
            [
             0.5555555555555556,
             "#d8576b"
            ],
            [
             0.6666666666666666,
             "#ed7953"
            ],
            [
             0.7777777777777778,
             "#fb9f3a"
            ],
            [
             0.8888888888888888,
             "#fdca26"
            ],
            [
             1,
             "#f0f921"
            ]
           ]
          },
          "colorway": [
           "#636efa",
           "#EF553B",
           "#00cc96",
           "#ab63fa",
           "#FFA15A",
           "#19d3f3",
           "#FF6692",
           "#B6E880",
           "#FF97FF",
           "#FECB52"
          ],
          "font": {
           "color": "#2a3f5f"
          },
          "geo": {
           "bgcolor": "white",
           "lakecolor": "white",
           "landcolor": "#E5ECF6",
           "showlakes": true,
           "showland": true,
           "subunitcolor": "white"
          },
          "hoverlabel": {
           "align": "left"
          },
          "hovermode": "closest",
          "mapbox": {
           "style": "light"
          },
          "paper_bgcolor": "white",
          "plot_bgcolor": "#E5ECF6",
          "polar": {
           "angularaxis": {
            "gridcolor": "white",
            "linecolor": "white",
            "ticks": ""
           },
           "bgcolor": "#E5ECF6",
           "radialaxis": {
            "gridcolor": "white",
            "linecolor": "white",
            "ticks": ""
           }
          },
          "scene": {
           "xaxis": {
            "backgroundcolor": "#E5ECF6",
            "gridcolor": "white",
            "gridwidth": 2,
            "linecolor": "white",
            "showbackground": true,
            "ticks": "",
            "zerolinecolor": "white"
           },
           "yaxis": {
            "backgroundcolor": "#E5ECF6",
            "gridcolor": "white",
            "gridwidth": 2,
            "linecolor": "white",
            "showbackground": true,
            "ticks": "",
            "zerolinecolor": "white"
           },
           "zaxis": {
            "backgroundcolor": "#E5ECF6",
            "gridcolor": "white",
            "gridwidth": 2,
            "linecolor": "white",
            "showbackground": true,
            "ticks": "",
            "zerolinecolor": "white"
           }
          },
          "shapedefaults": {
           "line": {
            "color": "#2a3f5f"
           }
          },
          "ternary": {
           "aaxis": {
            "gridcolor": "white",
            "linecolor": "white",
            "ticks": ""
           },
           "baxis": {
            "gridcolor": "white",
            "linecolor": "white",
            "ticks": ""
           },
           "bgcolor": "#E5ECF6",
           "caxis": {
            "gridcolor": "white",
            "linecolor": "white",
            "ticks": ""
           }
          },
          "title": {
           "x": 0.05
          },
          "xaxis": {
           "automargin": true,
           "gridcolor": "white",
           "linecolor": "white",
           "ticks": "",
           "title": {
            "standoff": 15
           },
           "zerolinecolor": "white",
           "zerolinewidth": 2
          },
          "yaxis": {
           "automargin": true,
           "gridcolor": "white",
           "linecolor": "white",
           "ticks": "",
           "title": {
            "standoff": 15
           },
           "zerolinecolor": "white",
           "zerolinewidth": 2
          }
         }
        },
        "title": {
         "text": "Years of construction"
        },
        "xaxis": {
         "anchor": "y",
         "domain": [
          0,
          1
         ],
         "title": {
          "text": "Year of construction"
         }
        },
        "yaxis": {
         "anchor": "x",
         "domain": [
          0,
          1
         ],
         "title": {
          "text": "count"
         }
        }
       }
      },
      "text/html": [
       "<div>\n",
       "        \n",
       "        \n",
       "            <div id=\"e47daa4e-a855-43c5-9146-5f587a386bde\" class=\"plotly-graph-div\" style=\"height:600px; width:100%;\"></div>\n",
       "            <script type=\"text/javascript\">\n",
       "                require([\"plotly\"], function(Plotly) {\n",
       "                    window.PLOTLYENV=window.PLOTLYENV || {};\n",
       "                    \n",
       "                if (document.getElementById(\"e47daa4e-a855-43c5-9146-5f587a386bde\")) {\n",
       "                    Plotly.newPlot(\n",
       "                        'e47daa4e-a855-43c5-9146-5f587a386bde',\n",
       "                        [{\"alignmentgroup\": \"True\", \"hoverlabel\": {\"namelength\": 0}, \"hovertemplate\": \"Year of construction=%{x}<br>count=%{marker.color}\", \"legendgroup\": \"\", \"marker\": {\"color\": [2, 2, 3, 1, 1, 1, 4, 1, 1, 4, 2, 1, 1, 28, 2, 1, 2, 1, 5, 2, 1, 24, 1, 1, 1, 5, 1, 3, 1, 2, 9, 1, 5, 1, 1, 1, 2, 74, 2, 2, 2, 1, 1, 5, 1, 2, 2, 2, 16, 1, 1, 1, 1, 50, 1, 2, 1, 2, 1, 1, 2, 11, 5, 1, 11, 4, 19, 2, 2, 8, 2, 6, 5, 5, 35, 8, 5, 6, 3, 13, 8, 6, 13, 5, 67, 5, 7, 12, 9, 37, 11, 7, 15, 12, 51, 5, 16, 12, 16, 16, 7, 12, 9, 9, 22, 9, 20, 8, 5, 10, 3, 15, 5, 6, 21, 16, 10, 15, 16, 20, 12, 18, 30, 19, 16, 11, 12, 10, 17, 17, 11, 18, 10, 17, 4, 7], \"coloraxis\": \"coloraxis\"}, \"name\": \"\", \"offsetgroup\": \"\", \"orientation\": \"v\", \"showlegend\": false, \"textposition\": \"auto\", \"type\": \"bar\", \"x\": [1450, 1500, 1600, 1635, 1670, 1675, 1700, 1711, 1720, 1750, 1780, 1790, 1796, 1800, 1807, 1811, 1820, 1823, 1830, 1840, 1848, 1850, 1852, 1854, 1855, 1860, 1869, 1870, 1874, 1875, 1880, 1885, 1890, 1891, 1892, 1896, 1897, 1900, 1901, 1903, 1905, 1906, 1907, 1910, 1911, 1913, 1914, 1915, 1920, 1921, 1924, 1928, 1929, 1930, 1931, 1932, 1933, 1935, 1936, 1937, 1938, 1940, 1945, 1947, 1948, 1949, 1950, 1952, 1953, 1954, 1955, 1956, 1957, 1958, 1960, 1961, 1962, 1963, 1964, 1965, 1966, 1967, 1968, 1969, 1970, 1971, 1972, 1973, 1974, 1975, 1976, 1977, 1978, 1979, 1980, 1981, 1982, 1983, 1984, 1985, 1986, 1987, 1988, 1989, 1990, 1991, 1992, 1993, 1994, 1995, 1996, 1997, 1998, 1999, 2000, 2001, 2002, 2003, 2004, 2005, 2006, 2007, 2008, 2009, 2010, 2011, 2012, 2013, 2014, 2015, 2016, 2017, 2018, 2019, 2020, 2021], \"xaxis\": \"x\", \"y\": [2, 2, 3, 1, 1, 1, 4, 1, 1, 4, 2, 1, 1, 28, 2, 1, 2, 1, 5, 2, 1, 24, 1, 1, 1, 5, 1, 3, 1, 2, 9, 1, 5, 1, 1, 1, 2, 74, 2, 2, 2, 1, 1, 5, 1, 2, 2, 2, 16, 1, 1, 1, 1, 50, 1, 2, 1, 2, 1, 1, 2, 11, 5, 1, 11, 4, 19, 2, 2, 8, 2, 6, 5, 5, 35, 8, 5, 6, 3, 13, 8, 6, 13, 5, 67, 5, 7, 12, 9, 37, 11, 7, 15, 12, 51, 5, 16, 12, 16, 16, 7, 12, 9, 9, 22, 9, 20, 8, 5, 10, 3, 15, 5, 6, 21, 16, 10, 15, 16, 20, 12, 18, 30, 19, 16, 11, 12, 10, 17, 17, 11, 18, 10, 17, 4, 7], \"yaxis\": \"y\"}],\n",
       "                        {\"barmode\": \"relative\", \"coloraxis\": {\"colorbar\": {\"title\": {\"text\": \"count\"}}, \"colorscale\": [[0.0, \"#0d0887\"], [0.1111111111111111, \"#46039f\"], [0.2222222222222222, \"#7201a8\"], [0.3333333333333333, \"#9c179e\"], [0.4444444444444444, \"#bd3786\"], [0.5555555555555556, \"#d8576b\"], [0.6666666666666666, \"#ed7953\"], [0.7777777777777778, \"#fb9f3a\"], [0.8888888888888888, \"#fdca26\"], [1.0, \"#f0f921\"]]}, \"height\": 600, \"legend\": {\"tracegroupgap\": 0}, \"plot_bgcolor\": \"rgb(250, 242, 242)\", \"template\": {\"data\": {\"bar\": [{\"error_x\": {\"color\": \"#2a3f5f\"}, \"error_y\": {\"color\": \"#2a3f5f\"}, \"marker\": {\"line\": {\"color\": \"#E5ECF6\", \"width\": 0.5}}, \"type\": \"bar\"}], \"barpolar\": [{\"marker\": {\"line\": {\"color\": \"#E5ECF6\", \"width\": 0.5}}, \"type\": \"barpolar\"}], \"carpet\": [{\"aaxis\": {\"endlinecolor\": \"#2a3f5f\", \"gridcolor\": \"white\", \"linecolor\": \"white\", \"minorgridcolor\": \"white\", \"startlinecolor\": \"#2a3f5f\"}, \"baxis\": {\"endlinecolor\": \"#2a3f5f\", \"gridcolor\": \"white\", \"linecolor\": \"white\", \"minorgridcolor\": \"white\", \"startlinecolor\": \"#2a3f5f\"}, \"type\": \"carpet\"}], \"choropleth\": [{\"colorbar\": {\"outlinewidth\": 0, \"ticks\": \"\"}, \"type\": \"choropleth\"}], \"contour\": [{\"colorbar\": {\"outlinewidth\": 0, \"ticks\": \"\"}, \"colorscale\": [[0.0, \"#0d0887\"], [0.1111111111111111, \"#46039f\"], [0.2222222222222222, \"#7201a8\"], [0.3333333333333333, \"#9c179e\"], [0.4444444444444444, \"#bd3786\"], [0.5555555555555556, \"#d8576b\"], [0.6666666666666666, \"#ed7953\"], [0.7777777777777778, \"#fb9f3a\"], [0.8888888888888888, \"#fdca26\"], [1.0, \"#f0f921\"]], \"type\": \"contour\"}], \"contourcarpet\": [{\"colorbar\": {\"outlinewidth\": 0, \"ticks\": \"\"}, \"type\": \"contourcarpet\"}], \"heatmap\": [{\"colorbar\": {\"outlinewidth\": 0, \"ticks\": \"\"}, \"colorscale\": [[0.0, \"#0d0887\"], [0.1111111111111111, \"#46039f\"], [0.2222222222222222, \"#7201a8\"], [0.3333333333333333, \"#9c179e\"], [0.4444444444444444, \"#bd3786\"], [0.5555555555555556, \"#d8576b\"], [0.6666666666666666, \"#ed7953\"], [0.7777777777777778, \"#fb9f3a\"], [0.8888888888888888, \"#fdca26\"], [1.0, \"#f0f921\"]], \"type\": \"heatmap\"}], \"heatmapgl\": [{\"colorbar\": {\"outlinewidth\": 0, \"ticks\": \"\"}, \"colorscale\": [[0.0, \"#0d0887\"], [0.1111111111111111, \"#46039f\"], [0.2222222222222222, \"#7201a8\"], [0.3333333333333333, \"#9c179e\"], [0.4444444444444444, \"#bd3786\"], [0.5555555555555556, \"#d8576b\"], [0.6666666666666666, \"#ed7953\"], [0.7777777777777778, \"#fb9f3a\"], [0.8888888888888888, \"#fdca26\"], [1.0, \"#f0f921\"]], \"type\": \"heatmapgl\"}], \"histogram\": [{\"marker\": {\"colorbar\": {\"outlinewidth\": 0, \"ticks\": \"\"}}, \"type\": \"histogram\"}], \"histogram2d\": [{\"colorbar\": {\"outlinewidth\": 0, \"ticks\": \"\"}, \"colorscale\": [[0.0, \"#0d0887\"], [0.1111111111111111, \"#46039f\"], [0.2222222222222222, \"#7201a8\"], [0.3333333333333333, \"#9c179e\"], [0.4444444444444444, \"#bd3786\"], [0.5555555555555556, \"#d8576b\"], [0.6666666666666666, \"#ed7953\"], [0.7777777777777778, \"#fb9f3a\"], [0.8888888888888888, \"#fdca26\"], [1.0, \"#f0f921\"]], \"type\": \"histogram2d\"}], \"histogram2dcontour\": [{\"colorbar\": {\"outlinewidth\": 0, \"ticks\": \"\"}, \"colorscale\": [[0.0, \"#0d0887\"], [0.1111111111111111, \"#46039f\"], [0.2222222222222222, \"#7201a8\"], [0.3333333333333333, \"#9c179e\"], [0.4444444444444444, \"#bd3786\"], [0.5555555555555556, \"#d8576b\"], [0.6666666666666666, \"#ed7953\"], [0.7777777777777778, \"#fb9f3a\"], [0.8888888888888888, \"#fdca26\"], [1.0, \"#f0f921\"]], \"type\": \"histogram2dcontour\"}], \"mesh3d\": [{\"colorbar\": {\"outlinewidth\": 0, \"ticks\": \"\"}, \"type\": \"mesh3d\"}], \"parcoords\": [{\"line\": {\"colorbar\": {\"outlinewidth\": 0, \"ticks\": \"\"}}, \"type\": \"parcoords\"}], \"pie\": [{\"automargin\": true, \"type\": \"pie\"}], \"scatter\": [{\"marker\": {\"colorbar\": {\"outlinewidth\": 0, \"ticks\": \"\"}}, \"type\": \"scatter\"}], \"scatter3d\": [{\"line\": {\"colorbar\": {\"outlinewidth\": 0, \"ticks\": \"\"}}, \"marker\": {\"colorbar\": {\"outlinewidth\": 0, \"ticks\": \"\"}}, \"type\": \"scatter3d\"}], \"scattercarpet\": [{\"marker\": {\"colorbar\": {\"outlinewidth\": 0, \"ticks\": \"\"}}, \"type\": \"scattercarpet\"}], \"scattergeo\": [{\"marker\": {\"colorbar\": {\"outlinewidth\": 0, \"ticks\": \"\"}}, \"type\": \"scattergeo\"}], \"scattergl\": [{\"marker\": {\"colorbar\": {\"outlinewidth\": 0, \"ticks\": \"\"}}, \"type\": \"scattergl\"}], \"scattermapbox\": [{\"marker\": {\"colorbar\": {\"outlinewidth\": 0, \"ticks\": \"\"}}, \"type\": \"scattermapbox\"}], \"scatterpolar\": [{\"marker\": {\"colorbar\": {\"outlinewidth\": 0, \"ticks\": \"\"}}, \"type\": \"scatterpolar\"}], \"scatterpolargl\": [{\"marker\": {\"colorbar\": {\"outlinewidth\": 0, \"ticks\": \"\"}}, \"type\": \"scatterpolargl\"}], \"scatterternary\": [{\"marker\": {\"colorbar\": {\"outlinewidth\": 0, \"ticks\": \"\"}}, \"type\": \"scatterternary\"}], \"surface\": [{\"colorbar\": {\"outlinewidth\": 0, \"ticks\": \"\"}, \"colorscale\": [[0.0, \"#0d0887\"], [0.1111111111111111, \"#46039f\"], [0.2222222222222222, \"#7201a8\"], [0.3333333333333333, \"#9c179e\"], [0.4444444444444444, \"#bd3786\"], [0.5555555555555556, \"#d8576b\"], [0.6666666666666666, \"#ed7953\"], [0.7777777777777778, \"#fb9f3a\"], [0.8888888888888888, \"#fdca26\"], [1.0, \"#f0f921\"]], \"type\": \"surface\"}], \"table\": [{\"cells\": {\"fill\": {\"color\": \"#EBF0F8\"}, \"line\": {\"color\": \"white\"}}, \"header\": {\"fill\": {\"color\": \"#C8D4E3\"}, \"line\": {\"color\": \"white\"}}, \"type\": \"table\"}]}, \"layout\": {\"annotationdefaults\": {\"arrowcolor\": \"#2a3f5f\", \"arrowhead\": 0, \"arrowwidth\": 1}, \"coloraxis\": {\"colorbar\": {\"outlinewidth\": 0, \"ticks\": \"\"}}, \"colorscale\": {\"diverging\": [[0, \"#8e0152\"], [0.1, \"#c51b7d\"], [0.2, \"#de77ae\"], [0.3, \"#f1b6da\"], [0.4, \"#fde0ef\"], [0.5, \"#f7f7f7\"], [0.6, \"#e6f5d0\"], [0.7, \"#b8e186\"], [0.8, \"#7fbc41\"], [0.9, \"#4d9221\"], [1, \"#276419\"]], \"sequential\": [[0.0, \"#0d0887\"], [0.1111111111111111, \"#46039f\"], [0.2222222222222222, \"#7201a8\"], [0.3333333333333333, \"#9c179e\"], [0.4444444444444444, \"#bd3786\"], [0.5555555555555556, \"#d8576b\"], [0.6666666666666666, \"#ed7953\"], [0.7777777777777778, \"#fb9f3a\"], [0.8888888888888888, \"#fdca26\"], [1.0, \"#f0f921\"]], \"sequentialminus\": [[0.0, \"#0d0887\"], [0.1111111111111111, \"#46039f\"], [0.2222222222222222, \"#7201a8\"], [0.3333333333333333, \"#9c179e\"], [0.4444444444444444, \"#bd3786\"], [0.5555555555555556, \"#d8576b\"], [0.6666666666666666, \"#ed7953\"], [0.7777777777777778, \"#fb9f3a\"], [0.8888888888888888, \"#fdca26\"], [1.0, \"#f0f921\"]]}, \"colorway\": [\"#636efa\", \"#EF553B\", \"#00cc96\", \"#ab63fa\", \"#FFA15A\", \"#19d3f3\", \"#FF6692\", \"#B6E880\", \"#FF97FF\", \"#FECB52\"], \"font\": {\"color\": \"#2a3f5f\"}, \"geo\": {\"bgcolor\": \"white\", \"lakecolor\": \"white\", \"landcolor\": \"#E5ECF6\", \"showlakes\": true, \"showland\": true, \"subunitcolor\": \"white\"}, \"hoverlabel\": {\"align\": \"left\"}, \"hovermode\": \"closest\", \"mapbox\": {\"style\": \"light\"}, \"paper_bgcolor\": \"white\", \"plot_bgcolor\": \"#E5ECF6\", \"polar\": {\"angularaxis\": {\"gridcolor\": \"white\", \"linecolor\": \"white\", \"ticks\": \"\"}, \"bgcolor\": \"#E5ECF6\", \"radialaxis\": {\"gridcolor\": \"white\", \"linecolor\": \"white\", \"ticks\": \"\"}}, \"scene\": {\"xaxis\": {\"backgroundcolor\": \"#E5ECF6\", \"gridcolor\": \"white\", \"gridwidth\": 2, \"linecolor\": \"white\", \"showbackground\": true, \"ticks\": \"\", \"zerolinecolor\": \"white\"}, \"yaxis\": {\"backgroundcolor\": \"#E5ECF6\", \"gridcolor\": \"white\", \"gridwidth\": 2, \"linecolor\": \"white\", \"showbackground\": true, \"ticks\": \"\", \"zerolinecolor\": \"white\"}, \"zaxis\": {\"backgroundcolor\": \"#E5ECF6\", \"gridcolor\": \"white\", \"gridwidth\": 2, \"linecolor\": \"white\", \"showbackground\": true, \"ticks\": \"\", \"zerolinecolor\": \"white\"}}, \"shapedefaults\": {\"line\": {\"color\": \"#2a3f5f\"}}, \"ternary\": {\"aaxis\": {\"gridcolor\": \"white\", \"linecolor\": \"white\", \"ticks\": \"\"}, \"baxis\": {\"gridcolor\": \"white\", \"linecolor\": \"white\", \"ticks\": \"\"}, \"bgcolor\": \"#E5ECF6\", \"caxis\": {\"gridcolor\": \"white\", \"linecolor\": \"white\", \"ticks\": \"\"}}, \"title\": {\"x\": 0.05}, \"xaxis\": {\"automargin\": true, \"gridcolor\": \"white\", \"linecolor\": \"white\", \"ticks\": \"\", \"title\": {\"standoff\": 15}, \"zerolinecolor\": \"white\", \"zerolinewidth\": 2}, \"yaxis\": {\"automargin\": true, \"gridcolor\": \"white\", \"linecolor\": \"white\", \"ticks\": \"\", \"title\": {\"standoff\": 15}, \"zerolinecolor\": \"white\", \"zerolinewidth\": 2}}}, \"title\": {\"text\": \"Years of construction\"}, \"xaxis\": {\"anchor\": \"y\", \"domain\": [0.0, 1.0], \"title\": {\"text\": \"Year of construction\"}}, \"yaxis\": {\"anchor\": \"x\", \"domain\": [0.0, 1.0], \"title\": {\"text\": \"count\"}}},\n",
       "                        {\"responsive\": true}\n",
       "                    ).then(function(){\n",
       "                            \n",
       "var gd = document.getElementById('e47daa4e-a855-43c5-9146-5f587a386bde');\n",
       "var x = new MutationObserver(function (mutations, observer) {{\n",
       "        var display = window.getComputedStyle(gd).display;\n",
       "        if (!display || display === 'none') {{\n",
       "            console.log([gd, 'removed!']);\n",
       "            Plotly.purge(gd);\n",
       "            observer.disconnect();\n",
       "        }}\n",
       "}});\n",
       "\n",
       "// Listen for the removal of the full notebook cells\n",
       "var notebookContainer = gd.closest('#notebook-container');\n",
       "if (notebookContainer) {{\n",
       "    x.observe(notebookContainer, {childList: true});\n",
       "}}\n",
       "\n",
       "// Listen for the clearing of the current output cell\n",
       "var outputEl = gd.closest('.output');\n",
       "if (outputEl) {{\n",
       "    x.observe(outputEl, {childList: true});\n",
       "}}\n",
       "\n",
       "                        })\n",
       "                };\n",
       "                });\n",
       "            </script>\n",
       "        </div>"
      ]
     },
     "metadata": {},
     "output_type": "display_data"
    }
   ],
   "source": [
    "df2=pd.DataFrame()\n",
    "df2['Year of construction'] = list(df.loc[df['year_of_construction'] > 1200].groupby('year_of_construction')['type'].count().index)\n",
    "df2['count']=list(df.loc[df['year_of_construction'] > 1200].groupby('year_of_construction')['type'].count())\n",
    "fig = px.bar(df2, x='Year of construction', y='count', color='count', orientation='v', height=600,\n",
    "             title='Years of construction', color_discrete_sequence = px.colors.cyclical.mygbm)\n",
    "\n",
    "fig.update_layout(plot_bgcolor='rgb(250, 242, 242)')\n",
    "fig.show()"
   ]
  },
  {
   "cell_type": "code",
   "execution_count": 246,
   "metadata": {},
   "outputs": [
    {
     "data": {
      "application/vnd.plotly.v1+json": {
       "config": {
        "plotlyServerURL": "https://plot.ly"
       },
       "data": [
        {
         "alignmentgroup": "True",
         "hoverlabel": {
          "namelength": 0
         },
         "hovertemplate": "Category=%{x}<br>count=%{marker.color}",
         "legendgroup": "",
         "marker": {
          "color": [
           905,
           1,
           1,
           15,
           1,
           5,
           1049,
           2,
           13
          ],
          "coloraxis": "coloraxis"
         },
         "name": "",
         "offsetgroup": "",
         "orientation": "v",
         "showlegend": false,
         "textposition": "auto",
         "type": "bar",
         "x": [
          "Appartement",
          "Château",
          "Hôtel particulier",
          "Immeuble",
          "Local commercial",
          "Loft/Atelier/Surface",
          "Maison / Villa",
          "Parking",
          "Terrain"
         ],
         "xaxis": "x",
         "y": [
          905,
          1,
          1,
          15,
          1,
          5,
          1049,
          2,
          13
         ],
         "yaxis": "y"
        }
       ],
       "layout": {
        "barmode": "relative",
        "coloraxis": {
         "colorbar": {
          "title": {
           "text": "count"
          }
         },
         "colorscale": [
          [
           0,
           "#0d0887"
          ],
          [
           0.1111111111111111,
           "#46039f"
          ],
          [
           0.2222222222222222,
           "#7201a8"
          ],
          [
           0.3333333333333333,
           "#9c179e"
          ],
          [
           0.4444444444444444,
           "#bd3786"
          ],
          [
           0.5555555555555556,
           "#d8576b"
          ],
          [
           0.6666666666666666,
           "#ed7953"
          ],
          [
           0.7777777777777778,
           "#fb9f3a"
          ],
          [
           0.8888888888888888,
           "#fdca26"
          ],
          [
           1,
           "#f0f921"
          ]
         ]
        },
        "height": 600,
        "legend": {
         "tracegroupgap": 0
        },
        "plot_bgcolor": "rgb(250, 242, 242)",
        "template": {
         "data": {
          "bar": [
           {
            "error_x": {
             "color": "#2a3f5f"
            },
            "error_y": {
             "color": "#2a3f5f"
            },
            "marker": {
             "line": {
              "color": "#E5ECF6",
              "width": 0.5
             }
            },
            "type": "bar"
           }
          ],
          "barpolar": [
           {
            "marker": {
             "line": {
              "color": "#E5ECF6",
              "width": 0.5
             }
            },
            "type": "barpolar"
           }
          ],
          "carpet": [
           {
            "aaxis": {
             "endlinecolor": "#2a3f5f",
             "gridcolor": "white",
             "linecolor": "white",
             "minorgridcolor": "white",
             "startlinecolor": "#2a3f5f"
            },
            "baxis": {
             "endlinecolor": "#2a3f5f",
             "gridcolor": "white",
             "linecolor": "white",
             "minorgridcolor": "white",
             "startlinecolor": "#2a3f5f"
            },
            "type": "carpet"
           }
          ],
          "choropleth": [
           {
            "colorbar": {
             "outlinewidth": 0,
             "ticks": ""
            },
            "type": "choropleth"
           }
          ],
          "contour": [
           {
            "colorbar": {
             "outlinewidth": 0,
             "ticks": ""
            },
            "colorscale": [
             [
              0,
              "#0d0887"
             ],
             [
              0.1111111111111111,
              "#46039f"
             ],
             [
              0.2222222222222222,
              "#7201a8"
             ],
             [
              0.3333333333333333,
              "#9c179e"
             ],
             [
              0.4444444444444444,
              "#bd3786"
             ],
             [
              0.5555555555555556,
              "#d8576b"
             ],
             [
              0.6666666666666666,
              "#ed7953"
             ],
             [
              0.7777777777777778,
              "#fb9f3a"
             ],
             [
              0.8888888888888888,
              "#fdca26"
             ],
             [
              1,
              "#f0f921"
             ]
            ],
            "type": "contour"
           }
          ],
          "contourcarpet": [
           {
            "colorbar": {
             "outlinewidth": 0,
             "ticks": ""
            },
            "type": "contourcarpet"
           }
          ],
          "heatmap": [
           {
            "colorbar": {
             "outlinewidth": 0,
             "ticks": ""
            },
            "colorscale": [
             [
              0,
              "#0d0887"
             ],
             [
              0.1111111111111111,
              "#46039f"
             ],
             [
              0.2222222222222222,
              "#7201a8"
             ],
             [
              0.3333333333333333,
              "#9c179e"
             ],
             [
              0.4444444444444444,
              "#bd3786"
             ],
             [
              0.5555555555555556,
              "#d8576b"
             ],
             [
              0.6666666666666666,
              "#ed7953"
             ],
             [
              0.7777777777777778,
              "#fb9f3a"
             ],
             [
              0.8888888888888888,
              "#fdca26"
             ],
             [
              1,
              "#f0f921"
             ]
            ],
            "type": "heatmap"
           }
          ],
          "heatmapgl": [
           {
            "colorbar": {
             "outlinewidth": 0,
             "ticks": ""
            },
            "colorscale": [
             [
              0,
              "#0d0887"
             ],
             [
              0.1111111111111111,
              "#46039f"
             ],
             [
              0.2222222222222222,
              "#7201a8"
             ],
             [
              0.3333333333333333,
              "#9c179e"
             ],
             [
              0.4444444444444444,
              "#bd3786"
             ],
             [
              0.5555555555555556,
              "#d8576b"
             ],
             [
              0.6666666666666666,
              "#ed7953"
             ],
             [
              0.7777777777777778,
              "#fb9f3a"
             ],
             [
              0.8888888888888888,
              "#fdca26"
             ],
             [
              1,
              "#f0f921"
             ]
            ],
            "type": "heatmapgl"
           }
          ],
          "histogram": [
           {
            "marker": {
             "colorbar": {
              "outlinewidth": 0,
              "ticks": ""
             }
            },
            "type": "histogram"
           }
          ],
          "histogram2d": [
           {
            "colorbar": {
             "outlinewidth": 0,
             "ticks": ""
            },
            "colorscale": [
             [
              0,
              "#0d0887"
             ],
             [
              0.1111111111111111,
              "#46039f"
             ],
             [
              0.2222222222222222,
              "#7201a8"
             ],
             [
              0.3333333333333333,
              "#9c179e"
             ],
             [
              0.4444444444444444,
              "#bd3786"
             ],
             [
              0.5555555555555556,
              "#d8576b"
             ],
             [
              0.6666666666666666,
              "#ed7953"
             ],
             [
              0.7777777777777778,
              "#fb9f3a"
             ],
             [
              0.8888888888888888,
              "#fdca26"
             ],
             [
              1,
              "#f0f921"
             ]
            ],
            "type": "histogram2d"
           }
          ],
          "histogram2dcontour": [
           {
            "colorbar": {
             "outlinewidth": 0,
             "ticks": ""
            },
            "colorscale": [
             [
              0,
              "#0d0887"
             ],
             [
              0.1111111111111111,
              "#46039f"
             ],
             [
              0.2222222222222222,
              "#7201a8"
             ],
             [
              0.3333333333333333,
              "#9c179e"
             ],
             [
              0.4444444444444444,
              "#bd3786"
             ],
             [
              0.5555555555555556,
              "#d8576b"
             ],
             [
              0.6666666666666666,
              "#ed7953"
             ],
             [
              0.7777777777777778,
              "#fb9f3a"
             ],
             [
              0.8888888888888888,
              "#fdca26"
             ],
             [
              1,
              "#f0f921"
             ]
            ],
            "type": "histogram2dcontour"
           }
          ],
          "mesh3d": [
           {
            "colorbar": {
             "outlinewidth": 0,
             "ticks": ""
            },
            "type": "mesh3d"
           }
          ],
          "parcoords": [
           {
            "line": {
             "colorbar": {
              "outlinewidth": 0,
              "ticks": ""
             }
            },
            "type": "parcoords"
           }
          ],
          "pie": [
           {
            "automargin": true,
            "type": "pie"
           }
          ],
          "scatter": [
           {
            "marker": {
             "colorbar": {
              "outlinewidth": 0,
              "ticks": ""
             }
            },
            "type": "scatter"
           }
          ],
          "scatter3d": [
           {
            "line": {
             "colorbar": {
              "outlinewidth": 0,
              "ticks": ""
             }
            },
            "marker": {
             "colorbar": {
              "outlinewidth": 0,
              "ticks": ""
             }
            },
            "type": "scatter3d"
           }
          ],
          "scattercarpet": [
           {
            "marker": {
             "colorbar": {
              "outlinewidth": 0,
              "ticks": ""
             }
            },
            "type": "scattercarpet"
           }
          ],
          "scattergeo": [
           {
            "marker": {
             "colorbar": {
              "outlinewidth": 0,
              "ticks": ""
             }
            },
            "type": "scattergeo"
           }
          ],
          "scattergl": [
           {
            "marker": {
             "colorbar": {
              "outlinewidth": 0,
              "ticks": ""
             }
            },
            "type": "scattergl"
           }
          ],
          "scattermapbox": [
           {
            "marker": {
             "colorbar": {
              "outlinewidth": 0,
              "ticks": ""
             }
            },
            "type": "scattermapbox"
           }
          ],
          "scatterpolar": [
           {
            "marker": {
             "colorbar": {
              "outlinewidth": 0,
              "ticks": ""
             }
            },
            "type": "scatterpolar"
           }
          ],
          "scatterpolargl": [
           {
            "marker": {
             "colorbar": {
              "outlinewidth": 0,
              "ticks": ""
             }
            },
            "type": "scatterpolargl"
           }
          ],
          "scatterternary": [
           {
            "marker": {
             "colorbar": {
              "outlinewidth": 0,
              "ticks": ""
             }
            },
            "type": "scatterternary"
           }
          ],
          "surface": [
           {
            "colorbar": {
             "outlinewidth": 0,
             "ticks": ""
            },
            "colorscale": [
             [
              0,
              "#0d0887"
             ],
             [
              0.1111111111111111,
              "#46039f"
             ],
             [
              0.2222222222222222,
              "#7201a8"
             ],
             [
              0.3333333333333333,
              "#9c179e"
             ],
             [
              0.4444444444444444,
              "#bd3786"
             ],
             [
              0.5555555555555556,
              "#d8576b"
             ],
             [
              0.6666666666666666,
              "#ed7953"
             ],
             [
              0.7777777777777778,
              "#fb9f3a"
             ],
             [
              0.8888888888888888,
              "#fdca26"
             ],
             [
              1,
              "#f0f921"
             ]
            ],
            "type": "surface"
           }
          ],
          "table": [
           {
            "cells": {
             "fill": {
              "color": "#EBF0F8"
             },
             "line": {
              "color": "white"
             }
            },
            "header": {
             "fill": {
              "color": "#C8D4E3"
             },
             "line": {
              "color": "white"
             }
            },
            "type": "table"
           }
          ]
         },
         "layout": {
          "annotationdefaults": {
           "arrowcolor": "#2a3f5f",
           "arrowhead": 0,
           "arrowwidth": 1
          },
          "coloraxis": {
           "colorbar": {
            "outlinewidth": 0,
            "ticks": ""
           }
          },
          "colorscale": {
           "diverging": [
            [
             0,
             "#8e0152"
            ],
            [
             0.1,
             "#c51b7d"
            ],
            [
             0.2,
             "#de77ae"
            ],
            [
             0.3,
             "#f1b6da"
            ],
            [
             0.4,
             "#fde0ef"
            ],
            [
             0.5,
             "#f7f7f7"
            ],
            [
             0.6,
             "#e6f5d0"
            ],
            [
             0.7,
             "#b8e186"
            ],
            [
             0.8,
             "#7fbc41"
            ],
            [
             0.9,
             "#4d9221"
            ],
            [
             1,
             "#276419"
            ]
           ],
           "sequential": [
            [
             0,
             "#0d0887"
            ],
            [
             0.1111111111111111,
             "#46039f"
            ],
            [
             0.2222222222222222,
             "#7201a8"
            ],
            [
             0.3333333333333333,
             "#9c179e"
            ],
            [
             0.4444444444444444,
             "#bd3786"
            ],
            [
             0.5555555555555556,
             "#d8576b"
            ],
            [
             0.6666666666666666,
             "#ed7953"
            ],
            [
             0.7777777777777778,
             "#fb9f3a"
            ],
            [
             0.8888888888888888,
             "#fdca26"
            ],
            [
             1,
             "#f0f921"
            ]
           ],
           "sequentialminus": [
            [
             0,
             "#0d0887"
            ],
            [
             0.1111111111111111,
             "#46039f"
            ],
            [
             0.2222222222222222,
             "#7201a8"
            ],
            [
             0.3333333333333333,
             "#9c179e"
            ],
            [
             0.4444444444444444,
             "#bd3786"
            ],
            [
             0.5555555555555556,
             "#d8576b"
            ],
            [
             0.6666666666666666,
             "#ed7953"
            ],
            [
             0.7777777777777778,
             "#fb9f3a"
            ],
            [
             0.8888888888888888,
             "#fdca26"
            ],
            [
             1,
             "#f0f921"
            ]
           ]
          },
          "colorway": [
           "#636efa",
           "#EF553B",
           "#00cc96",
           "#ab63fa",
           "#FFA15A",
           "#19d3f3",
           "#FF6692",
           "#B6E880",
           "#FF97FF",
           "#FECB52"
          ],
          "font": {
           "color": "#2a3f5f"
          },
          "geo": {
           "bgcolor": "white",
           "lakecolor": "white",
           "landcolor": "#E5ECF6",
           "showlakes": true,
           "showland": true,
           "subunitcolor": "white"
          },
          "hoverlabel": {
           "align": "left"
          },
          "hovermode": "closest",
          "mapbox": {
           "style": "light"
          },
          "paper_bgcolor": "white",
          "plot_bgcolor": "#E5ECF6",
          "polar": {
           "angularaxis": {
            "gridcolor": "white",
            "linecolor": "white",
            "ticks": ""
           },
           "bgcolor": "#E5ECF6",
           "radialaxis": {
            "gridcolor": "white",
            "linecolor": "white",
            "ticks": ""
           }
          },
          "scene": {
           "xaxis": {
            "backgroundcolor": "#E5ECF6",
            "gridcolor": "white",
            "gridwidth": 2,
            "linecolor": "white",
            "showbackground": true,
            "ticks": "",
            "zerolinecolor": "white"
           },
           "yaxis": {
            "backgroundcolor": "#E5ECF6",
            "gridcolor": "white",
            "gridwidth": 2,
            "linecolor": "white",
            "showbackground": true,
            "ticks": "",
            "zerolinecolor": "white"
           },
           "zaxis": {
            "backgroundcolor": "#E5ECF6",
            "gridcolor": "white",
            "gridwidth": 2,
            "linecolor": "white",
            "showbackground": true,
            "ticks": "",
            "zerolinecolor": "white"
           }
          },
          "shapedefaults": {
           "line": {
            "color": "#2a3f5f"
           }
          },
          "ternary": {
           "aaxis": {
            "gridcolor": "white",
            "linecolor": "white",
            "ticks": ""
           },
           "baxis": {
            "gridcolor": "white",
            "linecolor": "white",
            "ticks": ""
           },
           "bgcolor": "#E5ECF6",
           "caxis": {
            "gridcolor": "white",
            "linecolor": "white",
            "ticks": ""
           }
          },
          "title": {
           "x": 0.05
          },
          "xaxis": {
           "automargin": true,
           "gridcolor": "white",
           "linecolor": "white",
           "ticks": "",
           "title": {
            "standoff": 15
           },
           "zerolinecolor": "white",
           "zerolinewidth": 2
          },
          "yaxis": {
           "automargin": true,
           "gridcolor": "white",
           "linecolor": "white",
           "ticks": "",
           "title": {
            "standoff": 15
           },
           "zerolinecolor": "white",
           "zerolinewidth": 2
          }
         }
        },
        "title": {
         "text": "Number of category in each ad"
        },
        "xaxis": {
         "anchor": "y",
         "domain": [
          0,
          1
         ],
         "title": {
          "text": "Category"
         }
        },
        "yaxis": {
         "anchor": "x",
         "domain": [
          0,
          1
         ],
         "title": {
          "text": "count"
         }
        }
       }
      },
      "text/html": [
       "<div>\n",
       "        \n",
       "        \n",
       "            <div id=\"24cd86ce-52bb-438a-96e9-b665956387e5\" class=\"plotly-graph-div\" style=\"height:600px; width:100%;\"></div>\n",
       "            <script type=\"text/javascript\">\n",
       "                require([\"plotly\"], function(Plotly) {\n",
       "                    window.PLOTLYENV=window.PLOTLYENV || {};\n",
       "                    \n",
       "                if (document.getElementById(\"24cd86ce-52bb-438a-96e9-b665956387e5\")) {\n",
       "                    Plotly.newPlot(\n",
       "                        '24cd86ce-52bb-438a-96e9-b665956387e5',\n",
       "                        [{\"alignmentgroup\": \"True\", \"hoverlabel\": {\"namelength\": 0}, \"hovertemplate\": \"Category=%{x}<br>count=%{marker.color}\", \"legendgroup\": \"\", \"marker\": {\"color\": [905, 1, 1, 15, 1, 5, 1049, 2, 13], \"coloraxis\": \"coloraxis\"}, \"name\": \"\", \"offsetgroup\": \"\", \"orientation\": \"v\", \"showlegend\": false, \"textposition\": \"auto\", \"type\": \"bar\", \"x\": [\"Appartement\", \"Ch\\u00e2teau\", \"H\\u00f4tel particulier\", \"Immeuble\", \"Local commercial\", \"Loft/Atelier/Surface\", \"Maison / Villa\", \"Parking\", \"Terrain\"], \"xaxis\": \"x\", \"y\": [905, 1, 1, 15, 1, 5, 1049, 2, 13], \"yaxis\": \"y\"}],\n",
       "                        {\"barmode\": \"relative\", \"coloraxis\": {\"colorbar\": {\"title\": {\"text\": \"count\"}}, \"colorscale\": [[0.0, \"#0d0887\"], [0.1111111111111111, \"#46039f\"], [0.2222222222222222, \"#7201a8\"], [0.3333333333333333, \"#9c179e\"], [0.4444444444444444, \"#bd3786\"], [0.5555555555555556, \"#d8576b\"], [0.6666666666666666, \"#ed7953\"], [0.7777777777777778, \"#fb9f3a\"], [0.8888888888888888, \"#fdca26\"], [1.0, \"#f0f921\"]]}, \"height\": 600, \"legend\": {\"tracegroupgap\": 0}, \"plot_bgcolor\": \"rgb(250, 242, 242)\", \"template\": {\"data\": {\"bar\": [{\"error_x\": {\"color\": \"#2a3f5f\"}, \"error_y\": {\"color\": \"#2a3f5f\"}, \"marker\": {\"line\": {\"color\": \"#E5ECF6\", \"width\": 0.5}}, \"type\": \"bar\"}], \"barpolar\": [{\"marker\": {\"line\": {\"color\": \"#E5ECF6\", \"width\": 0.5}}, \"type\": \"barpolar\"}], \"carpet\": [{\"aaxis\": {\"endlinecolor\": \"#2a3f5f\", \"gridcolor\": \"white\", \"linecolor\": \"white\", \"minorgridcolor\": \"white\", \"startlinecolor\": \"#2a3f5f\"}, \"baxis\": {\"endlinecolor\": \"#2a3f5f\", \"gridcolor\": \"white\", \"linecolor\": \"white\", \"minorgridcolor\": \"white\", \"startlinecolor\": \"#2a3f5f\"}, \"type\": \"carpet\"}], \"choropleth\": [{\"colorbar\": {\"outlinewidth\": 0, \"ticks\": \"\"}, \"type\": \"choropleth\"}], \"contour\": [{\"colorbar\": {\"outlinewidth\": 0, \"ticks\": \"\"}, \"colorscale\": [[0.0, \"#0d0887\"], [0.1111111111111111, \"#46039f\"], [0.2222222222222222, \"#7201a8\"], [0.3333333333333333, \"#9c179e\"], [0.4444444444444444, \"#bd3786\"], [0.5555555555555556, \"#d8576b\"], [0.6666666666666666, \"#ed7953\"], [0.7777777777777778, \"#fb9f3a\"], [0.8888888888888888, \"#fdca26\"], [1.0, \"#f0f921\"]], \"type\": \"contour\"}], \"contourcarpet\": [{\"colorbar\": {\"outlinewidth\": 0, \"ticks\": \"\"}, \"type\": \"contourcarpet\"}], \"heatmap\": [{\"colorbar\": {\"outlinewidth\": 0, \"ticks\": \"\"}, \"colorscale\": [[0.0, \"#0d0887\"], [0.1111111111111111, \"#46039f\"], [0.2222222222222222, \"#7201a8\"], [0.3333333333333333, \"#9c179e\"], [0.4444444444444444, \"#bd3786\"], [0.5555555555555556, \"#d8576b\"], [0.6666666666666666, \"#ed7953\"], [0.7777777777777778, \"#fb9f3a\"], [0.8888888888888888, \"#fdca26\"], [1.0, \"#f0f921\"]], \"type\": \"heatmap\"}], \"heatmapgl\": [{\"colorbar\": {\"outlinewidth\": 0, \"ticks\": \"\"}, \"colorscale\": [[0.0, \"#0d0887\"], [0.1111111111111111, \"#46039f\"], [0.2222222222222222, \"#7201a8\"], [0.3333333333333333, \"#9c179e\"], [0.4444444444444444, \"#bd3786\"], [0.5555555555555556, \"#d8576b\"], [0.6666666666666666, \"#ed7953\"], [0.7777777777777778, \"#fb9f3a\"], [0.8888888888888888, \"#fdca26\"], [1.0, \"#f0f921\"]], \"type\": \"heatmapgl\"}], \"histogram\": [{\"marker\": {\"colorbar\": {\"outlinewidth\": 0, \"ticks\": \"\"}}, \"type\": \"histogram\"}], \"histogram2d\": [{\"colorbar\": {\"outlinewidth\": 0, \"ticks\": \"\"}, \"colorscale\": [[0.0, \"#0d0887\"], [0.1111111111111111, \"#46039f\"], [0.2222222222222222, \"#7201a8\"], [0.3333333333333333, \"#9c179e\"], [0.4444444444444444, \"#bd3786\"], [0.5555555555555556, \"#d8576b\"], [0.6666666666666666, \"#ed7953\"], [0.7777777777777778, \"#fb9f3a\"], [0.8888888888888888, \"#fdca26\"], [1.0, \"#f0f921\"]], \"type\": \"histogram2d\"}], \"histogram2dcontour\": [{\"colorbar\": {\"outlinewidth\": 0, \"ticks\": \"\"}, \"colorscale\": [[0.0, \"#0d0887\"], [0.1111111111111111, \"#46039f\"], [0.2222222222222222, \"#7201a8\"], [0.3333333333333333, \"#9c179e\"], [0.4444444444444444, \"#bd3786\"], [0.5555555555555556, \"#d8576b\"], [0.6666666666666666, \"#ed7953\"], [0.7777777777777778, \"#fb9f3a\"], [0.8888888888888888, \"#fdca26\"], [1.0, \"#f0f921\"]], \"type\": \"histogram2dcontour\"}], \"mesh3d\": [{\"colorbar\": {\"outlinewidth\": 0, \"ticks\": \"\"}, \"type\": \"mesh3d\"}], \"parcoords\": [{\"line\": {\"colorbar\": {\"outlinewidth\": 0, \"ticks\": \"\"}}, \"type\": \"parcoords\"}], \"pie\": [{\"automargin\": true, \"type\": \"pie\"}], \"scatter\": [{\"marker\": {\"colorbar\": {\"outlinewidth\": 0, \"ticks\": \"\"}}, \"type\": \"scatter\"}], \"scatter3d\": [{\"line\": {\"colorbar\": {\"outlinewidth\": 0, \"ticks\": \"\"}}, \"marker\": {\"colorbar\": {\"outlinewidth\": 0, \"ticks\": \"\"}}, \"type\": \"scatter3d\"}], \"scattercarpet\": [{\"marker\": {\"colorbar\": {\"outlinewidth\": 0, \"ticks\": \"\"}}, \"type\": \"scattercarpet\"}], \"scattergeo\": [{\"marker\": {\"colorbar\": {\"outlinewidth\": 0, \"ticks\": \"\"}}, \"type\": \"scattergeo\"}], \"scattergl\": [{\"marker\": {\"colorbar\": {\"outlinewidth\": 0, \"ticks\": \"\"}}, \"type\": \"scattergl\"}], \"scattermapbox\": [{\"marker\": {\"colorbar\": {\"outlinewidth\": 0, \"ticks\": \"\"}}, \"type\": \"scattermapbox\"}], \"scatterpolar\": [{\"marker\": {\"colorbar\": {\"outlinewidth\": 0, \"ticks\": \"\"}}, \"type\": \"scatterpolar\"}], \"scatterpolargl\": [{\"marker\": {\"colorbar\": {\"outlinewidth\": 0, \"ticks\": \"\"}}, \"type\": \"scatterpolargl\"}], \"scatterternary\": [{\"marker\": {\"colorbar\": {\"outlinewidth\": 0, \"ticks\": \"\"}}, \"type\": \"scatterternary\"}], \"surface\": [{\"colorbar\": {\"outlinewidth\": 0, \"ticks\": \"\"}, \"colorscale\": [[0.0, \"#0d0887\"], [0.1111111111111111, \"#46039f\"], [0.2222222222222222, \"#7201a8\"], [0.3333333333333333, \"#9c179e\"], [0.4444444444444444, \"#bd3786\"], [0.5555555555555556, \"#d8576b\"], [0.6666666666666666, \"#ed7953\"], [0.7777777777777778, \"#fb9f3a\"], [0.8888888888888888, \"#fdca26\"], [1.0, \"#f0f921\"]], \"type\": \"surface\"}], \"table\": [{\"cells\": {\"fill\": {\"color\": \"#EBF0F8\"}, \"line\": {\"color\": \"white\"}}, \"header\": {\"fill\": {\"color\": \"#C8D4E3\"}, \"line\": {\"color\": \"white\"}}, \"type\": \"table\"}]}, \"layout\": {\"annotationdefaults\": {\"arrowcolor\": \"#2a3f5f\", \"arrowhead\": 0, \"arrowwidth\": 1}, \"coloraxis\": {\"colorbar\": {\"outlinewidth\": 0, \"ticks\": \"\"}}, \"colorscale\": {\"diverging\": [[0, \"#8e0152\"], [0.1, \"#c51b7d\"], [0.2, \"#de77ae\"], [0.3, \"#f1b6da\"], [0.4, \"#fde0ef\"], [0.5, \"#f7f7f7\"], [0.6, \"#e6f5d0\"], [0.7, \"#b8e186\"], [0.8, \"#7fbc41\"], [0.9, \"#4d9221\"], [1, \"#276419\"]], \"sequential\": [[0.0, \"#0d0887\"], [0.1111111111111111, \"#46039f\"], [0.2222222222222222, \"#7201a8\"], [0.3333333333333333, \"#9c179e\"], [0.4444444444444444, \"#bd3786\"], [0.5555555555555556, \"#d8576b\"], [0.6666666666666666, \"#ed7953\"], [0.7777777777777778, \"#fb9f3a\"], [0.8888888888888888, \"#fdca26\"], [1.0, \"#f0f921\"]], \"sequentialminus\": [[0.0, \"#0d0887\"], [0.1111111111111111, \"#46039f\"], [0.2222222222222222, \"#7201a8\"], [0.3333333333333333, \"#9c179e\"], [0.4444444444444444, \"#bd3786\"], [0.5555555555555556, \"#d8576b\"], [0.6666666666666666, \"#ed7953\"], [0.7777777777777778, \"#fb9f3a\"], [0.8888888888888888, \"#fdca26\"], [1.0, \"#f0f921\"]]}, \"colorway\": [\"#636efa\", \"#EF553B\", \"#00cc96\", \"#ab63fa\", \"#FFA15A\", \"#19d3f3\", \"#FF6692\", \"#B6E880\", \"#FF97FF\", \"#FECB52\"], \"font\": {\"color\": \"#2a3f5f\"}, \"geo\": {\"bgcolor\": \"white\", \"lakecolor\": \"white\", \"landcolor\": \"#E5ECF6\", \"showlakes\": true, \"showland\": true, \"subunitcolor\": \"white\"}, \"hoverlabel\": {\"align\": \"left\"}, \"hovermode\": \"closest\", \"mapbox\": {\"style\": \"light\"}, \"paper_bgcolor\": \"white\", \"plot_bgcolor\": \"#E5ECF6\", \"polar\": {\"angularaxis\": {\"gridcolor\": \"white\", \"linecolor\": \"white\", \"ticks\": \"\"}, \"bgcolor\": \"#E5ECF6\", \"radialaxis\": {\"gridcolor\": \"white\", \"linecolor\": \"white\", \"ticks\": \"\"}}, \"scene\": {\"xaxis\": {\"backgroundcolor\": \"#E5ECF6\", \"gridcolor\": \"white\", \"gridwidth\": 2, \"linecolor\": \"white\", \"showbackground\": true, \"ticks\": \"\", \"zerolinecolor\": \"white\"}, \"yaxis\": {\"backgroundcolor\": \"#E5ECF6\", \"gridcolor\": \"white\", \"gridwidth\": 2, \"linecolor\": \"white\", \"showbackground\": true, \"ticks\": \"\", \"zerolinecolor\": \"white\"}, \"zaxis\": {\"backgroundcolor\": \"#E5ECF6\", \"gridcolor\": \"white\", \"gridwidth\": 2, \"linecolor\": \"white\", \"showbackground\": true, \"ticks\": \"\", \"zerolinecolor\": \"white\"}}, \"shapedefaults\": {\"line\": {\"color\": \"#2a3f5f\"}}, \"ternary\": {\"aaxis\": {\"gridcolor\": \"white\", \"linecolor\": \"white\", \"ticks\": \"\"}, \"baxis\": {\"gridcolor\": \"white\", \"linecolor\": \"white\", \"ticks\": \"\"}, \"bgcolor\": \"#E5ECF6\", \"caxis\": {\"gridcolor\": \"white\", \"linecolor\": \"white\", \"ticks\": \"\"}}, \"title\": {\"x\": 0.05}, \"xaxis\": {\"automargin\": true, \"gridcolor\": \"white\", \"linecolor\": \"white\", \"ticks\": \"\", \"title\": {\"standoff\": 15}, \"zerolinecolor\": \"white\", \"zerolinewidth\": 2}, \"yaxis\": {\"automargin\": true, \"gridcolor\": \"white\", \"linecolor\": \"white\", \"ticks\": \"\", \"title\": {\"standoff\": 15}, \"zerolinecolor\": \"white\", \"zerolinewidth\": 2}}}, \"title\": {\"text\": \"Number of category in each ad\"}, \"xaxis\": {\"anchor\": \"y\", \"domain\": [0.0, 1.0], \"title\": {\"text\": \"Category\"}}, \"yaxis\": {\"anchor\": \"x\", \"domain\": [0.0, 1.0], \"title\": {\"text\": \"count\"}}},\n",
       "                        {\"responsive\": true}\n",
       "                    ).then(function(){\n",
       "                            \n",
       "var gd = document.getElementById('24cd86ce-52bb-438a-96e9-b665956387e5');\n",
       "var x = new MutationObserver(function (mutations, observer) {{\n",
       "        var display = window.getComputedStyle(gd).display;\n",
       "        if (!display || display === 'none') {{\n",
       "            console.log([gd, 'removed!']);\n",
       "            Plotly.purge(gd);\n",
       "            observer.disconnect();\n",
       "        }}\n",
       "}});\n",
       "\n",
       "// Listen for the removal of the full notebook cells\n",
       "var notebookContainer = gd.closest('#notebook-container');\n",
       "if (notebookContainer) {{\n",
       "    x.observe(notebookContainer, {childList: true});\n",
       "}}\n",
       "\n",
       "// Listen for the clearing of the current output cell\n",
       "var outputEl = gd.closest('.output');\n",
       "if (outputEl) {{\n",
       "    x.observe(outputEl, {childList: true});\n",
       "}}\n",
       "\n",
       "                        })\n",
       "                };\n",
       "                });\n",
       "            </script>\n",
       "        </div>"
      ]
     },
     "metadata": {},
     "output_type": "display_data"
    }
   ],
   "source": [
    "df2=pd.DataFrame()\n",
    "df2['Category'] = list(df.groupby('category')['type'].count().index)\n",
    "df2['count']=list(df.groupby('category')['type'].count())\n",
    "fig = px.bar(df2, x='Category', y='count', color='count', orientation='v', height=600,\n",
    "             title='Number of category in each ad', color_discrete_sequence = px.colors.cyclical.mygbm)\n",
    "\n",
    "fig.update_layout(plot_bgcolor='rgb(250, 242, 242)')\n",
    "fig.show()\n"
   ]
  },
  {
   "cell_type": "code",
   "execution_count": 247,
   "metadata": {},
   "outputs": [
    {
     "data": {
      "text/plain": [
       "<seaborn.axisgrid.PairGrid at 0x2c50b0a1e48>"
      ]
     },
     "execution_count": 247,
     "metadata": {},
     "output_type": "execute_result"
    },
    {
     "data": {
      "image/png": "[encoded data removed]",
      "text/plain": [
       "<Figure size 1268x1260 with 49 Axes>"
      ]
     },
     "metadata": {
      "needs_background": "light"
     },
     "output_type": "display_data"
    }
   ],
   "source": [
    "g = sns.PairGrid(df, vars=['log_price', 'area(m²)', 'room', 'bedroom', 'bathroom', 'shower_room', 'parking'],\n",
    "                 palette='RdBu_r')\n",
    "g.map(plt.scatter, alpha=0.8)\n",
    "g.add_legend()"
   ]
  },
  {
   "cell_type": "code",
   "execution_count": 248,
   "metadata": {},
   "outputs": [
    {
     "data": {
      "image/png": "[encoded data removed]",
      "text/plain": [
       "<Figure size 288x288 with 1 Axes>"
      ]
     },
     "metadata": {},
     "output_type": "display_data"
    },
    {
     "data": {
      "image/png": "[encoded data removed]",
      "text/plain": [
       "<Figure size 288x288 with 1 Axes>"
      ]
     },
     "metadata": {},
     "output_type": "display_data"
    },
    {
     "data": {
      "image/png": "[encoded data removed]",
      "text/plain": [
       "<Figure size 288x288 with 1 Axes>"
      ]
     },
     "metadata": {},
     "output_type": "display_data"
    }
   ],
   "source": [
    "def hexbin(x, y, color, **kwargs):\n",
    "    cmap = sns.light_palette(color, as_cmap=True)\n",
    "    plt.hexbin(x, y, gridsize=15, cmap=cmap, **kwargs)\n",
    "\n",
    "with sns.axes_style(\"dark\"):\n",
    "    g1 = sns.FacetGrid(df, hue=\"type\", col=\"type\", height=4)\n",
    "    g2 = sns.FacetGrid(df, hue=\"type\", col=\"type\", height=4)\n",
    "    g3 = sns.FacetGrid(df, hue=\"type\", col=\"type\", height=4)\n",
    "\n",
    "\n",
    "g1.map(hexbin, \"room\", \"log_price\", extent=[0, 20, 0, 20]);\n",
    "g2.map(hexbin, \"bedroom\", \"log_price\", extent=[0, 10, 0, 20]);\n",
    "g3.map(hexbin, \"area(m²)\", \"log_price\", extent=[0, 550, 0, 20]);"
   ]
  },
  {
   "cell_type": "code",
   "execution_count": 249,
   "metadata": {},
   "outputs": [
    {
     "data": {
      "text/plain": [
       "<matplotlib.axes._subplots.AxesSubplot at 0x2c521428eb8>"
      ]
     },
     "execution_count": 249,
     "metadata": {},
     "output_type": "execute_result"
    },
    {
     "data": {
      "image/png": "[encoded data removed]",
      "text/plain": [
       "<Figure size 1080x720 with 1 Axes>"
      ]
     },
     "metadata": {
      "needs_background": "light"
     },
     "output_type": "display_data"
    }
   ],
   "source": [
    "plt.figure(figsize=(15,10))\n",
    "sns.boxplot(x='type',y='log_price', data=df)"
   ]
  }
 ],
 "metadata": {
  "kernelspec": {
   "display_name": "Python 3",
   "language": "python",
   "name": "python3"
  },
  "language_info": {
   "codemirror_mode": {
    "name": "ipython",
    "version": 3
   },
   "file_extension": ".py",
   "mimetype": "text/x-python",
   "name": "python",
   "nbconvert_exporter": "python",
   "pygments_lexer": "ipython3",
   "version": "3.7.3"
  }
 },
 "nbformat": 4,
 "nbformat_minor": 2
}
