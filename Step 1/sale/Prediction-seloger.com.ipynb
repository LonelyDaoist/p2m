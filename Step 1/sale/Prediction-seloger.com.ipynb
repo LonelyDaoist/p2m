{
 "cells": [
  {
   "cell_type": "code",
   "execution_count": 2,
   "metadata": {},
   "outputs": [],
   "source": [
    "import pandas as pd\n",
    "import numpy as np"
   ]
  },
  {
   "cell_type": "code",
   "execution_count": 3,
   "metadata": {},
   "outputs": [],
   "source": [
    "df = pd.read_csv(\"final_clean_data.csv\")"
   ]
  },
  {
   "cell_type": "code",
   "execution_count": 4,
   "metadata": {},
   "outputs": [
    {
     "data": {
      "text/html": [
       "<div>\n",
       "<style scoped>\n",
       "    .dataframe tbody tr th:only-of-type {\n",
       "        vertical-align: middle;\n",
       "    }\n",
       "\n",
       "    .dataframe tbody tr th {\n",
       "        vertical-align: top;\n",
       "    }\n",
       "\n",
       "    .dataframe thead th {\n",
       "        text-align: right;\n",
       "    }\n",
       "</style>\n",
       "<table border=\"1\" class=\"dataframe\">\n",
       "  <thead>\n",
       "    <tr style=\"text-align: right;\">\n",
       "      <th></th>\n",
       "      <th>price(€)</th>\n",
       "      <th>monthly(€)</th>\n",
       "      <th>energy_performance_diagnosis_(kWhEP/m².year)</th>\n",
       "      <th>Greenhouse_gas_emission(kgeqCO2/m².year)</th>\n",
       "      <th>terrace</th>\n",
       "      <th>view</th>\n",
       "      <th>area(m²)</th>\n",
       "      <th>room</th>\n",
       "      <th>bedroom</th>\n",
       "      <th>year_of_construction</th>\n",
       "      <th>...</th>\n",
       "      <th>ZAC Saint Sebastien</th>\n",
       "      <th>Zone Agricole</th>\n",
       "      <th>Zone Industrielle</th>\n",
       "      <th>Zone Industrielle du Prat</th>\n",
       "      <th>Zone Nord Est Urbaine</th>\n",
       "      <th>Zone Ouest Urbaine</th>\n",
       "      <th>Zone Pavillonnaire</th>\n",
       "      <th>Zone Pietonne</th>\n",
       "      <th>Zone Rurale Nord</th>\n",
       "      <th>Île de Nantes</th>\n",
       "    </tr>\n",
       "  </thead>\n",
       "  <tbody>\n",
       "    <tr>\n",
       "      <th>0</th>\n",
       "      <td>349500</td>\n",
       "      <td>1449</td>\n",
       "      <td>150.0</td>\n",
       "      <td>35.0</td>\n",
       "      <td>1</td>\n",
       "      <td>0</td>\n",
       "      <td>105.00</td>\n",
       "      <td>5</td>\n",
       "      <td>3</td>\n",
       "      <td>0</td>\n",
       "      <td>...</td>\n",
       "      <td>0</td>\n",
       "      <td>0</td>\n",
       "      <td>0</td>\n",
       "      <td>0</td>\n",
       "      <td>0</td>\n",
       "      <td>0</td>\n",
       "      <td>0</td>\n",
       "      <td>0</td>\n",
       "      <td>0</td>\n",
       "      <td>0</td>\n",
       "    </tr>\n",
       "    <tr>\n",
       "      <th>1</th>\n",
       "      <td>335000</td>\n",
       "      <td>1389</td>\n",
       "      <td>0.0</td>\n",
       "      <td>0.0</td>\n",
       "      <td>1</td>\n",
       "      <td>0</td>\n",
       "      <td>185.00</td>\n",
       "      <td>5</td>\n",
       "      <td>4</td>\n",
       "      <td>1976</td>\n",
       "      <td>...</td>\n",
       "      <td>0</td>\n",
       "      <td>0</td>\n",
       "      <td>0</td>\n",
       "      <td>0</td>\n",
       "      <td>0</td>\n",
       "      <td>0</td>\n",
       "      <td>0</td>\n",
       "      <td>0</td>\n",
       "      <td>0</td>\n",
       "      <td>0</td>\n",
       "    </tr>\n",
       "    <tr>\n",
       "      <th>2</th>\n",
       "      <td>2490000</td>\n",
       "      <td>10270</td>\n",
       "      <td>99.0</td>\n",
       "      <td>19.0</td>\n",
       "      <td>0</td>\n",
       "      <td>1</td>\n",
       "      <td>220.00</td>\n",
       "      <td>5</td>\n",
       "      <td>5</td>\n",
       "      <td>0</td>\n",
       "      <td>...</td>\n",
       "      <td>0</td>\n",
       "      <td>0</td>\n",
       "      <td>0</td>\n",
       "      <td>0</td>\n",
       "      <td>0</td>\n",
       "      <td>0</td>\n",
       "      <td>0</td>\n",
       "      <td>0</td>\n",
       "      <td>0</td>\n",
       "      <td>0</td>\n",
       "    </tr>\n",
       "    <tr>\n",
       "      <th>3</th>\n",
       "      <td>356000</td>\n",
       "      <td>1476</td>\n",
       "      <td>0.0</td>\n",
       "      <td>0.0</td>\n",
       "      <td>0</td>\n",
       "      <td>0</td>\n",
       "      <td>130.00</td>\n",
       "      <td>5</td>\n",
       "      <td>3</td>\n",
       "      <td>0</td>\n",
       "      <td>...</td>\n",
       "      <td>0</td>\n",
       "      <td>0</td>\n",
       "      <td>0</td>\n",
       "      <td>0</td>\n",
       "      <td>0</td>\n",
       "      <td>0</td>\n",
       "      <td>0</td>\n",
       "      <td>0</td>\n",
       "      <td>0</td>\n",
       "      <td>0</td>\n",
       "    </tr>\n",
       "    <tr>\n",
       "      <th>4</th>\n",
       "      <td>388500</td>\n",
       "      <td>1610</td>\n",
       "      <td>214.0</td>\n",
       "      <td>11.0</td>\n",
       "      <td>1</td>\n",
       "      <td>0</td>\n",
       "      <td>102.00</td>\n",
       "      <td>6</td>\n",
       "      <td>4</td>\n",
       "      <td>1986</td>\n",
       "      <td>...</td>\n",
       "      <td>0</td>\n",
       "      <td>0</td>\n",
       "      <td>0</td>\n",
       "      <td>0</td>\n",
       "      <td>0</td>\n",
       "      <td>0</td>\n",
       "      <td>0</td>\n",
       "      <td>0</td>\n",
       "      <td>0</td>\n",
       "      <td>0</td>\n",
       "    </tr>\n",
       "    <tr>\n",
       "      <th>...</th>\n",
       "      <td>...</td>\n",
       "      <td>...</td>\n",
       "      <td>...</td>\n",
       "      <td>...</td>\n",
       "      <td>...</td>\n",
       "      <td>...</td>\n",
       "      <td>...</td>\n",
       "      <td>...</td>\n",
       "      <td>...</td>\n",
       "      <td>...</td>\n",
       "      <td>...</td>\n",
       "      <td>...</td>\n",
       "      <td>...</td>\n",
       "      <td>...</td>\n",
       "      <td>...</td>\n",
       "      <td>...</td>\n",
       "      <td>...</td>\n",
       "      <td>...</td>\n",
       "      <td>...</td>\n",
       "      <td>...</td>\n",
       "      <td>...</td>\n",
       "    </tr>\n",
       "    <tr>\n",
       "      <th>1987</th>\n",
       "      <td>148000</td>\n",
       "      <td>619</td>\n",
       "      <td>216.0</td>\n",
       "      <td>11.0</td>\n",
       "      <td>1</td>\n",
       "      <td>0</td>\n",
       "      <td>127.00</td>\n",
       "      <td>5</td>\n",
       "      <td>4</td>\n",
       "      <td>1988</td>\n",
       "      <td>...</td>\n",
       "      <td>0</td>\n",
       "      <td>0</td>\n",
       "      <td>0</td>\n",
       "      <td>0</td>\n",
       "      <td>0</td>\n",
       "      <td>0</td>\n",
       "      <td>0</td>\n",
       "      <td>0</td>\n",
       "      <td>0</td>\n",
       "      <td>0</td>\n",
       "    </tr>\n",
       "    <tr>\n",
       "      <th>1988</th>\n",
       "      <td>75240</td>\n",
       "      <td>317</td>\n",
       "      <td>305.0</td>\n",
       "      <td>0.0</td>\n",
       "      <td>0</td>\n",
       "      <td>0</td>\n",
       "      <td>140.00</td>\n",
       "      <td>5</td>\n",
       "      <td>2</td>\n",
       "      <td>1600</td>\n",
       "      <td>...</td>\n",
       "      <td>0</td>\n",
       "      <td>0</td>\n",
       "      <td>0</td>\n",
       "      <td>0</td>\n",
       "      <td>0</td>\n",
       "      <td>0</td>\n",
       "      <td>0</td>\n",
       "      <td>0</td>\n",
       "      <td>0</td>\n",
       "      <td>0</td>\n",
       "    </tr>\n",
       "    <tr>\n",
       "      <th>1989</th>\n",
       "      <td>375000</td>\n",
       "      <td>1554</td>\n",
       "      <td>167.0</td>\n",
       "      <td>7.0</td>\n",
       "      <td>1</td>\n",
       "      <td>0</td>\n",
       "      <td>72.45</td>\n",
       "      <td>3</td>\n",
       "      <td>2</td>\n",
       "      <td>0</td>\n",
       "      <td>...</td>\n",
       "      <td>0</td>\n",
       "      <td>0</td>\n",
       "      <td>0</td>\n",
       "      <td>0</td>\n",
       "      <td>0</td>\n",
       "      <td>0</td>\n",
       "      <td>0</td>\n",
       "      <td>0</td>\n",
       "      <td>0</td>\n",
       "      <td>0</td>\n",
       "    </tr>\n",
       "    <tr>\n",
       "      <th>1990</th>\n",
       "      <td>520000</td>\n",
       "      <td>2152</td>\n",
       "      <td>125.0</td>\n",
       "      <td>3.0</td>\n",
       "      <td>1</td>\n",
       "      <td>0</td>\n",
       "      <td>110.00</td>\n",
       "      <td>4</td>\n",
       "      <td>3</td>\n",
       "      <td>2007</td>\n",
       "      <td>...</td>\n",
       "      <td>0</td>\n",
       "      <td>0</td>\n",
       "      <td>0</td>\n",
       "      <td>0</td>\n",
       "      <td>0</td>\n",
       "      <td>0</td>\n",
       "      <td>0</td>\n",
       "      <td>0</td>\n",
       "      <td>0</td>\n",
       "      <td>0</td>\n",
       "    </tr>\n",
       "    <tr>\n",
       "      <th>1991</th>\n",
       "      <td>213300</td>\n",
       "      <td>888</td>\n",
       "      <td>153.0</td>\n",
       "      <td>33.0</td>\n",
       "      <td>0</td>\n",
       "      <td>0</td>\n",
       "      <td>56.00</td>\n",
       "      <td>3</td>\n",
       "      <td>2</td>\n",
       "      <td>1987</td>\n",
       "      <td>...</td>\n",
       "      <td>0</td>\n",
       "      <td>0</td>\n",
       "      <td>0</td>\n",
       "      <td>0</td>\n",
       "      <td>0</td>\n",
       "      <td>0</td>\n",
       "      <td>0</td>\n",
       "      <td>0</td>\n",
       "      <td>0</td>\n",
       "      <td>0</td>\n",
       "    </tr>\n",
       "  </tbody>\n",
       "</table>\n",
       "<p>1992 rows × 1604 columns</p>\n",
       "</div>"
      ],
      "text/plain": [
       "      price(€)  monthly(€)  energy_performance_diagnosis_(kWhEP/m².year)  \\\n",
       "0       349500        1449                                         150.0   \n",
       "1       335000        1389                                           0.0   \n",
       "2      2490000       10270                                          99.0   \n",
       "3       356000        1476                                           0.0   \n",
       "4       388500        1610                                         214.0   \n",
       "...        ...         ...                                           ...   \n",
       "1987    148000         619                                         216.0   \n",
       "1988     75240         317                                         305.0   \n",
       "1989    375000        1554                                         167.0   \n",
       "1990    520000        2152                                         125.0   \n",
       "1991    213300         888                                         153.0   \n",
       "\n",
       "      Greenhouse_gas_emission(kgeqCO2/m².year)  terrace  view  area(m²)  room  \\\n",
       "0                                         35.0        1     0    105.00     5   \n",
       "1                                          0.0        1     0    185.00     5   \n",
       "2                                         19.0        0     1    220.00     5   \n",
       "3                                          0.0        0     0    130.00     5   \n",
       "4                                         11.0        1     0    102.00     6   \n",
       "...                                        ...      ...   ...       ...   ...   \n",
       "1987                                      11.0        1     0    127.00     5   \n",
       "1988                                       0.0        0     0    140.00     5   \n",
       "1989                                       7.0        1     0     72.45     3   \n",
       "1990                                       3.0        1     0    110.00     4   \n",
       "1991                                      33.0        0     0     56.00     3   \n",
       "\n",
       "      bedroom  year_of_construction  ...  ZAC Saint Sebastien  Zone Agricole  \\\n",
       "0           3                     0  ...                    0              0   \n",
       "1           4                  1976  ...                    0              0   \n",
       "2           5                     0  ...                    0              0   \n",
       "3           3                     0  ...                    0              0   \n",
       "4           4                  1986  ...                    0              0   \n",
       "...       ...                   ...  ...                  ...            ...   \n",
       "1987        4                  1988  ...                    0              0   \n",
       "1988        2                  1600  ...                    0              0   \n",
       "1989        2                     0  ...                    0              0   \n",
       "1990        3                  2007  ...                    0              0   \n",
       "1991        2                  1987  ...                    0              0   \n",
       "\n",
       "      Zone Industrielle  Zone Industrielle du Prat  Zone Nord Est Urbaine  \\\n",
       "0                     0                          0                      0   \n",
       "1                     0                          0                      0   \n",
       "2                     0                          0                      0   \n",
       "3                     0                          0                      0   \n",
       "4                     0                          0                      0   \n",
       "...                 ...                        ...                    ...   \n",
       "1987                  0                          0                      0   \n",
       "1988                  0                          0                      0   \n",
       "1989                  0                          0                      0   \n",
       "1990                  0                          0                      0   \n",
       "1991                  0                          0                      0   \n",
       "\n",
       "      Zone Ouest Urbaine  Zone Pavillonnaire  Zone Pietonne  Zone Rurale Nord  \\\n",
       "0                      0                   0              0                 0   \n",
       "1                      0                   0              0                 0   \n",
       "2                      0                   0              0                 0   \n",
       "3                      0                   0              0                 0   \n",
       "4                      0                   0              0                 0   \n",
       "...                  ...                 ...            ...               ...   \n",
       "1987                   0                   0              0                 0   \n",
       "1988                   0                   0              0                 0   \n",
       "1989                   0                   0              0                 0   \n",
       "1990                   0                   0              0                 0   \n",
       "1991                   0                   0              0                 0   \n",
       "\n",
       "      Île de Nantes  \n",
       "0                 0  \n",
       "1                 0  \n",
       "2                 0  \n",
       "3                 0  \n",
       "4                 0  \n",
       "...             ...  \n",
       "1987              0  \n",
       "1988              0  \n",
       "1989              0  \n",
       "1990              0  \n",
       "1991              0  \n",
       "\n",
       "[1992 rows x 1604 columns]"
      ]
     },
     "execution_count": 4,
     "metadata": {},
     "output_type": "execute_result"
    }
   ],
   "source": [
    "df = df.drop('for_sale', 1)\n",
    "df = df.drop('description', 1)\n",
    "df"
   ]
  },
  {
   "cell_type": "code",
   "execution_count": 5,
   "metadata": {},
   "outputs": [
    {
     "data": {
      "text/html": [
       "<div>\n",
       "<style scoped>\n",
       "    .dataframe tbody tr th:only-of-type {\n",
       "        vertical-align: middle;\n",
       "    }\n",
       "\n",
       "    .dataframe tbody tr th {\n",
       "        vertical-align: top;\n",
       "    }\n",
       "\n",
       "    .dataframe thead th {\n",
       "        text-align: right;\n",
       "    }\n",
       "</style>\n",
       "<table border=\"1\" class=\"dataframe\">\n",
       "  <thead>\n",
       "    <tr style=\"text-align: right;\">\n",
       "      <th></th>\n",
       "      <th>price(€)</th>\n",
       "    </tr>\n",
       "  </thead>\n",
       "  <tbody>\n",
       "    <tr>\n",
       "      <th>0</th>\n",
       "      <td>12.764259</td>\n",
       "    </tr>\n",
       "    <tr>\n",
       "      <th>1</th>\n",
       "      <td>12.721886</td>\n",
       "    </tr>\n",
       "    <tr>\n",
       "      <th>2</th>\n",
       "      <td>14.727793</td>\n",
       "    </tr>\n",
       "    <tr>\n",
       "      <th>3</th>\n",
       "      <td>12.782686</td>\n",
       "    </tr>\n",
       "    <tr>\n",
       "      <th>4</th>\n",
       "      <td>12.870048</td>\n",
       "    </tr>\n",
       "    <tr>\n",
       "      <th>...</th>\n",
       "      <td>...</td>\n",
       "    </tr>\n",
       "    <tr>\n",
       "      <th>1987</th>\n",
       "      <td>11.904968</td>\n",
       "    </tr>\n",
       "    <tr>\n",
       "      <th>1988</th>\n",
       "      <td>11.228438</td>\n",
       "    </tr>\n",
       "    <tr>\n",
       "      <th>1989</th>\n",
       "      <td>12.834681</td>\n",
       "    </tr>\n",
       "    <tr>\n",
       "      <th>1990</th>\n",
       "      <td>13.161584</td>\n",
       "    </tr>\n",
       "    <tr>\n",
       "      <th>1991</th>\n",
       "      <td>12.270455</td>\n",
       "    </tr>\n",
       "  </tbody>\n",
       "</table>\n",
       "<p>1992 rows × 1 columns</p>\n",
       "</div>"
      ],
      "text/plain": [
       "       price(€)\n",
       "0     12.764259\n",
       "1     12.721886\n",
       "2     14.727793\n",
       "3     12.782686\n",
       "4     12.870048\n",
       "...         ...\n",
       "1987  11.904968\n",
       "1988  11.228438\n",
       "1989  12.834681\n",
       "1990  13.161584\n",
       "1991  12.270455\n",
       "\n",
       "[1992 rows x 1 columns]"
      ]
     },
     "execution_count": 5,
     "metadata": {},
     "output_type": "execute_result"
    }
   ],
   "source": [
    "y1_price = pd.DataFrame(np.log(df['price(€)']))\n",
    "y2_monthly = pd.DataFrame(np.log(df['monthly(€)']))\n",
    "df = df.drop('price(€)', 1)\n",
    "df = df.drop('monthly(€)', 1)\n",
    "x = pd.DataFrame(df)\n",
    "y1_price"
   ]
  },
  {
   "cell_type": "markdown",
   "metadata": {},
   "source": [
    "<h1>Prediction of the prices</h1>"
   ]
  },
  {
   "cell_type": "markdown",
   "metadata": {},
   "source": [
    "<h2>Linear Regression</h2>"
   ]
  },
  {
   "cell_type": "code",
   "execution_count": 6,
   "metadata": {},
   "outputs": [],
   "source": [
    "from sklearn.linear_model import LinearRegression\n",
    "from sklearn.model_selection import train_test_split    \n",
    "\n",
    "model=LinearRegression()         \n",
    "\n",
    "X_train, X_test, Y_train_price, Y_test_price = train_test_split(x, y1_price.values.ravel(), test_size=0.2)    \n",
    "\n",
    "model.fit(X_train, Y_train_price)            \n",
    "predictions=model.predict(X_test)"
   ]
  },
  {
   "cell_type": "code",
   "execution_count": 7,
   "metadata": {},
   "outputs": [
    {
     "name": "stdout",
     "output_type": "stream",
     "text": [
      "0.9352251202608691\n"
     ]
    }
   ],
   "source": [
    "print(model.score(X_train, Y_train_price))"
   ]
  },
  {
   "cell_type": "markdown",
   "metadata": {},
   "source": [
    "<h2>Random Forest Regressor</h2>"
   ]
  },
  {
   "cell_type": "code",
   "execution_count": 8,
   "metadata": {},
   "outputs": [
    {
     "name": "stderr",
     "output_type": "stream",
     "text": [
      "C:\\Users\\admin\\Anaconda3\\lib\\site-packages\\sklearn\\ensemble\\forest.py:246: FutureWarning: The default value of n_estimators will change from 10 in version 0.20 to 100 in 0.22.\n",
      "  \"10 in version 0.20 to 100 in 0.22.\", FutureWarning)\n"
     ]
    }
   ],
   "source": [
    "from sklearn.ensemble import RandomForestRegressor\n",
    "\n",
    "model = RandomForestRegressor()\n",
    "\n",
    "X_train, X_test, Y_train_price, Y_test_price = train_test_split(x, y1_price.values.ravel(), test_size=0.2)    \n",
    "\n",
    "model.fit(X_train, Y_train_price)           \n",
    "predictions=model.predict(X_test)"
   ]
  },
  {
   "cell_type": "code",
   "execution_count": 9,
   "metadata": {},
   "outputs": [
    {
     "name": "stdout",
     "output_type": "stream",
     "text": [
      "0.9018513155936252\n"
     ]
    }
   ],
   "source": [
    "print(model.score(X_train, Y_train_price))"
   ]
  },
  {
   "cell_type": "markdown",
   "metadata": {},
   "source": [
    "<h2>Decision Tree Regressor</h2>"
   ]
  },
  {
   "cell_type": "code",
   "execution_count": 10,
   "metadata": {},
   "outputs": [],
   "source": [
    "from sklearn.tree import DecisionTreeRegressor\n",
    "\n",
    "model = DecisionTreeRegressor()\n",
    "\n",
    "X_train, X_test, Y_train_price, Y_test_price = train_test_split(x, y1_price.values.ravel(), test_size=0.2)     \n",
    "\n",
    "model.fit(X_train, Y_train_price)            \n",
    "predictions=model.predict(X_test)"
   ]
  },
  {
   "cell_type": "code",
   "execution_count": 11,
   "metadata": {},
   "outputs": [
    {
     "name": "stdout",
     "output_type": "stream",
     "text": [
      "0.9999999994918902\n"
     ]
    }
   ],
   "source": [
    "print(model.score(X_train, Y_train_price))"
   ]
  },
  {
   "cell_type": "markdown",
   "metadata": {},
   "source": [
    "<h2>Regression using Keras</h2>"
   ]
  },
  {
   "cell_type": "code",
   "execution_count": 12,
   "metadata": {},
   "outputs": [
    {
     "name": "stderr",
     "output_type": "stream",
     "text": [
      "Using TensorFlow backend.\n"
     ]
    }
   ],
   "source": [
    "import matplotlib.pyplot as plt\n",
    "from keras.layers import Dense\n",
    "from keras.models import Sequential\n",
    "from keras.callbacks import EarlyStopping\n",
    "\n",
    "X_train, X_test, Y_train_price, Y_test_price = train_test_split(x, y1_price.values.ravel(), test_size=0.2)    \n",
    "\n",
    "model = Sequential()\n",
    "n_cols = x.shape[1]\n",
    "model.add(Dense(100,activation='relu',input_shape=(n_cols,)))\n",
    "model.add(Dense(120,activation='relu'))\n",
    "model.add(Dense(130,activation='relu'))\n",
    "model.add(Dense(120,activation='relu'))\n",
    "model.add(Dense(120,activation='relu'))\n",
    "model.add(Dense(120,activation='relu'))\n",
    "model.add(Dense(120,activation='relu'))\n",
    "model.add(Dense(120,activation='relu'))\n",
    "model.add(Dense(1))\n",
    "model.compile(optimizer='adam',loss='mean_squared_error',metrics=['accuracy'])"
   ]
  },
  {
   "cell_type": "code",
   "execution_count": 13,
   "metadata": {},
   "outputs": [
    {
     "name": "stderr",
     "output_type": "stream",
     "text": [
      "WARNING: Logging before flag parsing goes to stderr.\n",
      "W0325 22:54:03.409914 12496 deprecation_wrapper.py:119] From C:\\Users\\admin\\Anaconda3\\lib\\site-packages\\keras\\backend\\tensorflow_backend.py:422: The name tf.global_variables is deprecated. Please use tf.compat.v1.global_variables instead.\n",
      "\n"
     ]
    },
    {
     "name": "stdout",
     "output_type": "stream",
     "text": [
      "Train on 1274 samples, validate on 319 samples\n",
      "Epoch 1/100\n",
      "1274/1274 [==============================] - 5s 4ms/step - loss: 1469.2912 - accuracy: 0.0000e+00 - val_loss: 27.3281 - val_accuracy: 0.0000e+00\n",
      "Epoch 2/100\n",
      "1274/1274 [==============================] - 2s 2ms/step - loss: 597.0698 - accuracy: 0.0000e+00 - val_loss: 19.0325 - val_accuracy: 0.0000e+00\n",
      "Epoch 3/100\n",
      "1274/1274 [==============================] - 2s 2ms/step - loss: 102.9750 - accuracy: 0.0000e+00 - val_loss: 30.8408 - val_accuracy: 0.0000e+00\n",
      "Epoch 4/100\n",
      "1274/1274 [==============================] - 2s 2ms/step - loss: 540.6303 - accuracy: 0.0000e+00 - val_loss: 10.1299 - val_accuracy: 0.0000e+00\n",
      "Epoch 5/100\n",
      "1274/1274 [==============================] - 2s 2ms/step - loss: 39.5965 - accuracy: 0.0000e+00 - val_loss: 11.0327 - val_accuracy: 0.0000e+00\n",
      "Epoch 6/100\n",
      "1274/1274 [==============================] - 2s 2ms/step - loss: 24.3254 - accuracy: 0.0000e+00 - val_loss: 7.3928 - val_accuracy: 0.0000e+00\n",
      "Epoch 7/100\n",
      "1274/1274 [==============================] - 2s 2ms/step - loss: 422.3634 - accuracy: 0.0000e+00 - val_loss: 29.5263 - val_accuracy: 0.0000e+00\n",
      "Epoch 8/100\n",
      "1274/1274 [==============================] - 2s 2ms/step - loss: 691.0779 - accuracy: 0.0000e+00 - val_loss: 14.4448 - val_accuracy: 0.0000e+00\n",
      "Epoch 9/100\n",
      "1274/1274 [==============================] - 2s 2ms/step - loss: 198.8137 - accuracy: 0.0000e+00 - val_loss: 14.8030 - val_accuracy: 0.0000e+00\n",
      "Epoch 10/100\n",
      "1274/1274 [==============================] - 2s 2ms/step - loss: 23.0059 - accuracy: 0.0000e+00 - val_loss: 16.0696 - val_accuracy: 0.0000e+00\n",
      "Epoch 11/100\n",
      "1274/1274 [==============================] - 2s 2ms/step - loss: 15.0808 - accuracy: 0.0000e+00 - val_loss: 7.3903 - val_accuracy: 0.0000e+00\n",
      "Epoch 12/100\n",
      "1274/1274 [==============================] - 2s 2ms/step - loss: 32.1114 - accuracy: 0.0000e+00 - val_loss: 5.3653 - val_accuracy: 0.0000e+00\n",
      "Epoch 13/100\n",
      "1274/1274 [==============================] - 2s 2ms/step - loss: 4.4209 - accuracy: 0.0000e+00 - val_loss: 4.2473 - val_accuracy: 0.0000e+00\n",
      "Epoch 14/100\n",
      "1274/1274 [==============================] - 2s 2ms/step - loss: 8.1111 - accuracy: 0.0000e+00 - val_loss: 3.4924 - val_accuracy: 0.0000e+00\n",
      "Epoch 15/100\n",
      "1274/1274 [==============================] - 2s 2ms/step - loss: 6.3921 - accuracy: 0.0000e+00 - val_loss: 2.1795 - val_accuracy: 0.0000e+00\n",
      "Epoch 16/100\n",
      "1274/1274 [==============================] - 2s 2ms/step - loss: 5.6198 - accuracy: 0.0000e+00 - val_loss: 4.8300 - val_accuracy: 0.0000e+00\n",
      "Epoch 17/100\n",
      "1274/1274 [==============================] - 2s 2ms/step - loss: 6.4298 - accuracy: 0.0000e+00 - val_loss: 5.2541 - val_accuracy: 0.0000e+00\n",
      "Epoch 18/100\n",
      "1274/1274 [==============================] - 2s 2ms/step - loss: 4.9175 - accuracy: 0.0000e+00 - val_loss: 4.0991 - val_accuracy: 0.0000e+00\n",
      "Epoch 19/100\n",
      "1274/1274 [==============================] - 2s 2ms/step - loss: 5.3146 - accuracy: 0.0000e+00 - val_loss: 2.6488 - val_accuracy: 0.0000e+00\n",
      "Epoch 20/100\n",
      "1274/1274 [==============================] - 2s 2ms/step - loss: 2.2839 - accuracy: 0.0000e+00 - val_loss: 2.7616 - val_accuracy: 0.0000e+00\n",
      "Epoch 21/100\n",
      "1274/1274 [==============================] - 2s 2ms/step - loss: 2.3321 - accuracy: 0.0000e+00 - val_loss: 1.8628 - val_accuracy: 0.0000e+00\n",
      "Epoch 22/100\n",
      "1274/1274 [==============================] - 2s 2ms/step - loss: 1.7282 - accuracy: 0.0000e+00 - val_loss: 1.4213 - val_accuracy: 0.0000e+00\n",
      "Epoch 23/100\n",
      "1274/1274 [==============================] - 2s 2ms/step - loss: 1.4791 - accuracy: 0.0000e+00 - val_loss: 1.5950 - val_accuracy: 0.0000e+00\n",
      "Epoch 24/100\n",
      "1274/1274 [==============================] - 2s 2ms/step - loss: 3.3507 - accuracy: 0.0000e+00 - val_loss: 3.8518 - val_accuracy: 0.0000e+00\n",
      "Epoch 25/100\n",
      "1274/1274 [==============================] - 2s 2ms/step - loss: 8.5376 - accuracy: 0.0000e+00 - val_loss: 2.7038 - val_accuracy: 0.0000e+00\n",
      "Epoch 26/100\n",
      "1274/1274 [==============================] - 2s 2ms/step - loss: 2.4849 - accuracy: 0.0000e+00 - val_loss: 1.0842 - val_accuracy: 0.0000e+00\n",
      "Epoch 27/100\n",
      "1274/1274 [==============================] - 2s 2ms/step - loss: 7.5880 - accuracy: 0.0000e+00 - val_loss: 2.6691 - val_accuracy: 0.0000e+00\n",
      "Epoch 28/100\n",
      "1274/1274 [==============================] - 2s 2ms/step - loss: 34.1451 - accuracy: 0.0000e+00 - val_loss: 1.3542 - val_accuracy: 0.0000e+00\n",
      "Epoch 29/100\n",
      "1274/1274 [==============================] - 2s 2ms/step - loss: 3.3318 - accuracy: 0.0000e+00 - val_loss: 1.3741 - val_accuracy: 0.0000e+00\n",
      "Epoch 30/100\n",
      "1274/1274 [==============================] - 2s 2ms/step - loss: 1.7766 - accuracy: 0.0000e+00 - val_loss: 1.0466 - val_accuracy: 0.0000e+00\n",
      "Epoch 31/100\n",
      "1274/1274 [==============================] - 2s 2ms/step - loss: 1.1208 - accuracy: 0.0000e+00 - val_loss: 1.2990 - val_accuracy: 0.0000e+00\n",
      "Epoch 32/100\n",
      "1274/1274 [==============================] - 2s 2ms/step - loss: 1.3904 - accuracy: 0.0000e+00 - val_loss: 1.2740 - val_accuracy: 0.0000e+00\n",
      "Epoch 33/100\n",
      "1274/1274 [==============================] - 2s 2ms/step - loss: 1.3897 - accuracy: 0.0000e+00 - val_loss: 0.7915 - val_accuracy: 0.0000e+00\n",
      "Epoch 34/100\n",
      "1274/1274 [==============================] - 2s 2ms/step - loss: 1.8253 - accuracy: 0.0000e+00 - val_loss: 1.3671 - val_accuracy: 0.0000e+00\n",
      "Epoch 35/100\n",
      "1274/1274 [==============================] - 2s 2ms/step - loss: 3.8910 - accuracy: 0.0000e+00 - val_loss: 0.6071 - val_accuracy: 0.0000e+00\n",
      "Epoch 36/100\n",
      "1274/1274 [==============================] - 2s 2ms/step - loss: 10.7543 - accuracy: 0.0000e+00 - val_loss: 5.3139 - val_accuracy: 0.0000e+00\n",
      "Epoch 37/100\n",
      "1274/1274 [==============================] - 2s 2ms/step - loss: 8.8357 - accuracy: 0.0000e+00 - val_loss: 1.7285 - val_accuracy: 0.0000e+00\n",
      "Epoch 38/100\n",
      "1274/1274 [==============================] - 2s 2ms/step - loss: 1.7741 - accuracy: 0.0000e+00 - val_loss: 0.5942 - val_accuracy: 0.0000e+00\n",
      "Epoch 39/100\n",
      "1274/1274 [==============================] - 2s 2ms/step - loss: 2.1876 - accuracy: 0.0000e+00 - val_loss: 1.5356 - val_accuracy: 0.0000e+00\n",
      "Epoch 40/100\n",
      "1274/1274 [==============================] - 2s 2ms/step - loss: 1.9175 - accuracy: 0.0000e+00 - val_loss: 1.0400 - val_accuracy: 0.0000e+00\n",
      "Epoch 41/100\n",
      "1274/1274 [==============================] - 2s 2ms/step - loss: 1.3294 - accuracy: 0.0000e+00 - val_loss: 0.9356 - val_accuracy: 0.0000e+00\n",
      "Epoch 42/100\n",
      "1274/1274 [==============================] - 2s 2ms/step - loss: 1.5650 - accuracy: 0.0000e+00 - val_loss: 1.0038 - val_accuracy: 0.0000e+00\n",
      "Epoch 43/100\n",
      "1274/1274 [==============================] - 2s 2ms/step - loss: 7.8250 - accuracy: 0.0000e+00 - val_loss: 1.7781 - val_accuracy: 0.0000e+00\n",
      "Epoch 44/100\n",
      "1274/1274 [==============================] - 2s 2ms/step - loss: 3.9458 - accuracy: 0.0000e+00 - val_loss: 6.5524 - val_accuracy: 0.0000e+00\n",
      "Epoch 45/100\n",
      "1274/1274 [==============================] - 2s 2ms/step - loss: 5.7256 - accuracy: 0.0000e+00 - val_loss: 2.9422 - val_accuracy: 0.0000e+00\n",
      "Epoch 46/100\n",
      "1274/1274 [==============================] - 2s 2ms/step - loss: 19.0336 - accuracy: 0.0000e+00 - val_loss: 1.3735 - val_accuracy: 0.0000e+00\n",
      "Epoch 47/100\n",
      "1274/1274 [==============================] - 2s 2ms/step - loss: 1.0137 - accuracy: 0.0000e+00 - val_loss: 0.7135 - val_accuracy: 0.0000e+00\n",
      "Epoch 48/100\n",
      "1274/1274 [==============================] - 2s 2ms/step - loss: 1.5125 - accuracy: 0.0000e+00 - val_loss: 1.2556 - val_accuracy: 0.0000e+00\n",
      "Epoch 49/100\n",
      "1274/1274 [==============================] - 2s 2ms/step - loss: 1.5119 - accuracy: 0.0000e+00 - val_loss: 0.9390 - val_accuracy: 0.0000e+00\n",
      "Epoch 50/100\n",
      "1274/1274 [==============================] - 2s 2ms/step - loss: 0.9991 - accuracy: 0.0000e+00 - val_loss: 0.5099 - val_accuracy: 0.0000e+00\n",
      "Epoch 51/100\n",
      "1274/1274 [==============================] - 2s 2ms/step - loss: 1.6119 - accuracy: 0.0000e+00 - val_loss: 0.6025 - val_accuracy: 0.0000e+00\n",
      "Epoch 52/100\n",
      "1274/1274 [==============================] - 2s 2ms/step - loss: 0.8760 - accuracy: 0.0000e+00 - val_loss: 0.7503 - val_accuracy: 0.0000e+00\n",
      "Epoch 53/100\n",
      "1274/1274 [==============================] - 2s 2ms/step - loss: 1.0202 - accuracy: 0.0000e+00 - val_loss: 1.6201 - val_accuracy: 0.0000e+00\n"
     ]
    },
    {
     "name": "stdout",
     "output_type": "stream",
     "text": [
      "Epoch 54/100\n",
      "1274/1274 [==============================] - 2s 2ms/step - loss: 1.8903 - accuracy: 0.0000e+00 - val_loss: 1.0249 - val_accuracy: 0.0000e+00\n",
      "Epoch 55/100\n",
      "1274/1274 [==============================] - 2s 2ms/step - loss: 2.2996 - accuracy: 0.0000e+00 - val_loss: 1.6871 - val_accuracy: 0.0000e+00\n",
      "Epoch 56/100\n",
      "1274/1274 [==============================] - 2s 2ms/step - loss: 2.9586 - accuracy: 0.0000e+00 - val_loss: 0.6935 - val_accuracy: 0.0000e+00\n",
      "Epoch 57/100\n",
      "1274/1274 [==============================] - 2s 2ms/step - loss: 1.1991 - accuracy: 0.0000e+00 - val_loss: 0.4682 - val_accuracy: 0.0000e+00\n",
      "Epoch 58/100\n",
      "1274/1274 [==============================] - 2s 2ms/step - loss: 4.9262 - accuracy: 0.0000e+00 - val_loss: 0.5255 - val_accuracy: 0.0000e+00\n",
      "Epoch 59/100\n",
      "1274/1274 [==============================] - 2s 2ms/step - loss: 1.2286 - accuracy: 0.0000e+00 - val_loss: 0.6990 - val_accuracy: 0.0000e+00\n",
      "Epoch 60/100\n",
      "1274/1274 [==============================] - 2s 2ms/step - loss: 1.5467 - accuracy: 0.0000e+00 - val_loss: 0.6701 - val_accuracy: 0.0000e+00\n",
      "Epoch 61/100\n",
      "1274/1274 [==============================] - 2s 2ms/step - loss: 0.6081 - accuracy: 0.0000e+00 - val_loss: 0.4599 - val_accuracy: 0.0000e+00\n",
      "Epoch 62/100\n",
      "1274/1274 [==============================] - 2s 2ms/step - loss: 0.6035 - accuracy: 0.0000e+00 - val_loss: 0.4317 - val_accuracy: 0.0000e+00\n",
      "Epoch 63/100\n",
      "1274/1274 [==============================] - 2s 2ms/step - loss: 0.4724 - accuracy: 0.0000e+00 - val_loss: 0.4089 - val_accuracy: 0.0000e+00\n",
      "Epoch 64/100\n",
      "1274/1274 [==============================] - 2s 2ms/step - loss: 0.4226 - accuracy: 0.0000e+00 - val_loss: 0.3879 - val_accuracy: 0.0000e+00\n",
      "Epoch 65/100\n",
      "1274/1274 [==============================] - 2s 2ms/step - loss: 0.4131 - accuracy: 0.0000e+00 - val_loss: 0.4057 - val_accuracy: 0.0000e+00\n",
      "Epoch 66/100\n",
      "1274/1274 [==============================] - 2s 2ms/step - loss: 0.4389 - accuracy: 0.0000e+00 - val_loss: 0.4055 - val_accuracy: 0.0000e+00\n",
      "Epoch 67/100\n",
      "1274/1274 [==============================] - 2s 2ms/step - loss: 0.4446 - accuracy: 0.0000e+00 - val_loss: 0.4423 - val_accuracy: 0.0000e+00\n",
      "Epoch 68/100\n",
      "1274/1274 [==============================] - 2s 2ms/step - loss: 0.4129 - accuracy: 0.0000e+00 - val_loss: 0.3868 - val_accuracy: 0.0000e+00\n",
      "Epoch 69/100\n",
      "1274/1274 [==============================] - 2s 2ms/step - loss: 0.4153 - accuracy: 0.0000e+00 - val_loss: 0.4036 - val_accuracy: 0.0000e+00\n",
      "Epoch 70/100\n",
      "1274/1274 [==============================] - 2s 2ms/step - loss: 0.4059 - accuracy: 0.0000e+00 - val_loss: 0.4006 - val_accuracy: 0.0000e+00\n",
      "Epoch 71/100\n",
      "1274/1274 [==============================] - 2s 2ms/step - loss: 0.4001 - accuracy: 0.0000e+00 - val_loss: 0.3908 - val_accuracy: 0.0000e+00\n",
      "Epoch 72/100\n",
      "1274/1274 [==============================] - 2s 2ms/step - loss: 0.4199 - accuracy: 0.0000e+00 - val_loss: 0.3794 - val_accuracy: 0.0000e+00\n",
      "Epoch 73/100\n",
      "1274/1274 [==============================] - 2s 2ms/step - loss: 0.3869 - accuracy: 0.0000e+00 - val_loss: 0.4055 - val_accuracy: 0.0000e+00\n",
      "Epoch 74/100\n",
      "1274/1274 [==============================] - 2s 2ms/step - loss: 0.3962 - accuracy: 0.0000e+00 - val_loss: 0.3792 - val_accuracy: 0.0000e+00\n",
      "Epoch 75/100\n",
      "1274/1274 [==============================] - 2s 2ms/step - loss: 0.3811 - accuracy: 0.0000e+00 - val_loss: 0.4821 - val_accuracy: 0.0000e+00\n",
      "Epoch 76/100\n",
      "1274/1274 [==============================] - 2s 2ms/step - loss: 0.4036 - accuracy: 0.0000e+00 - val_loss: 0.3957 - val_accuracy: 0.0000e+00\n",
      "Epoch 77/100\n",
      "1274/1274 [==============================] - 2s 2ms/step - loss: 0.3642 - accuracy: 0.0000e+00 - val_loss: 0.4226 - val_accuracy: 0.0000e+00\n",
      "Epoch 78/100\n",
      "1274/1274 [==============================] - 2s 2ms/step - loss: 0.3602 - accuracy: 0.0000e+00 - val_loss: 0.8330 - val_accuracy: 0.0000e+00\n",
      "Epoch 79/100\n",
      "1274/1274 [==============================] - 2s 2ms/step - loss: 0.3987 - accuracy: 0.0000e+00 - val_loss: 0.3626 - val_accuracy: 0.0000e+00\n",
      "Epoch 80/100\n",
      "1274/1274 [==============================] - 2s 2ms/step - loss: 0.3675 - accuracy: 0.0000e+00 - val_loss: 0.7479 - val_accuracy: 0.0000e+00\n",
      "Epoch 81/100\n",
      "1274/1274 [==============================] - 2s 2ms/step - loss: 0.3801 - accuracy: 0.0000e+00 - val_loss: 0.3493 - val_accuracy: 0.0000e+00\n",
      "Epoch 82/100\n",
      "1274/1274 [==============================] - 2s 2ms/step - loss: 0.4081 - accuracy: 0.0000e+00 - val_loss: 0.3956 - val_accuracy: 0.0000e+00\n",
      "Epoch 83/100\n",
      "1274/1274 [==============================] - 2s 2ms/step - loss: 0.4259 - accuracy: 0.0000e+00 - val_loss: 0.4230 - val_accuracy: 0.0000e+00\n",
      "Epoch 84/100\n",
      "1274/1274 [==============================] - 2s 2ms/step - loss: 0.3670 - accuracy: 0.0000e+00 - val_loss: 0.4107 - val_accuracy: 0.0000e+00\n",
      "Epoch 85/100\n",
      "1274/1274 [==============================] - 2s 2ms/step - loss: 0.3691 - accuracy: 0.0000e+00 - val_loss: 0.5122 - val_accuracy: 0.0000e+00\n",
      "Epoch 86/100\n",
      "1274/1274 [==============================] - 2s 2ms/step - loss: 0.3681 - accuracy: 0.0000e+00 - val_loss: 0.3682 - val_accuracy: 0.0000e+00\n",
      "Epoch 87/100\n",
      "1274/1274 [==============================] - 2s 2ms/step - loss: 0.3566 - accuracy: 0.0000e+00 - val_loss: 0.6577 - val_accuracy: 0.0000e+00\n",
      "Epoch 88/100\n",
      "1274/1274 [==============================] - 2s 2ms/step - loss: 0.3662 - accuracy: 0.0000e+00 - val_loss: 0.4458 - val_accuracy: 0.0000e+00\n",
      "Epoch 89/100\n",
      "1274/1274 [==============================] - 2s 2ms/step - loss: 0.3349 - accuracy: 0.0000e+00 - val_loss: 0.4272 - val_accuracy: 0.0000e+00\n",
      "Epoch 90/100\n",
      "1274/1274 [==============================] - 2s 2ms/step - loss: 0.3532 - accuracy: 0.0000e+00 - val_loss: 0.3410 - val_accuracy: 0.0000e+00\n",
      "Epoch 91/100\n",
      "1274/1274 [==============================] - 2s 2ms/step - loss: 0.3599 - accuracy: 0.0000e+00 - val_loss: 0.3585 - val_accuracy: 0.0000e+00\n",
      "Epoch 92/100\n",
      "1274/1274 [==============================] - 2s 2ms/step - loss: 0.4149 - accuracy: 0.0000e+00 - val_loss: 0.6936 - val_accuracy: 0.0000e+00\n",
      "Epoch 93/100\n",
      "1274/1274 [==============================] - 2s 2ms/step - loss: 0.3447 - accuracy: 0.0000e+00 - val_loss: 0.4154 - val_accuracy: 0.0000e+00\n",
      "Epoch 94/100\n",
      "1274/1274 [==============================] - 2s 2ms/step - loss: 0.7239 - accuracy: 0.0000e+00 - val_loss: 0.6683 - val_accuracy: 0.0000e+00\n",
      "Epoch 95/100\n",
      "1274/1274 [==============================] - 2s 2ms/step - loss: 1.5410 - accuracy: 0.0000e+00 - val_loss: 0.4197 - val_accuracy: 0.0000e+00\n",
      "Epoch 96/100\n",
      "1274/1274 [==============================] - 2s 2ms/step - loss: 0.4826 - accuracy: 0.0000e+00 - val_loss: 0.4916 - val_accuracy: 0.0000e+00\n",
      "Epoch 97/100\n",
      "1274/1274 [==============================] - 2s 2ms/step - loss: 1.8044 - accuracy: 0.0000e+00 - val_loss: 0.4687 - val_accuracy: 0.0000e+00\n",
      "Epoch 98/100\n",
      "1274/1274 [==============================] - 2s 2ms/step - loss: 0.5272 - accuracy: 0.0000e+00 - val_loss: 0.3823 - val_accuracy: 0.0000e+00\n",
      "Epoch 99/100\n",
      "1274/1274 [==============================] - 2s 2ms/step - loss: 0.3385 - accuracy: 0.0000e+00 - val_loss: 0.4052 - val_accuracy: 0.0000e+00\n",
      "Epoch 100/100\n",
      "1274/1274 [==============================] - 2s 2ms/step - loss: 0.3260 - accuracy: 0.0000e+00 - val_loss: 0.4461 - val_accuracy: 0.0000e+00\n"
     ]
    },
    {
     "data": {
      "image/png": "[encoded data removed]",
      "text/plain": [
       "<Figure size 432x288 with 1 Axes>"
      ]
     },
     "metadata": {
      "needs_background": "light"
     },
     "output_type": "display_data"
    }
   ],
   "source": [
    "history = model.fit(X_train, Y_train_price,validation_split = 0.2, epochs=100, batch_size=5)\n",
    "plt.plot(history.history['accuracy'])\n",
    "plt.plot(history.history['val_accuracy'])\n",
    "plt.title('model accuracy')\n",
    "plt.ylabel('accuracy')\n",
    "plt.xlabel('epoch')\n",
    "plt.legend(['train', 'val'], loc='upper left')\n",
    "plt.show()"
   ]
  },
  {
   "cell_type": "code",
   "execution_count": 14,
   "metadata": {},
   "outputs": [
    {
     "data": {
      "image/png": "[encoded data removed]",
      "text/plain": [
       "<Figure size 432x288 with 1 Axes>"
      ]
     },
     "metadata": {
      "needs_background": "light"
     },
     "output_type": "display_data"
    }
   ],
   "source": [
    "plt.plot(history.history['loss'])\n",
    "plt.plot(history.history['val_loss'])\n",
    "plt.title('model loss')\n",
    "plt.ylabel('loss')\n",
    "plt.xlabel('epoch')\n",
    "plt.legend(['train', 'val'], loc='upper left')\n",
    "plt.show()"
   ]
  },
  {
   "cell_type": "markdown",
   "metadata": {},
   "source": [
    "<h1>Prediction of the monthly prices</h1>"
   ]
  },
  {
   "cell_type": "markdown",
   "metadata": {},
   "source": [
    "<h2>Linear Regression</h2>"
   ]
  },
  {
   "cell_type": "code",
   "execution_count": 15,
   "metadata": {},
   "outputs": [],
   "source": [
    "from sklearn.linear_model import LinearRegression\n",
    "from sklearn.model_selection import train_test_split    \n",
    "\n",
    "model=LinearRegression()         \n",
    "\n",
    "X_train, X_test, Y_train_monthly, Y_test_monthly = train_test_split(x, y2_monthly.values.ravel(), test_size=0.2)    \n",
    "\n",
    "model.fit(X_train, Y_train_monthly)            \n",
    "predictions=model.predict(X_test)"
   ]
  },
  {
   "cell_type": "code",
   "execution_count": 16,
   "metadata": {},
   "outputs": [
    {
     "name": "stdout",
     "output_type": "stream",
     "text": [
      "0.9555005469391975\n"
     ]
    }
   ],
   "source": [
    "print(model.score(X_train, Y_train_monthly))"
   ]
  },
  {
   "cell_type": "markdown",
   "metadata": {},
   "source": [
    "<h2>Random Forest Regressor</h2>"
   ]
  },
  {
   "cell_type": "code",
   "execution_count": 17,
   "metadata": {},
   "outputs": [
    {
     "name": "stderr",
     "output_type": "stream",
     "text": [
      "C:\\Users\\admin\\Anaconda3\\lib\\site-packages\\sklearn\\ensemble\\forest.py:246: FutureWarning: The default value of n_estimators will change from 10 in version 0.20 to 100 in 0.22.\n",
      "  \"10 in version 0.20 to 100 in 0.22.\", FutureWarning)\n"
     ]
    }
   ],
   "source": [
    "from sklearn.ensemble import RandomForestRegressor\n",
    "\n",
    "model = RandomForestRegressor()\n",
    "\n",
    "X_train, X_test, Y_train_monthly, Y_test_monthly = train_test_split(x, y2_monthly.values.ravel(), test_size=0.2)    \n",
    "\n",
    "model.fit(X_train, Y_train_monthly)           \n",
    "predictions=model.predict(X_test)"
   ]
  },
  {
   "cell_type": "code",
   "execution_count": 18,
   "metadata": {},
   "outputs": [
    {
     "name": "stdout",
     "output_type": "stream",
     "text": [
      "0.9040335441452542\n"
     ]
    }
   ],
   "source": [
    "print(model.score(X_train, Y_train_monthly))"
   ]
  },
  {
   "cell_type": "markdown",
   "metadata": {},
   "source": [
    "<h2>Decision Tree Regressor</h2>"
   ]
  },
  {
   "cell_type": "code",
   "execution_count": 19,
   "metadata": {},
   "outputs": [],
   "source": [
    "from sklearn.tree import DecisionTreeRegressor\n",
    "\n",
    "model = DecisionTreeRegressor()\n",
    "\n",
    "X_train, X_test, Y_train_monthly, Y_test_monthly = train_test_split(x, y2_monthly.values.ravel(), test_size=0.2)     \n",
    "\n",
    "model.fit(X_train, Y_train_monthly)            \n",
    "predictions=model.predict(X_test)"
   ]
  },
  {
   "cell_type": "code",
   "execution_count": 20,
   "metadata": {},
   "outputs": [
    {
     "name": "stdout",
     "output_type": "stream",
     "text": [
      "0.9999999998093918\n"
     ]
    }
   ],
   "source": [
    "print(model.score(X_train, Y_train_monthly))"
   ]
  },
  {
   "cell_type": "markdown",
   "metadata": {},
   "source": [
    "<h2>Regression using Keras</h2>"
   ]
  },
  {
   "cell_type": "code",
   "execution_count": 21,
   "metadata": {},
   "outputs": [],
   "source": [
    "import matplotlib.pyplot as plt\n",
    "from keras.layers import Dense\n",
    "from keras.models import Sequential\n",
    "from keras.callbacks import EarlyStopping\n",
    "\n",
    "X_train, X_test, Y_train_monthly, Y_test_monthly = train_test_split(x, y2_monthly.values.ravel(), test_size=0.2)    \n",
    "\n",
    "model = Sequential()\n",
    "n_cols = x.shape[1]\n",
    "model.add(Dense(100,activation='relu',input_shape=(n_cols,)))\n",
    "model.add(Dense(120,activation='relu'))\n",
    "model.add(Dense(130,activation='relu'))\n",
    "model.add(Dense(120,activation='relu'))\n",
    "model.add(Dense(120,activation='relu'))\n",
    "model.add(Dense(120,activation='relu'))\n",
    "model.add(Dense(120,activation='relu'))\n",
    "model.add(Dense(120,activation='relu'))\n",
    "model.add(Dense(1))\n",
    "model.compile(optimizer='adam',loss='mean_squared_error',metrics=['accuracy'])"
   ]
  },
  {
   "cell_type": "code",
   "execution_count": 22,
   "metadata": {},
   "outputs": [
    {
     "name": "stdout",
     "output_type": "stream",
     "text": [
      "Train on 1274 samples, validate on 319 samples\n",
      "Epoch 1/6\n",
      "1274/1274 [==============================] - 2s 2ms/step - loss: 732.6291 - accuracy: 0.0000e+00 - val_loss: 30.1995 - val_accuracy: 0.0000e+00\n",
      "Epoch 2/6\n",
      "1274/1274 [==============================] - 2s 2ms/step - loss: 441.5832 - accuracy: 0.0000e+00 - val_loss: 39.2631 - val_accuracy: 0.0000e+00\n",
      "Epoch 3/6\n",
      "1274/1274 [==============================] - 2s 2ms/step - loss: 115.5648 - accuracy: 0.0000e+00 - val_loss: 4.0530 - val_accuracy: 0.0000e+00\n",
      "Epoch 4/6\n",
      "1274/1274 [==============================] - 2s 2ms/step - loss: 28.9201 - accuracy: 0.0000e+00 - val_loss: 14.5652 - val_accuracy: 0.0000e+00\n",
      "Epoch 5/6\n",
      "1274/1274 [==============================] - 2s 2ms/step - loss: 16.4366 - accuracy: 0.0000e+00 - val_loss: 95.7523 - val_accuracy: 0.0000e+00\n",
      "Epoch 6/6\n",
      "1274/1274 [==============================] - 2s 2ms/step - loss: 28.5709 - accuracy: 0.0000e+00 - val_loss: 2.3076 - val_accuracy: 0.0000e+00\n"
     ]
    },
    {
     "data": {
      "image/png": "[encoded data removed]",
      "text/plain": [
       "<Figure size 432x288 with 1 Axes>"
      ]
     },
     "metadata": {
      "needs_background": "light"
     },
     "output_type": "display_data"
    }
   ],
   "source": [
    "history = model.fit(X_train, Y_train_monthly,validation_split = 0.2, epochs=6, batch_size=5)\n",
    "plt.plot(history.history['accuracy'])\n",
    "plt.plot(history.history['val_accuracy'])\n",
    "plt.title('model accuracy')\n",
    "plt.ylabel('accuracy')\n",
    "plt.xlabel('epoch')\n",
    "plt.legend(['train', 'val'], loc='upper left')\n",
    "plt.show()"
   ]
  },
  {
   "cell_type": "code",
   "execution_count": 23,
   "metadata": {},
   "outputs": [
    {
     "data": {
      "image/png": "[encoded data removed]",
      "text/plain": [
       "<Figure size 432x288 with 1 Axes>"
      ]
     },
     "metadata": {
      "needs_background": "light"
     },
     "output_type": "display_data"
    }
   ],
   "source": [
    "plt.plot(history.history['loss'])\n",
    "plt.plot(history.history['val_loss'])\n",
    "plt.title('model loss')\n",
    "plt.ylabel('loss')\n",
    "plt.xlabel('epoch')\n",
    "plt.legend(['train', 'val'], loc='upper left')\n",
    "plt.show()"
   ]
  }
 ],
 "metadata": {
  "kernelspec": {
   "display_name": "Python 3",
   "language": "python",
   "name": "python3"
  },
  "language_info": {
   "codemirror_mode": {
    "name": "ipython",
    "version": 3
   },
   "file_extension": ".py",
   "mimetype": "text/x-python",
   "name": "python",
   "nbconvert_exporter": "python",
   "pygments_lexer": "ipython3",
   "version": "3.7.3"
  }
 },
 "nbformat": 4,
 "nbformat_minor": 2
}
